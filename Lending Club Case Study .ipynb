{
 "cells": [
  {
   "cell_type": "code",
   "execution_count": 1,
   "id": "a4ee8b1c",
   "metadata": {},
   "outputs": [],
   "source": [
    "import pandas as pd \n",
    "import numpy as np\n",
    "import matplotlib.pyplot as plt \n",
    "import seaborn as sns \n",
    "import datetime as dt \n",
    "import warnings "
   ]
  },
  {
   "cell_type": "code",
   "execution_count": 2,
   "id": "cffa3c34",
   "metadata": {},
   "outputs": [],
   "source": [
    "# Loading the data \n",
    "\n",
    "loan_df = pd.read_csv('loan.csv', low_memory=False)"
   ]
  },
  {
   "cell_type": "code",
   "execution_count": null,
   "id": "50d6824a",
   "metadata": {},
   "outputs": [],
   "source": [
    "#1 Data Cleaning\n",
    "\n",
    "#1.1 Check if the headers or footers have bad details and eliminate them.\n"
   ]
  },
  {
   "cell_type": "code",
   "execution_count": 3,
   "id": "866d0906",
   "metadata": {
    "scrolled": true
   },
   "outputs": [
    {
     "data": {
      "text/html": [
       "<div>\n",
       "<style scoped>\n",
       "    .dataframe tbody tr th:only-of-type {\n",
       "        vertical-align: middle;\n",
       "    }\n",
       "\n",
       "    .dataframe tbody tr th {\n",
       "        vertical-align: top;\n",
       "    }\n",
       "\n",
       "    .dataframe thead th {\n",
       "        text-align: right;\n",
       "    }\n",
       "</style>\n",
       "<table border=\"1\" class=\"dataframe\">\n",
       "  <thead>\n",
       "    <tr style=\"text-align: right;\">\n",
       "      <th></th>\n",
       "      <th>id</th>\n",
       "      <th>member_id</th>\n",
       "      <th>loan_amnt</th>\n",
       "      <th>funded_amnt</th>\n",
       "      <th>funded_amnt_inv</th>\n",
       "      <th>term</th>\n",
       "      <th>int_rate</th>\n",
       "      <th>installment</th>\n",
       "      <th>grade</th>\n",
       "      <th>sub_grade</th>\n",
       "      <th>...</th>\n",
       "      <th>num_tl_90g_dpd_24m</th>\n",
       "      <th>num_tl_op_past_12m</th>\n",
       "      <th>pct_tl_nvr_dlq</th>\n",
       "      <th>percent_bc_gt_75</th>\n",
       "      <th>pub_rec_bankruptcies</th>\n",
       "      <th>tax_liens</th>\n",
       "      <th>tot_hi_cred_lim</th>\n",
       "      <th>total_bal_ex_mort</th>\n",
       "      <th>total_bc_limit</th>\n",
       "      <th>total_il_high_credit_limit</th>\n",
       "    </tr>\n",
       "  </thead>\n",
       "  <tbody>\n",
       "    <tr>\n",
       "      <th>0</th>\n",
       "      <td>1077501</td>\n",
       "      <td>1296599</td>\n",
       "      <td>5000</td>\n",
       "      <td>5000</td>\n",
       "      <td>4975.0</td>\n",
       "      <td>36 months</td>\n",
       "      <td>10.65%</td>\n",
       "      <td>162.87</td>\n",
       "      <td>B</td>\n",
       "      <td>B2</td>\n",
       "      <td>...</td>\n",
       "      <td>NaN</td>\n",
       "      <td>NaN</td>\n",
       "      <td>NaN</td>\n",
       "      <td>NaN</td>\n",
       "      <td>0.0</td>\n",
       "      <td>0.0</td>\n",
       "      <td>NaN</td>\n",
       "      <td>NaN</td>\n",
       "      <td>NaN</td>\n",
       "      <td>NaN</td>\n",
       "    </tr>\n",
       "    <tr>\n",
       "      <th>1</th>\n",
       "      <td>1077430</td>\n",
       "      <td>1314167</td>\n",
       "      <td>2500</td>\n",
       "      <td>2500</td>\n",
       "      <td>2500.0</td>\n",
       "      <td>60 months</td>\n",
       "      <td>15.27%</td>\n",
       "      <td>59.83</td>\n",
       "      <td>C</td>\n",
       "      <td>C4</td>\n",
       "      <td>...</td>\n",
       "      <td>NaN</td>\n",
       "      <td>NaN</td>\n",
       "      <td>NaN</td>\n",
       "      <td>NaN</td>\n",
       "      <td>0.0</td>\n",
       "      <td>0.0</td>\n",
       "      <td>NaN</td>\n",
       "      <td>NaN</td>\n",
       "      <td>NaN</td>\n",
       "      <td>NaN</td>\n",
       "    </tr>\n",
       "    <tr>\n",
       "      <th>2</th>\n",
       "      <td>1077175</td>\n",
       "      <td>1313524</td>\n",
       "      <td>2400</td>\n",
       "      <td>2400</td>\n",
       "      <td>2400.0</td>\n",
       "      <td>36 months</td>\n",
       "      <td>15.96%</td>\n",
       "      <td>84.33</td>\n",
       "      <td>C</td>\n",
       "      <td>C5</td>\n",
       "      <td>...</td>\n",
       "      <td>NaN</td>\n",
       "      <td>NaN</td>\n",
       "      <td>NaN</td>\n",
       "      <td>NaN</td>\n",
       "      <td>0.0</td>\n",
       "      <td>0.0</td>\n",
       "      <td>NaN</td>\n",
       "      <td>NaN</td>\n",
       "      <td>NaN</td>\n",
       "      <td>NaN</td>\n",
       "    </tr>\n",
       "    <tr>\n",
       "      <th>3</th>\n",
       "      <td>1076863</td>\n",
       "      <td>1277178</td>\n",
       "      <td>10000</td>\n",
       "      <td>10000</td>\n",
       "      <td>10000.0</td>\n",
       "      <td>36 months</td>\n",
       "      <td>13.49%</td>\n",
       "      <td>339.31</td>\n",
       "      <td>C</td>\n",
       "      <td>C1</td>\n",
       "      <td>...</td>\n",
       "      <td>NaN</td>\n",
       "      <td>NaN</td>\n",
       "      <td>NaN</td>\n",
       "      <td>NaN</td>\n",
       "      <td>0.0</td>\n",
       "      <td>0.0</td>\n",
       "      <td>NaN</td>\n",
       "      <td>NaN</td>\n",
       "      <td>NaN</td>\n",
       "      <td>NaN</td>\n",
       "    </tr>\n",
       "    <tr>\n",
       "      <th>4</th>\n",
       "      <td>1075358</td>\n",
       "      <td>1311748</td>\n",
       "      <td>3000</td>\n",
       "      <td>3000</td>\n",
       "      <td>3000.0</td>\n",
       "      <td>60 months</td>\n",
       "      <td>12.69%</td>\n",
       "      <td>67.79</td>\n",
       "      <td>B</td>\n",
       "      <td>B5</td>\n",
       "      <td>...</td>\n",
       "      <td>NaN</td>\n",
       "      <td>NaN</td>\n",
       "      <td>NaN</td>\n",
       "      <td>NaN</td>\n",
       "      <td>0.0</td>\n",
       "      <td>0.0</td>\n",
       "      <td>NaN</td>\n",
       "      <td>NaN</td>\n",
       "      <td>NaN</td>\n",
       "      <td>NaN</td>\n",
       "    </tr>\n",
       "  </tbody>\n",
       "</table>\n",
       "<p>5 rows × 111 columns</p>\n",
       "</div>"
      ],
      "text/plain": [
       "        id  member_id  loan_amnt  funded_amnt  funded_amnt_inv        term  \\\n",
       "0  1077501    1296599       5000         5000           4975.0   36 months   \n",
       "1  1077430    1314167       2500         2500           2500.0   60 months   \n",
       "2  1077175    1313524       2400         2400           2400.0   36 months   \n",
       "3  1076863    1277178      10000        10000          10000.0   36 months   \n",
       "4  1075358    1311748       3000         3000           3000.0   60 months   \n",
       "\n",
       "  int_rate  installment grade sub_grade  ... num_tl_90g_dpd_24m  \\\n",
       "0   10.65%       162.87     B        B2  ...                NaN   \n",
       "1   15.27%        59.83     C        C4  ...                NaN   \n",
       "2   15.96%        84.33     C        C5  ...                NaN   \n",
       "3   13.49%       339.31     C        C1  ...                NaN   \n",
       "4   12.69%        67.79     B        B5  ...                NaN   \n",
       "\n",
       "  num_tl_op_past_12m pct_tl_nvr_dlq  percent_bc_gt_75 pub_rec_bankruptcies  \\\n",
       "0                NaN            NaN               NaN                  0.0   \n",
       "1                NaN            NaN               NaN                  0.0   \n",
       "2                NaN            NaN               NaN                  0.0   \n",
       "3                NaN            NaN               NaN                  0.0   \n",
       "4                NaN            NaN               NaN                  0.0   \n",
       "\n",
       "  tax_liens tot_hi_cred_lim total_bal_ex_mort total_bc_limit  \\\n",
       "0       0.0             NaN               NaN            NaN   \n",
       "1       0.0             NaN               NaN            NaN   \n",
       "2       0.0             NaN               NaN            NaN   \n",
       "3       0.0             NaN               NaN            NaN   \n",
       "4       0.0             NaN               NaN            NaN   \n",
       "\n",
       "  total_il_high_credit_limit  \n",
       "0                        NaN  \n",
       "1                        NaN  \n",
       "2                        NaN  \n",
       "3                        NaN  \n",
       "4                        NaN  \n",
       "\n",
       "[5 rows x 111 columns]"
      ]
     },
     "execution_count": 3,
     "metadata": {},
     "output_type": "execute_result"
    }
   ],
   "source": [
    "loan_df.head()"
   ]
  },
  {
   "cell_type": "code",
   "execution_count": 4,
   "id": "2cfaab09",
   "metadata": {},
   "outputs": [
    {
     "data": {
      "text/plain": [
       "(39717, 111)"
      ]
     },
     "execution_count": 4,
     "metadata": {},
     "output_type": "execute_result"
    }
   ],
   "source": [
    "loan_df.shape"
   ]
  },
  {
   "cell_type": "code",
   "execution_count": 5,
   "id": "217ebc5f",
   "metadata": {
    "scrolled": true
   },
   "outputs": [
    {
     "data": {
      "text/html": [
       "<div>\n",
       "<style scoped>\n",
       "    .dataframe tbody tr th:only-of-type {\n",
       "        vertical-align: middle;\n",
       "    }\n",
       "\n",
       "    .dataframe tbody tr th {\n",
       "        vertical-align: top;\n",
       "    }\n",
       "\n",
       "    .dataframe thead th {\n",
       "        text-align: right;\n",
       "    }\n",
       "</style>\n",
       "<table border=\"1\" class=\"dataframe\">\n",
       "  <thead>\n",
       "    <tr style=\"text-align: right;\">\n",
       "      <th></th>\n",
       "      <th>id</th>\n",
       "      <th>member_id</th>\n",
       "      <th>loan_amnt</th>\n",
       "      <th>funded_amnt</th>\n",
       "      <th>funded_amnt_inv</th>\n",
       "      <th>term</th>\n",
       "      <th>int_rate</th>\n",
       "      <th>installment</th>\n",
       "      <th>grade</th>\n",
       "      <th>sub_grade</th>\n",
       "      <th>...</th>\n",
       "      <th>num_tl_90g_dpd_24m</th>\n",
       "      <th>num_tl_op_past_12m</th>\n",
       "      <th>pct_tl_nvr_dlq</th>\n",
       "      <th>percent_bc_gt_75</th>\n",
       "      <th>pub_rec_bankruptcies</th>\n",
       "      <th>tax_liens</th>\n",
       "      <th>tot_hi_cred_lim</th>\n",
       "      <th>total_bal_ex_mort</th>\n",
       "      <th>total_bc_limit</th>\n",
       "      <th>total_il_high_credit_limit</th>\n",
       "    </tr>\n",
       "  </thead>\n",
       "  <tbody>\n",
       "    <tr>\n",
       "      <th>39712</th>\n",
       "      <td>92187</td>\n",
       "      <td>92174</td>\n",
       "      <td>2500</td>\n",
       "      <td>2500</td>\n",
       "      <td>1075.0</td>\n",
       "      <td>36 months</td>\n",
       "      <td>8.07%</td>\n",
       "      <td>78.42</td>\n",
       "      <td>A</td>\n",
       "      <td>A4</td>\n",
       "      <td>...</td>\n",
       "      <td>NaN</td>\n",
       "      <td>NaN</td>\n",
       "      <td>NaN</td>\n",
       "      <td>NaN</td>\n",
       "      <td>NaN</td>\n",
       "      <td>NaN</td>\n",
       "      <td>NaN</td>\n",
       "      <td>NaN</td>\n",
       "      <td>NaN</td>\n",
       "      <td>NaN</td>\n",
       "    </tr>\n",
       "    <tr>\n",
       "      <th>39713</th>\n",
       "      <td>90665</td>\n",
       "      <td>90607</td>\n",
       "      <td>8500</td>\n",
       "      <td>8500</td>\n",
       "      <td>875.0</td>\n",
       "      <td>36 months</td>\n",
       "      <td>10.28%</td>\n",
       "      <td>275.38</td>\n",
       "      <td>C</td>\n",
       "      <td>C1</td>\n",
       "      <td>...</td>\n",
       "      <td>NaN</td>\n",
       "      <td>NaN</td>\n",
       "      <td>NaN</td>\n",
       "      <td>NaN</td>\n",
       "      <td>NaN</td>\n",
       "      <td>NaN</td>\n",
       "      <td>NaN</td>\n",
       "      <td>NaN</td>\n",
       "      <td>NaN</td>\n",
       "      <td>NaN</td>\n",
       "    </tr>\n",
       "    <tr>\n",
       "      <th>39714</th>\n",
       "      <td>90395</td>\n",
       "      <td>90390</td>\n",
       "      <td>5000</td>\n",
       "      <td>5000</td>\n",
       "      <td>1325.0</td>\n",
       "      <td>36 months</td>\n",
       "      <td>8.07%</td>\n",
       "      <td>156.84</td>\n",
       "      <td>A</td>\n",
       "      <td>A4</td>\n",
       "      <td>...</td>\n",
       "      <td>NaN</td>\n",
       "      <td>NaN</td>\n",
       "      <td>NaN</td>\n",
       "      <td>NaN</td>\n",
       "      <td>NaN</td>\n",
       "      <td>NaN</td>\n",
       "      <td>NaN</td>\n",
       "      <td>NaN</td>\n",
       "      <td>NaN</td>\n",
       "      <td>NaN</td>\n",
       "    </tr>\n",
       "    <tr>\n",
       "      <th>39715</th>\n",
       "      <td>90376</td>\n",
       "      <td>89243</td>\n",
       "      <td>5000</td>\n",
       "      <td>5000</td>\n",
       "      <td>650.0</td>\n",
       "      <td>36 months</td>\n",
       "      <td>7.43%</td>\n",
       "      <td>155.38</td>\n",
       "      <td>A</td>\n",
       "      <td>A2</td>\n",
       "      <td>...</td>\n",
       "      <td>NaN</td>\n",
       "      <td>NaN</td>\n",
       "      <td>NaN</td>\n",
       "      <td>NaN</td>\n",
       "      <td>NaN</td>\n",
       "      <td>NaN</td>\n",
       "      <td>NaN</td>\n",
       "      <td>NaN</td>\n",
       "      <td>NaN</td>\n",
       "      <td>NaN</td>\n",
       "    </tr>\n",
       "    <tr>\n",
       "      <th>39716</th>\n",
       "      <td>87023</td>\n",
       "      <td>86999</td>\n",
       "      <td>7500</td>\n",
       "      <td>7500</td>\n",
       "      <td>800.0</td>\n",
       "      <td>36 months</td>\n",
       "      <td>13.75%</td>\n",
       "      <td>255.43</td>\n",
       "      <td>E</td>\n",
       "      <td>E2</td>\n",
       "      <td>...</td>\n",
       "      <td>NaN</td>\n",
       "      <td>NaN</td>\n",
       "      <td>NaN</td>\n",
       "      <td>NaN</td>\n",
       "      <td>NaN</td>\n",
       "      <td>NaN</td>\n",
       "      <td>NaN</td>\n",
       "      <td>NaN</td>\n",
       "      <td>NaN</td>\n",
       "      <td>NaN</td>\n",
       "    </tr>\n",
       "  </tbody>\n",
       "</table>\n",
       "<p>5 rows × 111 columns</p>\n",
       "</div>"
      ],
      "text/plain": [
       "          id  member_id  loan_amnt  funded_amnt  funded_amnt_inv        term  \\\n",
       "39712  92187      92174       2500         2500           1075.0   36 months   \n",
       "39713  90665      90607       8500         8500            875.0   36 months   \n",
       "39714  90395      90390       5000         5000           1325.0   36 months   \n",
       "39715  90376      89243       5000         5000            650.0   36 months   \n",
       "39716  87023      86999       7500         7500            800.0   36 months   \n",
       "\n",
       "      int_rate  installment grade sub_grade  ... num_tl_90g_dpd_24m  \\\n",
       "39712    8.07%        78.42     A        A4  ...                NaN   \n",
       "39713   10.28%       275.38     C        C1  ...                NaN   \n",
       "39714    8.07%       156.84     A        A4  ...                NaN   \n",
       "39715    7.43%       155.38     A        A2  ...                NaN   \n",
       "39716   13.75%       255.43     E        E2  ...                NaN   \n",
       "\n",
       "      num_tl_op_past_12m pct_tl_nvr_dlq  percent_bc_gt_75  \\\n",
       "39712                NaN            NaN               NaN   \n",
       "39713                NaN            NaN               NaN   \n",
       "39714                NaN            NaN               NaN   \n",
       "39715                NaN            NaN               NaN   \n",
       "39716                NaN            NaN               NaN   \n",
       "\n",
       "      pub_rec_bankruptcies tax_liens tot_hi_cred_lim total_bal_ex_mort  \\\n",
       "39712                  NaN       NaN             NaN               NaN   \n",
       "39713                  NaN       NaN             NaN               NaN   \n",
       "39714                  NaN       NaN             NaN               NaN   \n",
       "39715                  NaN       NaN             NaN               NaN   \n",
       "39716                  NaN       NaN             NaN               NaN   \n",
       "\n",
       "      total_bc_limit total_il_high_credit_limit  \n",
       "39712            NaN                        NaN  \n",
       "39713            NaN                        NaN  \n",
       "39714            NaN                        NaN  \n",
       "39715            NaN                        NaN  \n",
       "39716            NaN                        NaN  \n",
       "\n",
       "[5 rows x 111 columns]"
      ]
     },
     "execution_count": 5,
     "metadata": {},
     "output_type": "execute_result"
    }
   ],
   "source": [
    "#To Check if the headers or footers have bad details and eliminate them.\n",
    "\n",
    "loan_df.tail()"
   ]
  },
  {
   "cell_type": "code",
   "execution_count": 6,
   "id": "d568c4ff",
   "metadata": {
    "scrolled": true
   },
   "outputs": [
    {
     "name": "stdout",
     "output_type": "stream",
     "text": [
      "39717\n"
     ]
    }
   ],
   "source": [
    "total_rows = len(loan_df)\n",
    "print(total_rows) "
   ]
  },
  {
   "cell_type": "code",
   "execution_count": 7,
   "id": "dcd77cd4",
   "metadata": {},
   "outputs": [
    {
     "name": "stdout",
     "output_type": "stream",
     "text": [
      "Duplicated Rows:  0\n"
     ]
    }
   ],
   "source": [
    "# Check whether there are any duplicate rows.\n",
    "\n",
    "dupli_rows = len(loan_df[loan_df.duplicated()])\n",
    "print(\"Duplicated Rows: \", round(dupli_rows,2))"
   ]
  },
  {
   "cell_type": "code",
   "execution_count": 8,
   "id": "a5274123",
   "metadata": {},
   "outputs": [
    {
     "name": "stdout",
     "output_type": "stream",
     "text": [
      "Total number of rows after filtering: 38577\n"
     ]
    }
   ],
   "source": [
    "#Dropping the rows where the loan status is current since they will not help us determine whether the client will default or not.\n",
    "\n",
    "loan_df_filtered = loan_df.loc[loan_df['loan_status'] != 'Current']\n",
    "num_rows_filtered = len(loan_df_filtered)\n",
    "print(f\"Total number of rows after filtering: {num_rows_filtered}\")"
   ]
  },
  {
   "cell_type": "code",
   "execution_count": 9,
   "id": "592434c5",
   "metadata": {},
   "outputs": [
    {
     "name": "stdout",
     "output_type": "stream",
     "text": [
      "Number of rows deleted: 1140\n"
     ]
    }
   ],
   "source": [
    "#Deleting the rows\n",
    "deleted_rows = total_rows - len(loan_df_filtered)\n",
    "print(\"Number of rows deleted:\", deleted_rows)"
   ]
  },
  {
   "cell_type": "code",
   "execution_count": 10,
   "id": "34d9143a",
   "metadata": {},
   "outputs": [
    {
     "data": {
      "text/plain": [
       "(38577, 111)"
      ]
     },
     "execution_count": 10,
     "metadata": {},
     "output_type": "execute_result"
    }
   ],
   "source": [
    "#1.2 Deleting the Unwanted Columns \n",
    "loan_df_filtered.shape"
   ]
  },
  {
   "cell_type": "code",
   "execution_count": 11,
   "id": "24c19a38",
   "metadata": {},
   "outputs": [
    {
     "name": "stdout",
     "output_type": "stream",
     "text": [
      "Percentage of null values in filtered dataframe:\n",
      "id                              0.000000\n",
      "member_id                       0.000000\n",
      "loan_amnt                       0.000000\n",
      "funded_amnt                     0.000000\n",
      "funded_amnt_inv                 0.000000\n",
      "                                 ...    \n",
      "tax_liens                       0.101097\n",
      "tot_hi_cred_lim               100.000000\n",
      "total_bal_ex_mort             100.000000\n",
      "total_bc_limit                100.000000\n",
      "total_il_high_credit_limit    100.000000\n",
      "Length: 111, dtype: float64\n"
     ]
    }
   ],
   "source": [
    "# Seeing if there are columns that contains null values \n",
    "\n",
    "null_percentage = loan_df_filtered.isnull().sum() * 100 / len(loan_df_filtered)\n",
    "print(\"Percentage of null values in filtered dataframe:\")\n",
    "print(null_percentage)"
   ]
  },
  {
   "cell_type": "code",
   "execution_count": 12,
   "id": "6fa2e849",
   "metadata": {},
   "outputs": [
    {
     "name": "stdout",
     "output_type": "stream",
     "text": [
      "Total columns with all NA values:  55\n",
      "List of columns with all NA values:\n",
      "['next_pymnt_d', 'mths_since_last_major_derog', 'annual_inc_joint', 'dti_joint', 'verification_status_joint', 'tot_coll_amt', 'tot_cur_bal', 'open_acc_6m', 'open_il_6m', 'open_il_12m', 'open_il_24m', 'mths_since_rcnt_il', 'total_bal_il', 'il_util', 'open_rv_12m', 'open_rv_24m', 'max_bal_bc', 'all_util', 'total_rev_hi_lim', 'inq_fi', 'total_cu_tl', 'inq_last_12m', 'acc_open_past_24mths', 'avg_cur_bal', 'bc_open_to_buy', 'bc_util', 'mo_sin_old_il_acct', 'mo_sin_old_rev_tl_op', 'mo_sin_rcnt_rev_tl_op', 'mo_sin_rcnt_tl', 'mort_acc', 'mths_since_recent_bc', 'mths_since_recent_bc_dlq', 'mths_since_recent_inq', 'mths_since_recent_revol_delinq', 'num_accts_ever_120_pd', 'num_actv_bc_tl', 'num_actv_rev_tl', 'num_bc_sats', 'num_bc_tl', 'num_il_tl', 'num_op_rev_tl', 'num_rev_accts', 'num_rev_tl_bal_gt_0', 'num_sats', 'num_tl_120dpd_2m', 'num_tl_30dpd', 'num_tl_90g_dpd_24m', 'num_tl_op_past_12m', 'pct_tl_nvr_dlq', 'percent_bc_gt_75', 'tot_hi_cred_lim', 'total_bal_ex_mort', 'total_bc_limit', 'total_il_high_credit_limit']\n"
     ]
    }
   ],
   "source": [
    "# Removing the columns that contains all null values and hence of no use\n",
    "na_columns_count = len(loan_df_filtered.columns[loan_df_filtered.isna().all()].tolist())\n",
    "print(\"Total columns with all NA values: \", na_columns_count)\n",
    "na_columns_list = list(loan_df_filtered.columns[loan_df_filtered.isna().all()])\n",
    "print(\"List of columns with all NA values:\")\n",
    "print(na_columns_list)"
   ]
  },
  {
   "cell_type": "code",
   "execution_count": 13,
   "id": "7fdb79c3",
   "metadata": {},
   "outputs": [
    {
     "name": "stdout",
     "output_type": "stream",
     "text": [
      "            id  member_id  loan_amnt  funded_amnt  funded_amnt_inv  \\\n",
      "0      1077501    1296599       5000         5000           4975.0   \n",
      "1      1077430    1314167       2500         2500           2500.0   \n",
      "2      1077175    1313524       2400         2400           2400.0   \n",
      "3      1076863    1277178      10000        10000          10000.0   \n",
      "5      1075269    1311441       5000         5000           5000.0   \n",
      "...        ...        ...        ...          ...              ...   \n",
      "39712    92187      92174       2500         2500           1075.0   \n",
      "39713    90665      90607       8500         8500            875.0   \n",
      "39714    90395      90390       5000         5000           1325.0   \n",
      "39715    90376      89243       5000         5000            650.0   \n",
      "39716    87023      86999       7500         7500            800.0   \n",
      "\n",
      "             term int_rate  installment grade sub_grade  ... last_pymnt_amnt  \\\n",
      "0       36 months   10.65%       162.87     B        B2  ...          171.62   \n",
      "1       60 months   15.27%        59.83     C        C4  ...          119.66   \n",
      "2       36 months   15.96%        84.33     C        C5  ...          649.91   \n",
      "3       36 months   13.49%       339.31     C        C1  ...          357.48   \n",
      "5       36 months    7.90%       156.46     A        A4  ...          161.03   \n",
      "...           ...      ...          ...   ...       ...  ...             ...   \n",
      "39712   36 months    8.07%        78.42     A        A4  ...           80.90   \n",
      "39713   36 months   10.28%       275.38     C        C1  ...          281.94   \n",
      "39714   36 months    8.07%       156.84     A        A4  ...            0.00   \n",
      "39715   36 months    7.43%       155.38     A        A2  ...            0.00   \n",
      "39716   36 months   13.75%       255.43     E        E2  ...          256.59   \n",
      "\n",
      "      last_credit_pull_d collections_12_mths_ex_med  policy_code  \\\n",
      "0                 May-16                        0.0            1   \n",
      "1                 Sep-13                        0.0            1   \n",
      "2                 May-16                        0.0            1   \n",
      "3                 Apr-16                        0.0            1   \n",
      "5                 Jan-16                        0.0            1   \n",
      "...                  ...                        ...          ...   \n",
      "39712             Jun-10                        NaN            1   \n",
      "39713             Jul-10                        NaN            1   \n",
      "39714             Jun-07                        NaN            1   \n",
      "39715             Jun-07                        NaN            1   \n",
      "39716             Jun-10                        NaN            1   \n",
      "\n",
      "      application_type acc_now_delinq chargeoff_within_12_mths delinq_amnt  \\\n",
      "0           INDIVIDUAL              0                      0.0           0   \n",
      "1           INDIVIDUAL              0                      0.0           0   \n",
      "2           INDIVIDUAL              0                      0.0           0   \n",
      "3           INDIVIDUAL              0                      0.0           0   \n",
      "5           INDIVIDUAL              0                      0.0           0   \n",
      "...                ...            ...                      ...         ...   \n",
      "39712       INDIVIDUAL              0                      NaN           0   \n",
      "39713       INDIVIDUAL              0                      NaN           0   \n",
      "39714       INDIVIDUAL              0                      NaN           0   \n",
      "39715       INDIVIDUAL              0                      NaN           0   \n",
      "39716       INDIVIDUAL              0                      NaN           0   \n",
      "\n",
      "      pub_rec_bankruptcies tax_liens  \n",
      "0                      0.0       0.0  \n",
      "1                      0.0       0.0  \n",
      "2                      0.0       0.0  \n",
      "3                      0.0       0.0  \n",
      "5                      0.0       0.0  \n",
      "...                    ...       ...  \n",
      "39712                  NaN       NaN  \n",
      "39713                  NaN       NaN  \n",
      "39714                  NaN       NaN  \n",
      "39715                  NaN       NaN  \n",
      "39716                  NaN       NaN  \n",
      "\n",
      "[38577 rows x 56 columns]\n"
     ]
    }
   ],
   "source": [
    "# Also Deleting the columns which contains values as NA.\n",
    "\n",
    "loan_df_filtered = loan_df_filtered.dropna(axis=1, how=\"all\")\n",
    "print(loan_df_filtered)"
   ]
  },
  {
   "cell_type": "code",
   "execution_count": 14,
   "id": "aeff577d",
   "metadata": {},
   "outputs": [
    {
     "name": "stdout",
     "output_type": "stream",
     "text": [
      "            id  member_id  loan_amnt  funded_amnt  funded_amnt_inv  \\\n",
      "0      1077501    1296599       5000         5000           4975.0   \n",
      "1      1077430    1314167       2500         2500           2500.0   \n",
      "2      1077175    1313524       2400         2400           2400.0   \n",
      "3      1076863    1277178      10000        10000          10000.0   \n",
      "5      1075269    1311441       5000         5000           5000.0   \n",
      "...        ...        ...        ...          ...              ...   \n",
      "39712    92187      92174       2500         2500           1075.0   \n",
      "39713    90665      90607       8500         8500            875.0   \n",
      "39714    90395      90390       5000         5000           1325.0   \n",
      "39715    90376      89243       5000         5000            650.0   \n",
      "39716    87023      86999       7500         7500            800.0   \n",
      "\n",
      "             term int_rate  installment grade sub_grade  ... last_pymnt_amnt  \\\n",
      "0       36 months   10.65%       162.87     B        B2  ...          171.62   \n",
      "1       60 months   15.27%        59.83     C        C4  ...          119.66   \n",
      "2       36 months   15.96%        84.33     C        C5  ...          649.91   \n",
      "3       36 months   13.49%       339.31     C        C1  ...          357.48   \n",
      "5       36 months    7.90%       156.46     A        A4  ...          161.03   \n",
      "...           ...      ...          ...   ...       ...  ...             ...   \n",
      "39712   36 months    8.07%        78.42     A        A4  ...           80.90   \n",
      "39713   36 months   10.28%       275.38     C        C1  ...          281.94   \n",
      "39714   36 months    8.07%       156.84     A        A4  ...            0.00   \n",
      "39715   36 months    7.43%       155.38     A        A2  ...            0.00   \n",
      "39716   36 months   13.75%       255.43     E        E2  ...          256.59   \n",
      "\n",
      "      last_credit_pull_d collections_12_mths_ex_med  policy_code  \\\n",
      "0                 May-16                        0.0            1   \n",
      "1                 Sep-13                        0.0            1   \n",
      "2                 May-16                        0.0            1   \n",
      "3                 Apr-16                        0.0            1   \n",
      "5                 Jan-16                        0.0            1   \n",
      "...                  ...                        ...          ...   \n",
      "39712             Jun-10                        NaN            1   \n",
      "39713             Jul-10                        NaN            1   \n",
      "39714             Jun-07                        NaN            1   \n",
      "39715             Jun-07                        NaN            1   \n",
      "39716             Jun-10                        NaN            1   \n",
      "\n",
      "      application_type acc_now_delinq chargeoff_within_12_mths delinq_amnt  \\\n",
      "0           INDIVIDUAL              0                      0.0           0   \n",
      "1           INDIVIDUAL              0                      0.0           0   \n",
      "2           INDIVIDUAL              0                      0.0           0   \n",
      "3           INDIVIDUAL              0                      0.0           0   \n",
      "5           INDIVIDUAL              0                      0.0           0   \n",
      "...                ...            ...                      ...         ...   \n",
      "39712       INDIVIDUAL              0                      NaN           0   \n",
      "39713       INDIVIDUAL              0                      NaN           0   \n",
      "39714       INDIVIDUAL              0                      NaN           0   \n",
      "39715       INDIVIDUAL              0                      NaN           0   \n",
      "39716       INDIVIDUAL              0                      NaN           0   \n",
      "\n",
      "      pub_rec_bankruptcies tax_liens  \n",
      "0                      0.0       0.0  \n",
      "1                      0.0       0.0  \n",
      "2                      0.0       0.0  \n",
      "3                      0.0       0.0  \n",
      "5                      0.0       0.0  \n",
      "...                    ...       ...  \n",
      "39712                  NaN       NaN  \n",
      "39713                  NaN       NaN  \n",
      "39714                  NaN       NaN  \n",
      "39715                  NaN       NaN  \n",
      "39716                  NaN       NaN  \n",
      "\n",
      "[38577 rows x 56 columns]\n"
     ]
    }
   ],
   "source": [
    "loan_df_filtered = loan_df_filtered.dropna(axis=0, how=\"all\")\n",
    "print(loan_df_filtered)"
   ]
  },
  {
   "cell_type": "code",
   "execution_count": 15,
   "id": "a2675387",
   "metadata": {},
   "outputs": [
    {
     "data": {
      "text/plain": [
       "['id', 'member_id', 'url']"
      ]
     },
     "execution_count": 15,
     "metadata": {},
     "output_type": "execute_result"
    }
   ],
   "source": [
    "#Finding unique columns \n",
    "unique_columns = [col for col in loan_df_filtered.columns if loan_df_filtered[col].nunique() == len(loan_df_filtered)]\n",
    "unique_columns\n",
    "\n",
    "\n"
   ]
  },
  {
   "cell_type": "code",
   "execution_count": 16,
   "id": "55a98fcb",
   "metadata": {},
   "outputs": [],
   "source": [
    "# Deleting this unique columns becuase they will not help in EDA\n",
    "\n",
    "loan_df_filtered.drop(['url','member_id'],axis=1, inplace=True)\n"
   ]
  },
  {
   "cell_type": "code",
   "execution_count": 17,
   "id": "007da6ab",
   "metadata": {},
   "outputs": [
    {
     "data": {
      "text/plain": [
       "(38577, 54)"
      ]
     },
     "execution_count": 17,
     "metadata": {},
     "output_type": "execute_result"
    }
   ],
   "source": [
    "loan_df_filtered.shape"
   ]
  },
  {
   "cell_type": "code",
   "execution_count": 18,
   "id": "4827eedb",
   "metadata": {},
   "outputs": [
    {
     "name": "stdout",
     "output_type": "stream",
     "text": [
      "Shape of DataFrame after dropping columns: (38577, 52)\n"
     ]
    }
   ],
   "source": [
    "#Let's delete the column which is having text/description values as they don't donctribute to EDA.\n",
    "\n",
    "loan_df_filtered = loan_df_filtered.drop(columns=['desc', 'title'])\n",
    "print(\"Shape of DataFrame after dropping columns:\", loan_df_filtered.shape)"
   ]
  },
  {
   "cell_type": "code",
   "execution_count": 19,
   "id": "b450cffd",
   "metadata": {},
   "outputs": [],
   "source": [
    "#We will limit our analysis till group level only. hence deleting the subgroups.\n",
    "\n",
    "loan_df_filtered = loan_df_filtered.drop(['sub_grade'],  axis=1)"
   ]
  },
  {
   "cell_type": "code",
   "execution_count": 20,
   "id": "833a0ca3",
   "metadata": {},
   "outputs": [],
   "source": [
    "#Behavioural data is captured post loan approval and will not be available during the loan approval process. Hence removing these fields.\n",
    "behavioural_cols=['delinq_2yrs', 'earliest_cr_line', 'last_pymnt_amnt','inq_last_6mths', 'open_acc', 'pub_rec', 'revol_bal', 'revol_util', 'total_acc',\n",
    "                          'out_prncp', 'out_prncp_inv', 'total_pymnt','total_pymnt_inv', 'total_rec_prncp',\n",
    "                          'total_rec_int', 'total_rec_late_fee', 'recoveries', 'collection_recovery_fee',\n",
    "                        'application_type','last_pymnt_d','last_credit_pull_d']\n",
    "\n",
    "loan_df_filtered=loan_df_filtered.drop(behavioural_cols,axis=1)"
   ]
  },
  {
   "cell_type": "code",
   "execution_count": 21,
   "id": "5ee153e1",
   "metadata": {},
   "outputs": [
    {
     "data": {
      "text/plain": [
       "tax_liens                         1\n",
       "delinq_amnt                       1\n",
       "chargeoff_within_12_mths          1\n",
       "acc_now_delinq                    1\n",
       "policy_code                       1\n",
       "collections_12_mths_ex_med        1\n",
       "initial_list_status               1\n",
       "pymnt_plan                        1\n",
       "loan_status                       2\n",
       "term                              2\n",
       "verification_status               3\n",
       "pub_rec_bankruptcies              3\n",
       "home_ownership                    5\n",
       "grade                             7\n",
       "emp_length                       11\n",
       "purpose                          14\n",
       "addr_state                       50\n",
       "issue_d                          55\n",
       "mths_since_last_delinq           95\n",
       "mths_since_last_record          111\n",
       "int_rate                        370\n",
       "zip_code                        822\n",
       "loan_amnt                       870\n",
       "funded_amnt                    1019\n",
       "dti                            2853\n",
       "annual_inc                     5215\n",
       "funded_amnt_inv                8050\n",
       "installment                   15022\n",
       "emp_title                     28027\n",
       "id                            38577\n",
       "dtype: int64"
      ]
     },
     "execution_count": 21,
     "metadata": {},
     "output_type": "execute_result"
    }
   ],
   "source": [
    "loan_df_filtered.nunique().sort_values()"
   ]
  },
  {
   "cell_type": "code",
   "execution_count": 22,
   "id": "01f9698d",
   "metadata": {},
   "outputs": [
    {
     "name": "stdout",
     "output_type": "stream",
     "text": [
      "DataFrame after dropping columns with only one unique value:\n",
      "            id  loan_amnt  funded_amnt  funded_amnt_inv        term int_rate  \\\n",
      "0      1077501       5000         5000           4975.0   36 months   10.65%   \n",
      "1      1077430       2500         2500           2500.0   60 months   15.27%   \n",
      "2      1077175       2400         2400           2400.0   36 months   15.96%   \n",
      "3      1076863      10000        10000          10000.0   36 months   13.49%   \n",
      "5      1075269       5000         5000           5000.0   36 months    7.90%   \n",
      "...        ...        ...          ...              ...         ...      ...   \n",
      "39712    92187       2500         2500           1075.0   36 months    8.07%   \n",
      "39713    90665       8500         8500            875.0   36 months   10.28%   \n",
      "39714    90395       5000         5000           1325.0   36 months    8.07%   \n",
      "39715    90376       5000         5000            650.0   36 months    7.43%   \n",
      "39716    87023       7500         7500            800.0   36 months   13.75%   \n",
      "\n",
      "       installment grade                   emp_title emp_length  ...  \\\n",
      "0           162.87     B                         NaN  10+ years  ...   \n",
      "1            59.83     C                       Ryder   < 1 year  ...   \n",
      "2            84.33     C                         NaN  10+ years  ...   \n",
      "3           339.31     C         AIR RESOURCES BOARD  10+ years  ...   \n",
      "5           156.46     A        Veolia Transportaton    3 years  ...   \n",
      "...            ...   ...                         ...        ...  ...   \n",
      "39712        78.42     A             FiSite Research    4 years  ...   \n",
      "39713       275.38     C  Squarewave Solutions, Ltd.    3 years  ...   \n",
      "39714       156.84     A                         NaN   < 1 year  ...   \n",
      "39715       155.38     A                         NaN   < 1 year  ...   \n",
      "39716       255.43     E            Evergreen Center   < 1 year  ...   \n",
      "\n",
      "      verification_status  issue_d  loan_status             purpose zip_code  \\\n",
      "0                Verified   Dec-11   Fully Paid         credit_card    860xx   \n",
      "1         Source Verified   Dec-11  Charged Off                 car    309xx   \n",
      "2            Not Verified   Dec-11   Fully Paid      small_business    606xx   \n",
      "3         Source Verified   Dec-11   Fully Paid               other    917xx   \n",
      "5         Source Verified   Dec-11   Fully Paid             wedding    852xx   \n",
      "...                   ...      ...          ...                 ...      ...   \n",
      "39712        Not Verified   Jul-07   Fully Paid    home_improvement    802xx   \n",
      "39713        Not Verified   Jul-07   Fully Paid         credit_card    274xx   \n",
      "39714        Not Verified   Jul-07   Fully Paid  debt_consolidation    017xx   \n",
      "39715        Not Verified   Jul-07   Fully Paid               other    208xx   \n",
      "39716        Not Verified   Jun-07   Fully Paid  debt_consolidation    027xx   \n",
      "\n",
      "      addr_state    dti mths_since_last_delinq  mths_since_last_record  \\\n",
      "0             AZ  27.65                    NaN                     NaN   \n",
      "1             GA   1.00                    NaN                     NaN   \n",
      "2             IL   8.72                    NaN                     NaN   \n",
      "3             CA  20.00                   35.0                     NaN   \n",
      "5             AZ  11.20                    NaN                     NaN   \n",
      "...          ...    ...                    ...                     ...   \n",
      "39712         CO  11.33                    0.0                     0.0   \n",
      "39713         NC   6.40                    5.0                     0.0   \n",
      "39714         MA   2.30                    0.0                     0.0   \n",
      "39715         MD   3.72                    0.0                     0.0   \n",
      "39716         MA  14.29                   11.0                     0.0   \n",
      "\n",
      "       pub_rec_bankruptcies  \n",
      "0                       0.0  \n",
      "1                       0.0  \n",
      "2                       0.0  \n",
      "3                       0.0  \n",
      "5                       0.0  \n",
      "...                     ...  \n",
      "39712                   NaN  \n",
      "39713                   NaN  \n",
      "39714                   NaN  \n",
      "39715                   NaN  \n",
      "39716                   NaN  \n",
      "\n",
      "[38577 rows x 22 columns]\n"
     ]
    }
   ],
   "source": [
    "#most of the column value is 1 deleting them as well \n",
    "\n",
    "unique_columns = []\n",
    "for column in loan_df_filtered.columns:\n",
    "    if loan_df_filtered[column].nunique(dropna=True) == 1:\n",
    "        unique_columns.append(column)\n",
    "loan_df_filtered = loan_df_filtered.drop(columns=unique_columns)\n",
    "print(\"DataFrame after dropping columns with only one unique value:\")\n",
    "print(loan_df_filtered)\n"
   ]
  },
  {
   "cell_type": "code",
   "execution_count": 23,
   "id": "46500512",
   "metadata": {},
   "outputs": [
    {
     "name": "stdout",
     "output_type": "stream",
     "text": [
      "Shape of DataFrame after dropping columns with >=50% missing values: (38577, 20)\n"
     ]
    }
   ],
   "source": [
    "#Dropping the columns which is having more than 50% of value is null\n",
    "\n",
    "total_rows = len(loan_df_filtered)\n",
    "columns_to_drop = []\n",
    "\n",
    "for column in loan_df_filtered.columns:\n",
    "    if loan_df_filtered[column].isna().mean().round(2) >= 0.50:\n",
    "        columns_to_drop.append(column)\n",
    "\n",
    "loan_df_filtered = loan_df_filtered.drop(columns=columns_to_drop)\n",
    "print(\"Shape of DataFrame after dropping columns with >=50% missing values:\", loan_df_filtered.shape)\n"
   ]
  },
  {
   "cell_type": "code",
   "execution_count": 24,
   "id": "349d966d",
   "metadata": {},
   "outputs": [],
   "source": [
    "#Deleting emp_title as its description or textual informations and doesn't participate in EDA analysis.\n",
    "loan_df_filtered=loan_df_filtered.drop(['emp_title'], axis=1)"
   ]
  },
  {
   "cell_type": "code",
   "execution_count": 25,
   "id": "3cc4b093",
   "metadata": {},
   "outputs": [
    {
     "data": {
      "text/plain": [
       "id                        int64\n",
       "loan_amnt                 int64\n",
       "funded_amnt               int64\n",
       "funded_amnt_inv         float64\n",
       "term                     object\n",
       "int_rate                 object\n",
       "installment             float64\n",
       "grade                    object\n",
       "emp_length               object\n",
       "home_ownership           object\n",
       "annual_inc              float64\n",
       "verification_status      object\n",
       "issue_d                  object\n",
       "loan_status              object\n",
       "purpose                  object\n",
       "zip_code                 object\n",
       "addr_state               object\n",
       "dti                     float64\n",
       "pub_rec_bankruptcies    float64\n",
       "dtype: object"
      ]
     },
     "execution_count": 25,
     "metadata": {},
     "output_type": "execute_result"
    }
   ],
   "source": [
    "#2 Data Conversion\n",
    "\n",
    "loan_df_filtered.dtypes"
   ]
  },
  {
   "cell_type": "code",
   "execution_count": 26,
   "id": "07cf51eb",
   "metadata": {},
   "outputs": [
    {
     "name": "stdout",
     "output_type": "stream",
     "text": [
      " 36 months    29096\n",
      " 60 months     9481\n",
      "Name: term, dtype: int64\n"
     ]
    }
   ],
   "source": [
    "counts = loan_df_filtered['term'].value_counts()\n",
    "print(counts)"
   ]
  },
  {
   "cell_type": "code",
   "execution_count": 27,
   "id": "92e27fd1",
   "metadata": {},
   "outputs": [
    {
     "name": "stdout",
     "output_type": "stream",
     "text": [
      "Data type of 'term' column after cleaning: int64\n"
     ]
    }
   ],
   "source": [
    "#Convert term from string to int\n",
    "\n",
    "loan_df_filtered['term'] = loan_df_filtered['term'].apply(lambda x: int(x.strip().split()[0]))\n",
    "print(\"Data type of 'term' column after cleaning:\", loan_df_filtered['term'].dtype)\n"
   ]
  },
  {
   "cell_type": "code",
   "execution_count": 28,
   "id": "f3eba25c",
   "metadata": {},
   "outputs": [
    {
     "data": {
      "text/plain": [
       "36    29096\n",
       "60     9481\n",
       "Name: term, dtype: int64"
      ]
     },
     "execution_count": 28,
     "metadata": {},
     "output_type": "execute_result"
    }
   ],
   "source": [
    "loan_df_filtered['term'].value_counts()"
   ]
  },
  {
   "cell_type": "code",
   "execution_count": 29,
   "id": "4cc435d4",
   "metadata": {},
   "outputs": [
    {
     "name": "stdout",
     "output_type": "stream",
     "text": [
      "10.99%    913\n",
      "11.49%    790\n",
      "7.51%     787\n",
      "13.49%    749\n",
      "7.88%     725\n",
      "         ... \n",
      "16.96%      1\n",
      "18.36%      1\n",
      "16.15%      1\n",
      "16.01%      1\n",
      "16.20%      1\n",
      "Name: int_rate, Length: 370, dtype: int64\n"
     ]
    }
   ],
   "source": [
    "int_rate_counts = loan_df_filtered['int_rate'].value_counts()\n",
    "print(int_rate_counts)\n"
   ]
  },
  {
   "cell_type": "code",
   "execution_count": 30,
   "id": "85a68102",
   "metadata": {},
   "outputs": [],
   "source": [
    "#Converting int_rate to float\n",
    "\n",
    "loan_df_filtered['int_rate'] = loan_df_filtered['int_rate'].str.rstrip('%').astype(float)\n"
   ]
  },
  {
   "cell_type": "code",
   "execution_count": 31,
   "id": "e9b1978a",
   "metadata": {},
   "outputs": [
    {
     "data": {
      "text/plain": [
       "10.99    913\n",
       "11.49    790\n",
       "7.51     787\n",
       "13.49    749\n",
       "7.88     725\n",
       "        ... \n",
       "16.96      1\n",
       "18.36      1\n",
       "16.15      1\n",
       "16.01      1\n",
       "16.20      1\n",
       "Name: int_rate, Length: 370, dtype: int64"
      ]
     },
     "execution_count": 31,
     "metadata": {},
     "output_type": "execute_result"
    }
   ],
   "source": [
    "loan_df_filtered['int_rate'].value_counts()"
   ]
  },
  {
   "cell_type": "code",
   "execution_count": 32,
   "id": "58d51248",
   "metadata": {},
   "outputs": [
    {
     "name": "stdout",
     "output_type": "stream",
     "text": [
      "            id  loan_amnt  funded_amnt  funded_amnt_inv  term  int_rate  \\\n",
      "0      1077501     5000.0       5000.0           4975.0    36     10.65   \n",
      "1      1077430     2500.0       2500.0           2500.0    60     15.27   \n",
      "2      1077175     2400.0       2400.0           2400.0    36     15.96   \n",
      "3      1076863    10000.0      10000.0          10000.0    36     13.49   \n",
      "5      1075269     5000.0       5000.0           5000.0    36      7.90   \n",
      "...        ...        ...          ...              ...   ...       ...   \n",
      "39712    92187     2500.0       2500.0           1075.0    36      8.07   \n",
      "39713    90665     8500.0       8500.0            875.0    36     10.28   \n",
      "39714    90395     5000.0       5000.0           1325.0    36      8.07   \n",
      "39715    90376     5000.0       5000.0            650.0    36      7.43   \n",
      "39716    87023     7500.0       7500.0            800.0    36     13.75   \n",
      "\n",
      "       installment grade emp_length home_ownership  annual_inc  \\\n",
      "0           162.87     B  10+ years           RENT     24000.0   \n",
      "1            59.83     C   < 1 year           RENT     30000.0   \n",
      "2            84.33     C  10+ years           RENT     12252.0   \n",
      "3           339.31     C  10+ years           RENT     49200.0   \n",
      "5           156.46     A    3 years           RENT     36000.0   \n",
      "...            ...   ...        ...            ...         ...   \n",
      "39712        78.42     A    4 years       MORTGAGE    110000.0   \n",
      "39713       275.38     C    3 years           RENT     18000.0   \n",
      "39714       156.84     A   < 1 year       MORTGAGE    100000.0   \n",
      "39715       155.38     A   < 1 year       MORTGAGE    200000.0   \n",
      "39716       255.43     E   < 1 year            OWN     22000.0   \n",
      "\n",
      "      verification_status issue_d  loan_status             purpose zip_code  \\\n",
      "0                Verified  Dec-11   Fully Paid         credit_card    860xx   \n",
      "1         Source Verified  Dec-11  Charged Off                 car    309xx   \n",
      "2            Not Verified  Dec-11   Fully Paid      small_business    606xx   \n",
      "3         Source Verified  Dec-11   Fully Paid               other    917xx   \n",
      "5         Source Verified  Dec-11   Fully Paid             wedding    852xx   \n",
      "...                   ...     ...          ...                 ...      ...   \n",
      "39712        Not Verified  Jul-07   Fully Paid    home_improvement    802xx   \n",
      "39713        Not Verified  Jul-07   Fully Paid         credit_card    274xx   \n",
      "39714        Not Verified  Jul-07   Fully Paid  debt_consolidation    017xx   \n",
      "39715        Not Verified  Jul-07   Fully Paid               other    208xx   \n",
      "39716        Not Verified  Jun-07   Fully Paid  debt_consolidation    027xx   \n",
      "\n",
      "      addr_state    dti  pub_rec_bankruptcies  \n",
      "0             AZ  27.65                   0.0  \n",
      "1             GA   1.00                   0.0  \n",
      "2             IL   8.72                   0.0  \n",
      "3             CA  20.00                   0.0  \n",
      "5             AZ  11.20                   0.0  \n",
      "...          ...    ...                   ...  \n",
      "39712         CO  11.33                   NaN  \n",
      "39713         NC   6.40                   NaN  \n",
      "39714         MA   2.30                   NaN  \n",
      "39715         MD   3.72                   NaN  \n",
      "39716         MA  14.29                   NaN  \n",
      "\n",
      "[38577 rows x 19 columns]\n"
     ]
    }
   ],
   "source": [
    "#Converting the column loan_funded_amt and funded_amt as flot64\n",
    "\n",
    "loan_df_filtered[['loan_amnt', 'funded_amnt']] = loan_df_filtered[['loan_amnt', 'funded_amnt']].astype(float)\n",
    "print(loan_df_filtered)\n"
   ]
  },
  {
   "cell_type": "code",
   "execution_count": 33,
   "id": "105e8676",
   "metadata": {},
   "outputs": [
    {
     "data": {
      "text/plain": [
       "B    11675\n",
       "A    10045\n",
       "C     7834\n",
       "D     5085\n",
       "E     2663\n",
       "F      976\n",
       "G      299\n",
       "Name: grade, dtype: int64"
      ]
     },
     "execution_count": 33,
     "metadata": {},
     "output_type": "execute_result"
    }
   ],
   "source": [
    "# Checking Grade Datatype \n",
    "\n",
    "loan_df_filtered['grade'].value_counts()"
   ]
  },
  {
   "cell_type": "code",
   "execution_count": 34,
   "id": "dbbdbe28",
   "metadata": {},
   "outputs": [
    {
     "data": {
      "text/plain": [
       "10+ years    8488\n",
       "< 1 year     4508\n",
       "2 years      4291\n",
       "3 years      4012\n",
       "4 years      3342\n",
       "5 years      3194\n",
       "1 year       3169\n",
       "6 years      2168\n",
       "7 years      1711\n",
       "8 years      1435\n",
       "9 years      1226\n",
       "Name: emp_length, dtype: int64"
      ]
     },
     "execution_count": 34,
     "metadata": {},
     "output_type": "execute_result"
    }
   ],
   "source": [
    "loan_df_filtered['emp_length'].value_counts()"
   ]
  },
  {
   "cell_type": "code",
   "execution_count": 35,
   "id": "099aa5fb",
   "metadata": {},
   "outputs": [
    {
     "name": "stdout",
     "output_type": "stream",
     "text": [
      "0         5000.0\n",
      "1         2500.0\n",
      "2         2400.0\n",
      "3        10000.0\n",
      "5         5000.0\n",
      "          ...   \n",
      "39712     2500.0\n",
      "39713     8500.0\n",
      "39714     5000.0\n",
      "39715     5000.0\n",
      "39716     7500.0\n",
      "Name: loan_amnt, Length: 38577, dtype: float64\n",
      "0         5000.0\n",
      "1         2500.0\n",
      "2         2400.0\n",
      "3        10000.0\n",
      "5         5000.0\n",
      "          ...   \n",
      "39712     2500.0\n",
      "39713     8500.0\n",
      "39714     5000.0\n",
      "39715     5000.0\n",
      "39716     7500.0\n",
      "Name: funded_amnt, Length: 38577, dtype: float64\n",
      "0         4975.0\n",
      "1         2500.0\n",
      "2         2400.0\n",
      "3        10000.0\n",
      "5         5000.0\n",
      "          ...   \n",
      "39712     1075.0\n",
      "39713      875.0\n",
      "39714     1325.0\n",
      "39715      650.0\n",
      "39716      800.0\n",
      "Name: funded_amnt_inv, Length: 38577, dtype: float64\n",
      "0        10.65\n",
      "1        15.27\n",
      "2        15.96\n",
      "3        13.49\n",
      "5         7.90\n",
      "         ...  \n",
      "39712     8.07\n",
      "39713    10.28\n",
      "39714     8.07\n",
      "39715     7.43\n",
      "39716    13.75\n",
      "Name: int_rate, Length: 38577, dtype: float64\n",
      "0        27.65\n",
      "1         1.00\n",
      "2         8.72\n",
      "3        20.00\n",
      "5        11.20\n",
      "         ...  \n",
      "39712    11.33\n",
      "39713     6.40\n",
      "39714     2.30\n",
      "39715     3.72\n",
      "39716    14.29\n",
      "Name: dti, Length: 38577, dtype: float64\n"
     ]
    }
   ],
   "source": [
    "#Rounding the belows to two decimals points.\n",
    "\n",
    "columns_to_round = ['loan_amnt', 'funded_amnt', 'funded_amnt_inv', 'int_rate', 'dti']\n",
    "\n",
    "for c in columns_to_round:\n",
    "    loan_df_filtered[c] = loan_df_filtered[c].round(2)\n",
    "    print(loan_df_filtered[c])\n"
   ]
  },
  {
   "cell_type": "code",
   "execution_count": 36,
   "id": "05caa72e",
   "metadata": {},
   "outputs": [
    {
     "name": "stdout",
     "output_type": "stream",
     "text": [
      "0       2011-12-01\n",
      "1       2011-12-01\n",
      "2       2011-12-01\n",
      "3       2011-12-01\n",
      "5       2011-12-01\n",
      "           ...    \n",
      "39712   2007-07-01\n",
      "39713   2007-07-01\n",
      "39714   2007-07-01\n",
      "39715   2007-07-01\n",
      "39716   2007-06-01\n",
      "Name: issue_d, Length: 38577, dtype: datetime64[ns]\n"
     ]
    }
   ],
   "source": [
    "#Converting issue_date to date type \n",
    "\n",
    "loan_df_filtered['issue_d'] = pd.to_datetime(loan_df_filtered['issue_d'], format='%b-%y')\n",
    "print(loan_df_filtered['issue_d'])\n"
   ]
  },
  {
   "cell_type": "code",
   "execution_count": 37,
   "id": "0818e024",
   "metadata": {},
   "outputs": [
    {
     "data": {
      "text/plain": [
       "id                      0.000000\n",
       "loan_amnt               0.000000\n",
       "funded_amnt             0.000000\n",
       "funded_amnt_inv         0.000000\n",
       "term                    0.000000\n",
       "int_rate                0.000000\n",
       "installment             0.000000\n",
       "grade                   0.000000\n",
       "emp_length              2.677761\n",
       "home_ownership          0.000000\n",
       "annual_inc              0.000000\n",
       "verification_status     0.000000\n",
       "issue_d                 0.000000\n",
       "loan_status             0.000000\n",
       "purpose                 0.000000\n",
       "zip_code                0.000000\n",
       "addr_state              0.000000\n",
       "dti                     0.000000\n",
       "pub_rec_bankruptcies    1.806776\n",
       "dtype: float64"
      ]
     },
     "execution_count": 37,
     "metadata": {},
     "output_type": "execute_result"
    }
   ],
   "source": [
    "(loan_df_filtered.isnull().sum()*100)/len(loan_df_filtered)"
   ]
  },
  {
   "cell_type": "code",
   "execution_count": 38,
   "id": "1a0ac15f",
   "metadata": {},
   "outputs": [
    {
     "name": "stdout",
     "output_type": "stream",
     "text": [
      "38577\n"
     ]
    }
   ],
   "source": [
    "# Dropping The Rows of emp_lenght and pub_rec_bankruptices columns as they are null in value\n",
    "\n",
    "prev_rows = len(loan_df_filtered)\n",
    "print(prev_rows)\n"
   ]
  },
  {
   "cell_type": "code",
   "execution_count": 39,
   "id": "17fcb848",
   "metadata": {},
   "outputs": [],
   "source": [
    "loan_df_filtered = loan_df_filtered.dropna(subset=['emp_length', 'pub_rec_bankruptcies'])"
   ]
  },
  {
   "cell_type": "code",
   "execution_count": 40,
   "id": "67798c8d",
   "metadata": {},
   "outputs": [
    {
     "name": "stdout",
     "output_type": "stream",
     "text": [
      "Shape of DataFrame after deletion: (36847, 19)\n"
     ]
    }
   ],
   "source": [
    "after_rows = len(loan_df_filtered)\n",
    "print(\"Shape of DataFrame after deletion:\", loan_df_filtered.shape)\n"
   ]
  },
  {
   "cell_type": "code",
   "execution_count": 41,
   "id": "7e8ff594",
   "metadata": {},
   "outputs": [
    {
     "data": {
      "text/plain": [
       "id                      0.0\n",
       "loan_amnt               0.0\n",
       "funded_amnt             0.0\n",
       "funded_amnt_inv         0.0\n",
       "term                    0.0\n",
       "int_rate                0.0\n",
       "installment             0.0\n",
       "grade                   0.0\n",
       "emp_length              0.0\n",
       "home_ownership          0.0\n",
       "annual_inc              0.0\n",
       "verification_status     0.0\n",
       "issue_d                 0.0\n",
       "loan_status             0.0\n",
       "purpose                 0.0\n",
       "zip_code                0.0\n",
       "addr_state              0.0\n",
       "dti                     0.0\n",
       "pub_rec_bankruptcies    0.0\n",
       "dtype: float64"
      ]
     },
     "execution_count": 41,
     "metadata": {},
     "output_type": "execute_result"
    }
   ],
   "source": [
    "(loan_df_filtered.isnull().sum()*100)/len(loan_df_filtered)"
   ]
  },
  {
   "cell_type": "code",
   "execution_count": 42,
   "id": "6e0fc80a",
   "metadata": {},
   "outputs": [],
   "source": [
    "def strip_emp_length(x):\n",
    "    x = x.replace(\"years\", \"\").replace(\"<\", \"\").replace(\" \", \"\").replace(\"+\", \"\")\n",
    "    return x\n",
    "\n",
    "loan_df_filtered['emp_length'] = loan_df_filtered['emp_length'].apply(strip_emp_length)\n"
   ]
  },
  {
   "cell_type": "code",
   "execution_count": 43,
   "id": "56f266ea",
   "metadata": {},
   "outputs": [
    {
     "name": "stdout",
     "output_type": "stream",
     "text": [
      "0           10\n",
      "1        1year\n",
      "2           10\n",
      "3           10\n",
      "5            3\n",
      "         ...  \n",
      "39562    1year\n",
      "39573        3\n",
      "39623        8\n",
      "39666        2\n",
      "39680        2\n",
      "Name: emp_length, Length: 36847, dtype: object\n"
     ]
    }
   ],
   "source": [
    "print(loan_df_filtered['emp_length'])"
   ]
  },
  {
   "cell_type": "code",
   "execution_count": null,
   "id": "382c9028",
   "metadata": {},
   "outputs": [],
   "source": [
    "# Derived Columns\n"
   ]
  },
  {
   "cell_type": "code",
   "execution_count": 44,
   "id": "d6bc10c9",
   "metadata": {},
   "outputs": [],
   "source": [
    "# Creating a dervied columns for issue month and issue year from issues date\n",
    "\n",
    "loan_df_filtered['issue_year'] = loan_df_filtered['issue_d'].dt.year\n",
    "loan_df_filtered['issue_month'] = loan_df_filtered['issue_d'].dt.month"
   ]
  },
  {
   "cell_type": "code",
   "execution_count": 45,
   "id": "9a898994",
   "metadata": {},
   "outputs": [
    {
     "name": "stdout",
     "output_type": "stream",
     "text": [
      "Shape of DataFrame: (36847, 21)\n",
      "Loan Amount Description:\n",
      "count    36847.000000\n",
      "mean     11141.327652\n",
      "std       7369.988994\n",
      "min        500.000000\n",
      "25%       5500.000000\n",
      "50%      10000.000000\n",
      "75%      15000.000000\n",
      "max      35000.000000\n",
      "Name: loan_amnt, dtype: float64\n"
     ]
    },
    {
     "data": {
      "image/png": "[encoded data removed]",
      "text/plain": [
       "<Figure size 720x432 with 1 Axes>"
      ]
     },
     "metadata": {
      "needs_background": "light"
     },
     "output_type": "display_data"
    }
   ],
   "source": [
    "loan_amnt_description = loan_df_filtered[\"loan_amnt\"].describe()\n",
    "print(\"Shape of DataFrame:\", loan_df_filtered.shape)\n",
    "print(\"Loan Amount Description:\")\n",
    "print(loan_amnt_description)\n",
    "\n",
    "mckinsey_colors = [\"#0072CE\", \"#00A3E0\", \"#7BCFED\", \"#6F777D\", \"#949CA1\"]\n",
    "\n",
    "plt.figure(figsize=(10, 6))\n",
    "sns.boxplot(x=loan_df_filtered['loan_amnt'], palette=mckinsey_colors, linewidth=2.5, width=0.5, fliersize=5)\n",
    "plt.title('Box Plot of Loan Amount', fontsize=16)\n",
    "plt.xlabel('Loan Amount', fontsize=14)\n",
    "plt.ylabel('Amount', fontsize=14)\n",
    "plt.xticks(fontsize=12)\n",
    "plt.yticks(fontsize=12)\n",
    "plt.grid(True)\n",
    "plt.show()\n"
   ]
  },
  {
   "cell_type": "code",
   "execution_count": null,
   "id": "f452ebb3",
   "metadata": {},
   "outputs": [],
   "source": [
    "# Univariate Analysis "
   ]
  },
  {
   "cell_type": "code",
   "execution_count": 46,
   "id": "a49dfcce",
   "metadata": {},
   "outputs": [],
   "source": [
    "# Column metadata used by functions below\n",
    "column_titles = {\n",
    "    'loan_amnt': 'Loan Amount',\n",
    "    'funded_amnt': 'Funded Amount',\n",
    "    'funded_amnt_inv': 'Funded Amount Investors',\n",
    "    'term': 'Loan Term',\n",
    "    'int_rate': 'Interest Rate',\n",
    "    'installment': 'Installment',\n",
    "    'grade': 'Grade',\n",
    "    'emp_length': 'Employment Length',\n",
    "    'home_ownership': 'Home Owner Status',\n",
    "    'annual_inc': 'Annuap Income',\n",
    "    'verification_status': 'Verification Status',\n",
    "    'issue_d': 'Issue Date',\n",
    "    'loan_status': 'Loan Status',\n",
    "    'purpose': 'Purpose of Loan',\n",
    "    'addr_state': 'State',\n",
    "    'dti': 'Debt To Income Ratio',\n",
    "    'pub_rec_bankruptcies': 'Bankruptcies Record',\n",
    "    'issue_y': 'Issue Year',\n",
    "    'issue_m': 'Issue Month',\n",
    "    'issue_q': 'Issue Quarter',\n",
    "    'loan_amnt_b': 'Loan Amount Bins',\n",
    "    'funded_amnt_inv_b': 'Investor Funded Bins',\n",
    "    'funded_amnt_b': 'Funded Amount Bins',\n",
    "    'annual_inc_b': 'Annual Income Bins',\n",
    "    'int_rate_b': 'Interest Rate Bins',\n",
    "    'dti_b': 'DTI Bins'\n",
    "}"
   ]
  },
  {
   "cell_type": "code",
   "execution_count": null,
   "id": "f7a2251c",
   "metadata": {},
   "outputs": [],
   "source": [
    "#Bucketing different varaibles for better analysis "
   ]
  },
  {
   "cell_type": "code",
   "execution_count": 47,
   "id": "39cce8a2",
   "metadata": {},
   "outputs": [],
   "source": [
    "#Bucketting Loan Amount\n",
    "\n",
    "def bucket_loan_amnt(column):\n",
    "    if column <= 5000:\n",
    "        return '0 - 5K'  \n",
    "    elif column <= 10000:\n",
    "        return '5K - 10K'\n",
    "    elif column <= 15000:\n",
    "        return '10K - 15K'\n",
    "    else:\n",
    "        return '15K - above' \n",
    "\n",
    "loan_df_filtered['loan_amnt_b'] = loan_df_filtered['loan_amnt'].apply(bucket_loan_amnt)\n"
   ]
  },
  {
   "cell_type": "code",
   "execution_count": 48,
   "id": "83432cb0",
   "metadata": {},
   "outputs": [],
   "source": [
    "#bucketting Annual Income\n",
    "\n",
    "def bucket_annual_inc(column):\n",
    "    if column <= 40000:\n",
    "        return '0 - 40k'  \n",
    "    elif column <= 50000:\n",
    "        return '40k - 50k'\n",
    "    elif column <= 60000:\n",
    "        return '50k to 60k'\n",
    "    elif column <= 70000:\n",
    "        return '60k to 70k'\n",
    "    elif column <= 80000:\n",
    "        return '70k to 80k'\n",
    "    else:\n",
    "        return '80k - above' \n",
    "\n",
    "loan_df_filtered['annual_inc_b'] = loan_df_filtered['annual_inc'].apply(bucket_annual_inc)\n"
   ]
  },
  {
   "cell_type": "code",
   "execution_count": 49,
   "id": "709a682f",
   "metadata": {},
   "outputs": [],
   "source": [
    "#Bucketing Intrest rate\n",
    "\n",
    "def bucket_int_rate(column):\n",
    "    if column <= 9:\n",
    "        return 'Very Low'  \n",
    "    elif column <= 11:\n",
    "        return 'Low'\n",
    "    elif column <= 13:\n",
    "        return 'Moderate'\n",
    "    elif column <= 15:\n",
    "        return 'High'\n",
    "    else:\n",
    "        return 'Very High' \n",
    "\n",
    "loan_df_filtered['int_rate_b'] = loan_df_filtered['int_rate'].apply(bucket_int_rate)\n"
   ]
  },
  {
   "cell_type": "code",
   "execution_count": 50,
   "id": "a213b271",
   "metadata": {},
   "outputs": [],
   "source": [
    "# Bucketing dti\n",
    "\n",
    "def bucket_dti(column):\n",
    "    if column <= 8:\n",
    "        return 'Very Low'  \n",
    "    elif column <= 12:\n",
    "        return 'Low'\n",
    "    elif column <= 16:\n",
    "        return 'Moderate'\n",
    "    elif column <= 20:\n",
    "        return 'High'\n",
    "    else:\n",
    "        return 'Very High' \n",
    "\n",
    "loan_df_filtered['dti_b'] = loan_df_filtered['dti'].apply(bucket_dti)\n"
   ]
  },
  {
   "cell_type": "code",
   "execution_count": 51,
   "id": "34173422",
   "metadata": {},
   "outputs": [],
   "source": [
    "def plot_digram(df, column):\n",
    "    fig, p = plot.subplots(1,2, figsize=(16, 4))\n",
    "    sea.distplot(df.loc[df[column].notnull(), column], kde=True, hist=True, ax=p[0])\n",
    "    sea.boxplot(x=column, data=df, ax=p[1])\n",
    "    p[0].set_xlabel(column_titles[column])\n",
    "    p[1].set_xlabel(column_titles[column])\n",
    "    plot.tight_layout()\n",
    "    plot.show()"
   ]
  },
  {
   "cell_type": "code",
   "execution_count": 52,
   "id": "8fbbfb5c",
   "metadata": {},
   "outputs": [
    {
     "data": {
      "image/png": "[encoded data removed]",
      "text/plain": [
       "<Figure size 576x432 with 1 Axes>"
      ]
     },
     "metadata": {
      "needs_background": "light"
     },
     "output_type": "display_data"
    }
   ],
   "source": [
    "mckinsey_colors = [\"#0072CE\", \"#00A3E0\", \"#7BCFED\", \"#6F777D\", \"#949CA1\"]\n",
    "\n",
    "plt.figure(figsize=(8, 6))\n",
    "sns.boxplot(x=loan_df_filtered['loan_amnt'], palette=mckinsey_colors)\n",
    "plt.title('Box Plot of Loan Amount', fontsize=16)\n",
    "plt.xlabel('Loan Amount', fontsize=14)\n",
    "plt.ylabel('Amount', fontsize=14)\n",
    "plt.xticks(fontsize=12)\n",
    "plt.yticks(fontsize=12)\n",
    "plt.grid(True)\n",
    "plt.show()"
   ]
  },
  {
   "cell_type": "code",
   "execution_count": 53,
   "id": "8da3d1f8",
   "metadata": {},
   "outputs": [
    {
     "data": {
      "image/png": "[encoded data removed]",
      "text/plain": [
       "<Figure size 576x432 with 1 Axes>"
      ]
     },
     "metadata": {
      "needs_background": "light"
     },
     "output_type": "display_data"
    }
   ],
   "source": [
    "mckinsey_colors = [\"#0072CE\", \"#00A3E0\", \"#7BCFED\", \"#6F777D\", \"#949CA1\"]\n",
    "\n",
    "plt.figure(figsize=(8, 6))\n",
    "sns.boxplot(x=loan_df['funded_amnt'], palette=mckinsey_colors)\n",
    "plt.title('Box Plot of Funded Amount', fontsize=16)\n",
    "plt.xlabel('Funded Amount', fontsize=14)\n",
    "plt.ylabel('Amount', fontsize=14)\n",
    "plt.xticks(fontsize=12)\n",
    "plt.yticks(fontsize=12)\n",
    "plt.grid(True)\n",
    "plt.show()"
   ]
  },
  {
   "cell_type": "code",
   "execution_count": 54,
   "id": "510cd685",
   "metadata": {},
   "outputs": [
    {
     "data": {
      "image/png": "[encoded data removed]",
      "text/plain": [
       "<Figure size 576x432 with 1 Axes>"
      ]
     },
     "metadata": {
      "needs_background": "light"
     },
     "output_type": "display_data"
    }
   ],
   "source": [
    "mckinsey_colors = [\"#0072CE\", \"#00A3E0\", \"#7BCFED\", \"#6F777D\", \"#949CA1\"]\n",
    "\n",
    "plt.figure(figsize=(8, 6))\n",
    "sns.boxplot(x=loan_df_filtered['funded_amnt_inv'], palette=mckinsey_colors)\n",
    "plt.title('Box Plot of Funded Amount (Investor)', fontsize=16)\n",
    "plt.xlabel('Funded Amount (Investor)', fontsize=14)\n",
    "plt.ylabel('Amount', fontsize=14)\n",
    "plt.xticks(fontsize=12)\n",
    "plt.yticks(fontsize=12)\n",
    "plt.grid(True)\n",
    "plt.show()"
   ]
  },
  {
   "cell_type": "code",
   "execution_count": 55,
   "id": "f6c1539b",
   "metadata": {},
   "outputs": [
    {
     "data": {
      "image/png": "[encoded data removed]",
      "text/plain": [
       "<Figure size 576x432 with 1 Axes>"
      ]
     },
     "metadata": {
      "needs_background": "light"
     },
     "output_type": "display_data"
    }
   ],
   "source": [
    "# Define the McKinsey color palette\n",
    "mckinsey_colors = [\"#0072CE\", \"#00A3E0\", \"#7BCFED\", \"#6F777D\", \"#949CA1\"]\n",
    "\n",
    "plt.figure(figsize=(8, 6))\n",
    "sns.boxplot(x=loan_df['annual_inc'], palette=mckinsey_colors)\n",
    "plt.title('Box Plot of Annual Income', fontsize=16)\n",
    "plt.xlabel('Annual Income', fontsize=14)\n",
    "plt.ylabel('Income', fontsize=14)\n",
    "plt.xticks(fontsize=12)\n",
    "plt.yticks(fontsize=12)\n",
    "plt.grid(True)\n",
    "plt.show()\n"
   ]
  },
  {
   "cell_type": "code",
   "execution_count": 56,
   "id": "cdcea18f",
   "metadata": {},
   "outputs": [
    {
     "data": {
      "image/png": "[encoded data removed]",
      "text/plain": [
       "<Figure size 576x432 with 1 Axes>"
      ]
     },
     "metadata": {
      "needs_background": "light"
     },
     "output_type": "display_data"
    }
   ],
   "source": [
    "mckinsey_colors = [\"#0072CE\", \"#00A3E0\", \"#7BCFED\", \"#6F777D\", \"#949CA1\"]\n",
    "\n",
    "plt.figure(figsize=(8, 6))\n",
    "sns.boxplot(x=loan_df_filtered['int_rate'], palette=mckinsey_colors)\n",
    "plt.title('Box Plot of Interest Rate', fontsize=16)\n",
    "plt.xlabel('Interest Rate', fontsize=14)\n",
    "plt.ylabel('Rate', fontsize=14)\n",
    "plt.xticks(fontsize=12)\n",
    "plt.yticks(fontsize=12)\n",
    "plt.grid(True)\n",
    "plt.show()"
   ]
  },
  {
   "cell_type": "code",
   "execution_count": 57,
   "id": "0c5cc9f6",
   "metadata": {},
   "outputs": [
    {
     "data": {
      "image/png": "[encoded data removed]",
      "text/plain": [
       "<Figure size 576x432 with 1 Axes>"
      ]
     },
     "metadata": {
      "needs_background": "light"
     },
     "output_type": "display_data"
    }
   ],
   "source": [
    "mckinsey_colors = [\"#0072CE\", \"#00A3E0\", \"#7BCFED\", \"#6F777D\", \"#949CA1\"]\n",
    "\n",
    "plt.figure(figsize=(8, 6))\n",
    "sns.boxplot(x=loan_df_filtered['dti'], palette=mckinsey_colors)\n",
    "plt.title('Box Plot of Debt-to-Income Ratio', fontsize=16)\n",
    "plt.xlabel('Debt-to-Income Ratio', fontsize=14)\n",
    "plt.ylabel('Ratio', fontsize=14)\n",
    "plt.xticks(fontsize=12)\n",
    "plt.yticks(fontsize=12)\n",
    "plt.grid(True)\n",
    "plt.show()"
   ]
  },
  {
   "cell_type": "code",
   "execution_count": 58,
   "id": "ee1ec29e",
   "metadata": {},
   "outputs": [
    {
     "data": {
      "image/png": "[encoded data removed]",
      "text/plain": [
       "<Figure size 576x432 with 1 Axes>"
      ]
     },
     "metadata": {
      "needs_background": "light"
     },
     "output_type": "display_data"
    }
   ],
   "source": [
    "mckinsey_colors = [\"#0072CE\", \"#00A3E0\", \"#7BCFED\", \"#6F777D\", \"#949CA1\"]\n",
    "\n",
    "plt.figure(figsize=(8, 6))\n",
    "sns.boxplot(x=loan_df_filtered['installment'], palette=mckinsey_colors)\n",
    "plt.title('Box Plot of Installment', fontsize=16)\n",
    "plt.xlabel('Installment', fontsize=14)\n",
    "plt.ylabel('Amount', fontsize=14)\n",
    "plt.xticks(fontsize=12)\n",
    "plt.yticks(fontsize=12)\n",
    "plt.grid(True)\n",
    "plt.show()"
   ]
  },
  {
   "cell_type": "code",
   "execution_count": 59,
   "id": "f5710672",
   "metadata": {},
   "outputs": [
    {
     "name": "stderr",
     "output_type": "stream",
     "text": [
      "/var/folders/18/tcml0vs95xxd98r5gdl1r88h0000gn/T/ipykernel_60442/3119308201.py:3: SettingWithCopyWarning: \n",
      "A value is trying to be set on a copy of a slice from a DataFrame.\n",
      "Try using .loc[row_indexer,col_indexer] = value instead\n",
      "\n",
      "See the caveats in the documentation: https://pandas.pydata.org/pandas-docs/stable/user_guide/indexing.html#returning-a-view-versus-a-copy\n",
      "  data[col] = pd.to_numeric(data[col], errors='coerce')  # Convert column to numeric\n"
     ]
    }
   ],
   "source": [
    "def remove_outliers_iqr(data, columns, threshold):\n",
    "    for col in columns:\n",
    "        data[col] = pd.to_numeric(data[col], errors='coerce')  # Convert column to numeric\n",
    "        Q1 = data[col].quantile(0.25)\n",
    "        Q3 = data[col].quantile(0.75)\n",
    "        IQR = Q3 - Q1\n",
    "        lower_bound = Q1 - threshold * IQR\n",
    "        upper_bound = Q3 + threshold * IQR\n",
    "        data = data[(data[col] >= lower_bound) & (data[col] <= upper_bound)]\n",
    "    return data\n",
    "\n",
    "outliers_columns_set1 = ['loan_amnt', 'funded_amnt', 'funded_amnt_inv']\n",
    "outliers_columns_set2 = ['int_rate', 'installment', 'annual_inc']\n",
    "\n",
    "loan_df_filtered = remove_outliers_iqr(loan_df_filtered, outliers_columns_set1, 1.5)\n",
    "loan_df_filtered = remove_outliers_iqr(loan_df_filtered, outliers_columns_set2, 1.5)\n"
   ]
  },
  {
   "cell_type": "code",
   "execution_count": 60,
   "id": "7bd79d98",
   "metadata": {},
   "outputs": [
    {
     "data": {
      "image/png": "[encoded data removed]",
      "text/plain": [
       "<Figure size 576x432 with 1 Axes>"
      ]
     },
     "metadata": {
      "needs_background": "light"
     },
     "output_type": "display_data"
    }
   ],
   "source": [
    "mckinsey_colors = [\"#0072CE\", \"#00A3E0\", \"#7BCFED\", \"#6F777D\", \"#949CA1\"]\n",
    "\n",
    "plt.figure(figsize=(8, 6))\n",
    "sns.boxplot(x=loan_df_filtered['loan_amnt'], color=mckinsey_colors[0], flierprops=dict(marker='o', color='red', markersize=5)) # Set outlier color to red\n",
    "plt.title('Box Plot of Loan Amount', fontsize=16)\n",
    "plt.xlabel('Loan Amount', fontsize=14)\n",
    "plt.ylabel('Amount', fontsize=14)\n",
    "plt.xticks(fontsize=12)\n",
    "plt.yticks(fontsize=12)\n",
    "plt.grid(True)\n",
    "plt.show()"
   ]
  },
  {
   "cell_type": "code",
   "execution_count": 61,
   "id": "b00a2ce6",
   "metadata": {},
   "outputs": [
    {
     "data": {
      "image/png": "[encoded data removed]",
      "text/plain": [
       "<Figure size 576x432 with 1 Axes>"
      ]
     },
     "metadata": {
      "needs_background": "light"
     },
     "output_type": "display_data"
    }
   ],
   "source": [
    "mckinsey_colors = [\"#0072CE\", \"#00A3E0\", \"#7BCFED\", \"#6F777D\", \"#949CA1\"]\n",
    "\n",
    "plt.figure(figsize=(8, 6))\n",
    "sns.boxplot(x=loan_df_filtered['funded_amnt_inv'], color=mckinsey_colors[1], flierprops=dict(marker='o', color='red', markersize=5)) # Set outlier color to red\n",
    "plt.title('Box Plot of Funded Amount (Investor)', fontsize=16)\n",
    "plt.xlabel('Funded Amount (Investor)', fontsize=14)\n",
    "plt.ylabel('Amount', fontsize=14)\n",
    "plt.xticks(fontsize=12)\n",
    "plt.yticks(fontsize=12)\n",
    "plt.grid(True)\n",
    "plt.show()"
   ]
  },
  {
   "cell_type": "code",
   "execution_count": 62,
   "id": "b5c907db",
   "metadata": {},
   "outputs": [
    {
     "data": {
      "image/png": "[encoded data removed]",
      "text/plain": [
       "<Figure size 576x432 with 1 Axes>"
      ]
     },
     "metadata": {
      "needs_background": "light"
     },
     "output_type": "display_data"
    }
   ],
   "source": [
    "mckinsey_colors = [\"#0072CE\", \"#00A3E0\", \"#7BCFED\", \"#6F777D\", \"#949CA1\"]\n",
    "\n",
    "plt.figure(figsize=(8, 6))\n",
    "sns.boxplot(x=loan_df_filtered['funded_amnt'], color=mckinsey_colors[2], flierprops=dict(marker='o', color='red', markersize=5)) # Set outlier color to red\n",
    "plt.title('Box Plot of Funded Amount', fontsize=16)\n",
    "plt.xlabel('Funded Amount', fontsize=14)\n",
    "plt.ylabel('Amount', fontsize=14)\n",
    "plt.xticks(fontsize=12)\n",
    "plt.yticks(fontsize=12)\n",
    "plt.grid(True)\n",
    "plt.show()"
   ]
  },
  {
   "cell_type": "code",
   "execution_count": 63,
   "id": "63edfc01",
   "metadata": {},
   "outputs": [
    {
     "data": {
      "image/png": "[encoded data removed]",
      "text/plain": [
       "<Figure size 576x432 with 1 Axes>"
      ]
     },
     "metadata": {
      "needs_background": "light"
     },
     "output_type": "display_data"
    }
   ],
   "source": [
    "mckinsey_colors = [\"#0072CE\", \"#00A3E0\", \"#7BCFED\", \"#6F777D\", \"#949CA1\"]\n",
    "\n",
    "plt.figure(figsize=(8, 6))\n",
    "sns.boxplot(x=loan_df_filtered['annual_inc'], color=mckinsey_colors[3], flierprops=dict(marker='o', color='red', markersize=5)) # Set outlier color to red\n",
    "plt.title('Box Plot of Annual Income', fontsize=16)\n",
    "plt.xlabel('Annual Income', fontsize=14)\n",
    "plt.ylabel('Income', fontsize=14)\n",
    "plt.xticks(fontsize=12)\n",
    "plt.yticks(fontsize=12)\n",
    "plt.grid(True)\n",
    "plt.show()"
   ]
  },
  {
   "cell_type": "code",
   "execution_count": 64,
   "id": "d700dd75",
   "metadata": {},
   "outputs": [
    {
     "data": {
      "image/png": "[encoded data removed]",
      "text/plain": [
       "<Figure size 576x432 with 1 Axes>"
      ]
     },
     "metadata": {
      "needs_background": "light"
     },
     "output_type": "display_data"
    }
   ],
   "source": [
    "mckinsey_colors = [\"#0072CE\", \"#00A3E0\", \"#7BCFED\", \"#6F777D\", \"#949CA1\"]\n",
    "\n",
    "plt.figure(figsize=(8, 6))\n",
    "sns.boxplot(x=loan_df_filtered['int_rate'], color=mckinsey_colors[4], flierprops=dict(marker='o', color='red', markersize=5)) # Set outlier color to red\n",
    "plt.title('Box Plot of Interest Rate', fontsize=16)\n",
    "plt.xlabel('Interest Rate', fontsize=14)\n",
    "plt.ylabel('Rate', fontsize=14)\n",
    "plt.xticks(fontsize=12)\n",
    "plt.yticks(fontsize=12)\n",
    "plt.grid(True)\n",
    "plt.show()"
   ]
  },
  {
   "cell_type": "code",
   "execution_count": 65,
   "id": "764596a1",
   "metadata": {},
   "outputs": [
    {
     "data": {
      "image/png": "[encoded data removed]",
      "text/plain": [
       "<Figure size 576x432 with 1 Axes>"
      ]
     },
     "metadata": {
      "needs_background": "light"
     },
     "output_type": "display_data"
    }
   ],
   "source": [
    "mckinsey_colors = [\"#0072CE\", \"#00A3E0\", \"#7BCFED\", \"#6F777D\", \"#949CA1\"]\n",
    "\n",
    "plt.figure(figsize=(8, 6))\n",
    "sns.boxplot(x=loan_df_filtered['installment'], color=mckinsey_colors[0], flierprops=dict(marker='o', color='red', markersize=5)) # Set outlier color to red\n",
    "plt.title('Box Plot of Installment', fontsize=16)\n",
    "plt.xlabel('Installment', fontsize=14)\n",
    "plt.ylabel('Amount', fontsize=14)\n",
    "plt.xticks(fontsize=12)\n",
    "plt.yticks(fontsize=12)\n",
    "plt.grid(True)\n",
    "plt.show()"
   ]
  },
  {
   "cell_type": "code",
   "execution_count": 75,
   "id": "0dc309b5",
   "metadata": {},
   "outputs": [
    {
     "data": {
      "image/png": "[encoded data removed]",
      "text/plain": [
       "<Figure size 1152x288 with 2 Axes>"
      ]
     },
     "metadata": {
      "needs_background": "light"
     },
     "output_type": "display_data"
    },
    {
     "name": "stdout",
     "output_type": "stream",
     "text": [
      "count    33191.000000\n",
      "mean      9820.838480\n",
      "std       5809.600807\n",
      "min        500.000000\n",
      "25%       5000.000000\n",
      "50%       9000.000000\n",
      "75%      13750.000000\n",
      "max      29000.000000\n",
      "Name: loan_amnt, dtype: float64\n"
     ]
    }
   ],
   "source": [
    "def plot_diagram(df, column):\n",
    "    fig, p = plt.subplots(1, 2, figsize=(16, 4))\n",
    "    sns.histplot(df.loc[df[column].notnull(), column], kde=True, ax=p[0])\n",
    "    sns.boxplot(x=column, data=df, ax=p[1])\n",
    "    plt.tight_layout()\n",
    "    plt.show()\n",
    "\n",
    "# Plot histogram and box plot, and display descriptive statistics\n",
    "plot_diagram(loan_df_filtered, 'loan_amnt')\n",
    "print(loan_df_filtered['loan_amnt'].describe())"
   ]
  },
  {
   "cell_type": "code",
   "execution_count": null,
   "id": "4651fc8c",
   "metadata": {},
   "outputs": [],
   "source": [
    "#Observation: The majority of loan applications were between $5,000 and $14,000.\n",
    "# Maximum loan amount applied was ~27k.\n",
    "\n"
   ]
  },
  {
   "cell_type": "code",
   "execution_count": 76,
   "id": "c580a70d",
   "metadata": {},
   "outputs": [
    {
     "data": {
      "image/png": "[encoded data removed]",
      "text/plain": [
       "<Figure size 1152x288 with 2 Axes>"
      ]
     },
     "metadata": {
      "needs_background": "light"
     },
     "output_type": "display_data"
    },
    {
     "name": "stdout",
     "output_type": "stream",
     "text": [
      "count     33191.000000\n",
      "mean      59883.284700\n",
      "std       26916.857415\n",
      "min        4000.000000\n",
      "25%       40000.000000\n",
      "50%       55000.000000\n",
      "75%       75000.000000\n",
      "max      140000.000000\n",
      "Name: annual_inc, dtype: float64\n"
     ]
    }
   ],
   "source": [
    "def plot_diagram(df, column):\n",
    "    fig, p = plt.subplots(1, 2, figsize=(16, 4))\n",
    "    sns.histplot(df.loc[df[column].notnull(), column], kde=True, ax=p[0])\n",
    "    sns.boxplot(x=column, data=df, ax=p[1])\n",
    "    plt.tight_layout()\n",
    "    plt.show()\n",
    "\n",
    "# Plot histogram and box plot for 'annual_inc', and display its descriptive statistics\n",
    "plot_diagram(loan_df_filtered, 'annual_inc')\n",
    "print(loan_df_filtered['annual_inc'].describe())"
   ]
  },
  {
   "cell_type": "code",
   "execution_count": 81,
   "id": "c4463eaf",
   "metadata": {},
   "outputs": [
    {
     "name": "stdout",
     "output_type": "stream",
     "text": [
      "The majority of applicants have an annual income ranging between 40k - 75k.\n",
      "Average Annual Income: 59883.0\n"
     ]
    }
   ],
   "source": [
    "# Calculate the average annual income\n",
    "average_annual_income = round(loan_df_filtered['annual_inc'].mean(), 0)\n",
    "\n",
    "# Define income range\n",
    "income_range = '40k - 75k'\n",
    "\n",
    "# Print the statement\n",
    "print(f\"The majority of applicants have an annual income ranging between {income_range}.\")\n",
    "print(\"Average Annual Income:\", average_annual_income)\n"
   ]
  },
  {
   "cell_type": "code",
   "execution_count": 82,
   "id": "81f8752b",
   "metadata": {},
   "outputs": [
    {
     "data": {
      "image/png": "[encoded data removed]",
      "text/plain": [
       "<Figure size 1152x288 with 2 Axes>"
      ]
     },
     "metadata": {
      "needs_background": "light"
     },
     "output_type": "display_data"
    },
    {
     "name": "stdout",
     "output_type": "stream",
     "text": [
      "count    33191.000000\n",
      "mean      9593.825887\n",
      "std       5565.574327\n",
      "min        500.000000\n",
      "25%       5000.000000\n",
      "50%       8500.000000\n",
      "75%      13000.000000\n",
      "max      28000.000000\n",
      "Name: funded_amnt, dtype: float64\n"
     ]
    }
   ],
   "source": [
    "def plot_diagram(df, column):\n",
    "    fig, p = plt.subplots(1, 2, figsize=(16, 4))\n",
    "    sns.histplot(df.loc[df[column].notnull(), column], kde=True, ax=p[0])\n",
    "    sns.boxplot(x=column, data=df, ax=p[1])\n",
    "    plt.tight_layout()\n",
    "    plt.show()\n",
    "\n",
    "# Plot histogram and box plot, and display descriptive statistics\n",
    "plot_diagram(loan_df_filtered, 'funded_amnt')\n",
    "print(loan_df_filtered['funded_amnt'].describe())"
   ]
  },
  {
   "cell_type": "code",
   "execution_count": 83,
   "id": "0811cfb1",
   "metadata": {},
   "outputs": [
    {
     "data": {
      "image/png": "[encoded data removed]",
      "text/plain": [
       "<Figure size 1152x288 with 2 Axes>"
      ]
     },
     "metadata": {
      "needs_background": "light"
     },
     "output_type": "display_data"
    },
    {
     "name": "stdout",
     "output_type": "stream",
     "text": [
      "count    33191.000000\n",
      "mean        11.782783\n",
      "std          3.591944\n",
      "min          5.420000\n",
      "25%          8.900000\n",
      "50%         11.710000\n",
      "75%         14.260000\n",
      "max         22.110000\n",
      "Name: int_rate, dtype: float64\n"
     ]
    }
   ],
   "source": [
    "def plot_diagram(df, column):\n",
    "    fig, p = plt.subplots(1, 2, figsize=(16, 4))\n",
    "    sns.histplot(df.loc[df[column].notnull(), column], kde=True, ax=p[0])\n",
    "    sns.boxplot(x=column, data=df, ax=p[1])\n",
    "    plt.tight_layout()\n",
    "    plt.show()\n",
    "\n",
    "# Plot histogram and box plot, and display descriptive statistics\n",
    "plot_diagram(loan_df_filtered, 'int_rate')\n",
    "print(loan_df_filtered['int_rate'].describe())"
   ]
  },
  {
   "cell_type": "code",
   "execution_count": null,
   "id": "5c655741",
   "metadata": {},
   "outputs": [],
   "source": [
    "# The majority of the applicants' rates of interest vary between 8% and 14%.\n",
    "#The average rate of interest is 11.7%.\n"
   ]
  },
  {
   "cell_type": "code",
   "execution_count": null,
   "id": "48278cba",
   "metadata": {},
   "outputs": [],
   "source": [
    "#5.2 Unordered Categorical Variable Analysis"
   ]
  },
  {
   "cell_type": "code",
   "execution_count": 86,
   "id": "e2276b48",
   "metadata": {},
   "outputs": [
    {
     "data": {
      "image/png": "[encoded data removed]",
      "text/plain": [
       "<Figure size 432x288 with 1 Axes>"
      ]
     },
     "metadata": {
      "needs_background": "light"
     },
     "output_type": "display_data"
    }
   ],
   "source": [
    "mckinsey_colors = [\"#0072CE\", \"#00A3E0\", \"#7BCFED\", \"#6F777D\", \"#949CA1\"]\n",
    "\n",
    "# Plot bar plot with McKinsey colors\n",
    "loan_df_filtered['home_ownership'].value_counts().plot(kind='bar', color=mckinsey_colors)\n",
    "\n",
    "# Customize plot\n",
    "plt.title('Home Ownership Distribution', fontsize=16)\n",
    "plt.xlabel('Home Ownership', fontsize=14)\n",
    "plt.ylabel('Count', fontsize=14)\n",
    "plt.xticks(fontsize=12, rotation=45)\n",
    "plt.yticks(fontsize=12)\n",
    "plt.grid(axis='y')\n",
    "\n",
    "# Show plot\n",
    "plt.show()\n"
   ]
  },
  {
   "cell_type": "code",
   "execution_count": null,
   "id": "ad8a44ff",
   "metadata": {},
   "outputs": [],
   "source": [
    "# The majority of loan applicants either rent or have a mortgage."
   ]
  },
  {
   "cell_type": "code",
   "execution_count": 87,
   "id": "c39ce905",
   "metadata": {},
   "outputs": [
    {
     "data": {
      "image/png": "[encoded data removed]",
      "text/plain": [
       "<Figure size 432x288 with 1 Axes>"
      ]
     },
     "metadata": {
      "needs_background": "light"
     },
     "output_type": "display_data"
    }
   ],
   "source": [
    "# Define the McKinsey color palette\n",
    "mckinsey_colors = [\"#0072CE\", \"#00A3E0\", \"#7BCFED\", \"#6F777D\", \"#949CA1\"]\n",
    "\n",
    "# Plot bar plot with McKinsey colors\n",
    "loan_df_filtered['purpose'].value_counts().plot(kind='bar', color=mckinsey_colors)\n",
    "\n",
    "# Customize plot\n",
    "plt.title('Loan Purpose Distribution', fontsize=16)\n",
    "plt.xlabel('Loan Purpose', fontsize=14)\n",
    "plt.ylabel('Count', fontsize=14)\n",
    "plt.xticks(fontsize=12, rotation=45)\n",
    "plt.yticks(fontsize=12)\n",
    "plt.grid(axis='y')\n",
    "\n",
    "# Show plot\n",
    "plt.show()"
   ]
  },
  {
   "cell_type": "code",
   "execution_count": null,
   "id": "5a00833f",
   "metadata": {},
   "outputs": [],
   "source": [
    "# The majority of loan applications are for debt consolidation."
   ]
  },
  {
   "cell_type": "code",
   "execution_count": 88,
   "id": "c56d4b6a",
   "metadata": {},
   "outputs": [
    {
     "name": "stdout",
     "output_type": "stream",
     "text": [
      "home_ownership  loan_status\n",
      "MORTGAGE        Charged Off     1855\n",
      "                Fully Paid     12127\n",
      "OTHER           Charged Off       16\n",
      "                Fully Paid        73\n",
      "OWN             Charged Off      355\n",
      "                Fully Paid      2121\n",
      "RENT            Charged Off     2488\n",
      "                Fully Paid     14156\n",
      "dtype: int64\n"
     ]
    }
   ],
   "source": [
    "# Group by 'home_ownership' and 'loan_status' and count occurrences\n",
    "failed_per_homeownership = loan_df_filtered.groupby(['home_ownership', 'loan_status']).size()\n",
    "\n",
    "# Print the resulting DataFrame\n",
    "print(failed_per_homeownership)\n"
   ]
  },
  {
   "cell_type": "code",
   "execution_count": 99,
   "id": "634f2e61",
   "metadata": {},
   "outputs": [
    {
     "data": {
      "application/vnd.plotly.v1+json": {
       "config": {
        "plotlyServerURL": "https://plot.ly"
       },
       "data": [
        {
         "domain": {
          "x": [
           0,
           1
          ],
          "y": [
           0,
           1
          ]
         },
         "hovertemplate": "label=%{label}<br>value=%{value}<br>parent=%{parent}<br>color=%{color}<extra></extra>",
         "labels": [
          "CA",
          "NY",
          "FL",
          "TX",
          "NJ",
          "PA",
          "IL",
          "VA",
          "GA",
          "MA",
          "OH",
          "MD",
          "AZ",
          "WA",
          "CO",
          "NC",
          "CT",
          "MI",
          "MO",
          "MN",
          "NV",
          "SC",
          "OR",
          "WI",
          "AL",
          "LA",
          "KY",
          "OK",
          "KS",
          "UT",
          "AR",
          "RI",
          "DC",
          "NM",
          "WV",
          "HI",
          "NH",
          "DE",
          "MT",
          "WY",
          "AK",
          "SD",
          "VT",
          "MS",
          "TN",
          "ID",
          "IA",
          "NE",
          "IN"
         ],
         "marker": {
          "coloraxis": "coloraxis",
          "colors": [
           5971,
           3134,
           2404,
           2246,
           1531,
           1324,
           1283,
           1178,
           1165,
           1096,
           1041,
           873,
           725,
           690,
           654,
           626,
           608,
           602,
           591,
           538,
           415,
           404,
           391,
           378,
           375,
           364,
           285,
           260,
           220,
           216,
           209,
           179,
           173,
           161,
           150,
           147,
           136,
           101,
           73,
           68,
           63,
           59,
           50,
           19,
           9,
           3,
           1,
           1,
           1
          ]
         },
         "name": "",
         "parents": [
          "USA",
          "USA",
          "USA",
          "USA",
          "USA",
          "USA",
          "USA",
          "USA",
          "USA",
          "USA",
          "USA",
          "USA",
          "USA",
          "USA",
          "USA",
          "USA",
          "USA",
          "USA",
          "USA",
          "USA",
          "USA",
          "USA",
          "USA",
          "USA",
          "USA",
          "USA",
          "USA",
          "USA",
          "USA",
          "USA",
          "USA",
          "USA",
          "USA",
          "USA",
          "USA",
          "USA",
          "USA",
          "USA",
          "USA",
          "USA",
          "USA",
          "USA",
          "USA",
          "USA",
          "USA",
          "USA",
          "USA",
          "USA",
          "USA"
         ],
         "type": "treemap",
         "values": [
          5971,
          3134,
          2404,
          2246,
          1531,
          1324,
          1283,
          1178,
          1165,
          1096,
          1041,
          873,
          725,
          690,
          654,
          626,
          608,
          602,
          591,
          538,
          415,
          404,
          391,
          378,
          375,
          364,
          285,
          260,
          220,
          216,
          209,
          179,
          173,
          161,
          150,
          147,
          136,
          101,
          73,
          68,
          63,
          59,
          50,
          19,
          9,
          3,
          1,
          1,
          1
         ]
        }
       ],
       "layout": {
        "coloraxis": {
         "colorbar": {
          "title": {
           "text": "color"
          }
         },
         "colorscale": [
          [
           0,
           "#0072CE"
          ],
          [
           0.25,
           "#00A3E0"
          ],
          [
           0.5,
           "#7BCFED"
          ],
          [
           0.75,
           "#6F777D"
          ],
          [
           1,
           "#949CA1"
          ]
         ]
        },
        "legend": {
         "tracegroupgap": 0
        },
        "margin": {
         "b": 0,
         "l": 0,
         "r": 0,
         "t": 50
        },
        "template": {
         "data": {
          "bar": [
           {
            "error_x": {
             "color": "#2a3f5f"
            },
            "error_y": {
             "color": "#2a3f5f"
            },
            "marker": {
             "line": {
              "color": "#E5ECF6",
              "width": 0.5
             },
             "pattern": {
              "fillmode": "overlay",
              "size": 10,
              "solidity": 0.2
             }
            },
            "type": "bar"
           }
          ],
          "barpolar": [
           {
            "marker": {
             "line": {
              "color": "#E5ECF6",
              "width": 0.5
             },
             "pattern": {
              "fillmode": "overlay",
              "size": 10,
              "solidity": 0.2
             }
            },
            "type": "barpolar"
           }
          ],
          "carpet": [
           {
            "aaxis": {
             "endlinecolor": "#2a3f5f",
             "gridcolor": "white",
             "linecolor": "white",
             "minorgridcolor": "white",
             "startlinecolor": "#2a3f5f"
            },
            "baxis": {
             "endlinecolor": "#2a3f5f",
             "gridcolor": "white",
             "linecolor": "white",
             "minorgridcolor": "white",
             "startlinecolor": "#2a3f5f"
            },
            "type": "carpet"
           }
          ],
          "choropleth": [
           {
            "colorbar": {
             "outlinewidth": 0,
             "ticks": ""
            },
            "type": "choropleth"
           }
          ],
          "contour": [
           {
            "colorbar": {
             "outlinewidth": 0,
             "ticks": ""
            },
            "colorscale": [
             [
              0,
              "#0d0887"
             ],
             [
              0.1111111111111111,
              "#46039f"
             ],
             [
              0.2222222222222222,
              "#7201a8"
             ],
             [
              0.3333333333333333,
              "#9c179e"
             ],
             [
              0.4444444444444444,
              "#bd3786"
             ],
             [
              0.5555555555555556,
              "#d8576b"
             ],
             [
              0.6666666666666666,
              "#ed7953"
             ],
             [
              0.7777777777777778,
              "#fb9f3a"
             ],
             [
              0.8888888888888888,
              "#fdca26"
             ],
             [
              1,
              "#f0f921"
             ]
            ],
            "type": "contour"
           }
          ],
          "contourcarpet": [
           {
            "colorbar": {
             "outlinewidth": 0,
             "ticks": ""
            },
            "type": "contourcarpet"
           }
          ],
          "heatmap": [
           {
            "colorbar": {
             "outlinewidth": 0,
             "ticks": ""
            },
            "colorscale": [
             [
              0,
              "#0d0887"
             ],
             [
              0.1111111111111111,
              "#46039f"
             ],
             [
              0.2222222222222222,
              "#7201a8"
             ],
             [
              0.3333333333333333,
              "#9c179e"
             ],
             [
              0.4444444444444444,
              "#bd3786"
             ],
             [
              0.5555555555555556,
              "#d8576b"
             ],
             [
              0.6666666666666666,
              "#ed7953"
             ],
             [
              0.7777777777777778,
              "#fb9f3a"
             ],
             [
              0.8888888888888888,
              "#fdca26"
             ],
             [
              1,
              "#f0f921"
             ]
            ],
            "type": "heatmap"
           }
          ],
          "heatmapgl": [
           {
            "colorbar": {
             "outlinewidth": 0,
             "ticks": ""
            },
            "colorscale": [
             [
              0,
              "#0d0887"
             ],
             [
              0.1111111111111111,
              "#46039f"
             ],
             [
              0.2222222222222222,
              "#7201a8"
             ],
             [
              0.3333333333333333,
              "#9c179e"
             ],
             [
              0.4444444444444444,
              "#bd3786"
             ],
             [
              0.5555555555555556,
              "#d8576b"
             ],
             [
              0.6666666666666666,
              "#ed7953"
             ],
             [
              0.7777777777777778,
              "#fb9f3a"
             ],
             [
              0.8888888888888888,
              "#fdca26"
             ],
             [
              1,
              "#f0f921"
             ]
            ],
            "type": "heatmapgl"
           }
          ],
          "histogram": [
           {
            "marker": {
             "pattern": {
              "fillmode": "overlay",
              "size": 10,
              "solidity": 0.2
             }
            },
            "type": "histogram"
           }
          ],
          "histogram2d": [
           {
            "colorbar": {
             "outlinewidth": 0,
             "ticks": ""
            },
            "colorscale": [
             [
              0,
              "#0d0887"
             ],
             [
              0.1111111111111111,
              "#46039f"
             ],
             [
              0.2222222222222222,
              "#7201a8"
             ],
             [
              0.3333333333333333,
              "#9c179e"
             ],
             [
              0.4444444444444444,
              "#bd3786"
             ],
             [
              0.5555555555555556,
              "#d8576b"
             ],
             [
              0.6666666666666666,
              "#ed7953"
             ],
             [
              0.7777777777777778,
              "#fb9f3a"
             ],
             [
              0.8888888888888888,
              "#fdca26"
             ],
             [
              1,
              "#f0f921"
             ]
            ],
            "type": "histogram2d"
           }
          ],
          "histogram2dcontour": [
           {
            "colorbar": {
             "outlinewidth": 0,
             "ticks": ""
            },
            "colorscale": [
             [
              0,
              "#0d0887"
             ],
             [
              0.1111111111111111,
              "#46039f"
             ],
             [
              0.2222222222222222,
              "#7201a8"
             ],
             [
              0.3333333333333333,
              "#9c179e"
             ],
             [
              0.4444444444444444,
              "#bd3786"
             ],
             [
              0.5555555555555556,
              "#d8576b"
             ],
             [
              0.6666666666666666,
              "#ed7953"
             ],
             [
              0.7777777777777778,
              "#fb9f3a"
             ],
             [
              0.8888888888888888,
              "#fdca26"
             ],
             [
              1,
              "#f0f921"
             ]
            ],
            "type": "histogram2dcontour"
           }
          ],
          "mesh3d": [
           {
            "colorbar": {
             "outlinewidth": 0,
             "ticks": ""
            },
            "type": "mesh3d"
           }
          ],
          "parcoords": [
           {
            "line": {
             "colorbar": {
              "outlinewidth": 0,
              "ticks": ""
             }
            },
            "type": "parcoords"
           }
          ],
          "pie": [
           {
            "automargin": true,
            "type": "pie"
           }
          ],
          "scatter": [
           {
            "fillpattern": {
             "fillmode": "overlay",
             "size": 10,
             "solidity": 0.2
            },
            "type": "scatter"
           }
          ],
          "scatter3d": [
           {
            "line": {
             "colorbar": {
              "outlinewidth": 0,
              "ticks": ""
             }
            },
            "marker": {
             "colorbar": {
              "outlinewidth": 0,
              "ticks": ""
             }
            },
            "type": "scatter3d"
           }
          ],
          "scattercarpet": [
           {
            "marker": {
             "colorbar": {
              "outlinewidth": 0,
              "ticks": ""
             }
            },
            "type": "scattercarpet"
           }
          ],
          "scattergeo": [
           {
            "marker": {
             "colorbar": {
              "outlinewidth": 0,
              "ticks": ""
             }
            },
            "type": "scattergeo"
           }
          ],
          "scattergl": [
           {
            "marker": {
             "colorbar": {
              "outlinewidth": 0,
              "ticks": ""
             }
            },
            "type": "scattergl"
           }
          ],
          "scattermapbox": [
           {
            "marker": {
             "colorbar": {
              "outlinewidth": 0,
              "ticks": ""
             }
            },
            "type": "scattermapbox"
           }
          ],
          "scatterpolar": [
           {
            "marker": {
             "colorbar": {
              "outlinewidth": 0,
              "ticks": ""
             }
            },
            "type": "scatterpolar"
           }
          ],
          "scatterpolargl": [
           {
            "marker": {
             "colorbar": {
              "outlinewidth": 0,
              "ticks": ""
             }
            },
            "type": "scatterpolargl"
           }
          ],
          "scatterternary": [
           {
            "marker": {
             "colorbar": {
              "outlinewidth": 0,
              "ticks": ""
             }
            },
            "type": "scatterternary"
           }
          ],
          "surface": [
           {
            "colorbar": {
             "outlinewidth": 0,
             "ticks": ""
            },
            "colorscale": [
             [
              0,
              "#0d0887"
             ],
             [
              0.1111111111111111,
              "#46039f"
             ],
             [
              0.2222222222222222,
              "#7201a8"
             ],
             [
              0.3333333333333333,
              "#9c179e"
             ],
             [
              0.4444444444444444,
              "#bd3786"
             ],
             [
              0.5555555555555556,
              "#d8576b"
             ],
             [
              0.6666666666666666,
              "#ed7953"
             ],
             [
              0.7777777777777778,
              "#fb9f3a"
             ],
             [
              0.8888888888888888,
              "#fdca26"
             ],
             [
              1,
              "#f0f921"
             ]
            ],
            "type": "surface"
           }
          ],
          "table": [
           {
            "cells": {
             "fill": {
              "color": "#EBF0F8"
             },
             "line": {
              "color": "white"
             }
            },
            "header": {
             "fill": {
              "color": "#C8D4E3"
             },
             "line": {
              "color": "white"
             }
            },
            "type": "table"
           }
          ]
         },
         "layout": {
          "annotationdefaults": {
           "arrowcolor": "#2a3f5f",
           "arrowhead": 0,
           "arrowwidth": 1
          },
          "autotypenumbers": "strict",
          "coloraxis": {
           "colorbar": {
            "outlinewidth": 0,
            "ticks": ""
           }
          },
          "colorscale": {
           "diverging": [
            [
             0,
             "#8e0152"
            ],
            [
             0.1,
             "#c51b7d"
            ],
            [
             0.2,
             "#de77ae"
            ],
            [
             0.3,
             "#f1b6da"
            ],
            [
             0.4,
             "#fde0ef"
            ],
            [
             0.5,
             "#f7f7f7"
            ],
            [
             0.6,
             "#e6f5d0"
            ],
            [
             0.7,
             "#b8e186"
            ],
            [
             0.8,
             "#7fbc41"
            ],
            [
             0.9,
             "#4d9221"
            ],
            [
             1,
             "#276419"
            ]
           ],
           "sequential": [
            [
             0,
             "#0d0887"
            ],
            [
             0.1111111111111111,
             "#46039f"
            ],
            [
             0.2222222222222222,
             "#7201a8"
            ],
            [
             0.3333333333333333,
             "#9c179e"
            ],
            [
             0.4444444444444444,
             "#bd3786"
            ],
            [
             0.5555555555555556,
             "#d8576b"
            ],
            [
             0.6666666666666666,
             "#ed7953"
            ],
            [
             0.7777777777777778,
             "#fb9f3a"
            ],
            [
             0.8888888888888888,
             "#fdca26"
            ],
            [
             1,
             "#f0f921"
            ]
           ],
           "sequentialminus": [
            [
             0,
             "#0d0887"
            ],
            [
             0.1111111111111111,
             "#46039f"
            ],
            [
             0.2222222222222222,
             "#7201a8"
            ],
            [
             0.3333333333333333,
             "#9c179e"
            ],
            [
             0.4444444444444444,
             "#bd3786"
            ],
            [
             0.5555555555555556,
             "#d8576b"
            ],
            [
             0.6666666666666666,
             "#ed7953"
            ],
            [
             0.7777777777777778,
             "#fb9f3a"
            ],
            [
             0.8888888888888888,
             "#fdca26"
            ],
            [
             1,
             "#f0f921"
            ]
           ]
          },
          "colorway": [
           "#636efa",
           "#EF553B",
           "#00cc96",
           "#ab63fa",
           "#FFA15A",
           "#19d3f3",
           "#FF6692",
           "#B6E880",
           "#FF97FF",
           "#FECB52"
          ],
          "font": {
           "color": "#2a3f5f"
          },
          "geo": {
           "bgcolor": "white",
           "lakecolor": "white",
           "landcolor": "#E5ECF6",
           "showlakes": true,
           "showland": true,
           "subunitcolor": "white"
          },
          "hoverlabel": {
           "align": "left"
          },
          "hovermode": "closest",
          "mapbox": {
           "style": "light"
          },
          "paper_bgcolor": "white",
          "plot_bgcolor": "#E5ECF6",
          "polar": {
           "angularaxis": {
            "gridcolor": "white",
            "linecolor": "white",
            "ticks": ""
           },
           "bgcolor": "#E5ECF6",
           "radialaxis": {
            "gridcolor": "white",
            "linecolor": "white",
            "ticks": ""
           }
          },
          "scene": {
           "xaxis": {
            "backgroundcolor": "#E5ECF6",
            "gridcolor": "white",
            "gridwidth": 2,
            "linecolor": "white",
            "showbackground": true,
            "ticks": "",
            "zerolinecolor": "white"
           },
           "yaxis": {
            "backgroundcolor": "#E5ECF6",
            "gridcolor": "white",
            "gridwidth": 2,
            "linecolor": "white",
            "showbackground": true,
            "ticks": "",
            "zerolinecolor": "white"
           },
           "zaxis": {
            "backgroundcolor": "#E5ECF6",
            "gridcolor": "white",
            "gridwidth": 2,
            "linecolor": "white",
            "showbackground": true,
            "ticks": "",
            "zerolinecolor": "white"
           }
          },
          "shapedefaults": {
           "line": {
            "color": "#2a3f5f"
           }
          },
          "ternary": {
           "aaxis": {
            "gridcolor": "white",
            "linecolor": "white",
            "ticks": ""
           },
           "baxis": {
            "gridcolor": "white",
            "linecolor": "white",
            "ticks": ""
           },
           "bgcolor": "#E5ECF6",
           "caxis": {
            "gridcolor": "white",
            "linecolor": "white",
            "ticks": ""
           }
          },
          "title": {
           "x": 0.05
          },
          "xaxis": {
           "automargin": true,
           "gridcolor": "white",
           "linecolor": "white",
           "ticks": "",
           "title": {
            "standoff": 15
           },
           "zerolinecolor": "white",
           "zerolinewidth": 2
          },
          "yaxis": {
           "automargin": true,
           "gridcolor": "white",
           "linecolor": "white",
           "ticks": "",
           "title": {
            "standoff": 15
           },
           "zerolinecolor": "white",
           "zerolinewidth": 2
          }
         }
        },
        "title": {
         "text": "State Distribution"
        }
       }
      },
      "text/html": [
       "<div>                            <div id=\"1d3e5bc4-66d2-47f7-8b95-10956d0ad09f\" class=\"plotly-graph-div\" style=\"height:525px; width:100%;\"></div>            <script type=\"text/javascript\">                require([\"plotly\"], function(Plotly) {                    window.PLOTLYENV=window.PLOTLYENV || {};                                    if (document.getElementById(\"1d3e5bc4-66d2-47f7-8b95-10956d0ad09f\")) {                    Plotly.newPlot(                        \"1d3e5bc4-66d2-47f7-8b95-10956d0ad09f\",                        [{\"domain\":{\"x\":[0.0,1.0],\"y\":[0.0,1.0]},\"hovertemplate\":\"label=%{label}<br>value=%{value}<br>parent=%{parent}<br>color=%{color}<extra></extra>\",\"labels\":[\"CA\",\"NY\",\"FL\",\"TX\",\"NJ\",\"PA\",\"IL\",\"VA\",\"GA\",\"MA\",\"OH\",\"MD\",\"AZ\",\"WA\",\"CO\",\"NC\",\"CT\",\"MI\",\"MO\",\"MN\",\"NV\",\"SC\",\"OR\",\"WI\",\"AL\",\"LA\",\"KY\",\"OK\",\"KS\",\"UT\",\"AR\",\"RI\",\"DC\",\"NM\",\"WV\",\"HI\",\"NH\",\"DE\",\"MT\",\"WY\",\"AK\",\"SD\",\"VT\",\"MS\",\"TN\",\"ID\",\"IA\",\"NE\",\"IN\"],\"marker\":{\"coloraxis\":\"coloraxis\",\"colors\":[5971,3134,2404,2246,1531,1324,1283,1178,1165,1096,1041,873,725,690,654,626,608,602,591,538,415,404,391,378,375,364,285,260,220,216,209,179,173,161,150,147,136,101,73,68,63,59,50,19,9,3,1,1,1]},\"name\":\"\",\"parents\":[\"USA\",\"USA\",\"USA\",\"USA\",\"USA\",\"USA\",\"USA\",\"USA\",\"USA\",\"USA\",\"USA\",\"USA\",\"USA\",\"USA\",\"USA\",\"USA\",\"USA\",\"USA\",\"USA\",\"USA\",\"USA\",\"USA\",\"USA\",\"USA\",\"USA\",\"USA\",\"USA\",\"USA\",\"USA\",\"USA\",\"USA\",\"USA\",\"USA\",\"USA\",\"USA\",\"USA\",\"USA\",\"USA\",\"USA\",\"USA\",\"USA\",\"USA\",\"USA\",\"USA\",\"USA\",\"USA\",\"USA\",\"USA\",\"USA\"],\"values\":[5971,3134,2404,2246,1531,1324,1283,1178,1165,1096,1041,873,725,690,654,626,608,602,591,538,415,404,391,378,375,364,285,260,220,216,209,179,173,161,150,147,136,101,73,68,63,59,50,19,9,3,1,1,1],\"type\":\"treemap\"}],                        {\"template\":{\"data\":{\"histogram2dcontour\":[{\"type\":\"histogram2dcontour\",\"colorbar\":{\"outlinewidth\":0,\"ticks\":\"\"},\"colorscale\":[[0.0,\"#0d0887\"],[0.1111111111111111,\"#46039f\"],[0.2222222222222222,\"#7201a8\"],[0.3333333333333333,\"#9c179e\"],[0.4444444444444444,\"#bd3786\"],[0.5555555555555556,\"#d8576b\"],[0.6666666666666666,\"#ed7953\"],[0.7777777777777778,\"#fb9f3a\"],[0.8888888888888888,\"#fdca26\"],[1.0,\"#f0f921\"]]}],\"choropleth\":[{\"type\":\"choropleth\",\"colorbar\":{\"outlinewidth\":0,\"ticks\":\"\"}}],\"histogram2d\":[{\"type\":\"histogram2d\",\"colorbar\":{\"outlinewidth\":0,\"ticks\":\"\"},\"colorscale\":[[0.0,\"#0d0887\"],[0.1111111111111111,\"#46039f\"],[0.2222222222222222,\"#7201a8\"],[0.3333333333333333,\"#9c179e\"],[0.4444444444444444,\"#bd3786\"],[0.5555555555555556,\"#d8576b\"],[0.6666666666666666,\"#ed7953\"],[0.7777777777777778,\"#fb9f3a\"],[0.8888888888888888,\"#fdca26\"],[1.0,\"#f0f921\"]]}],\"heatmap\":[{\"type\":\"heatmap\",\"colorbar\":{\"outlinewidth\":0,\"ticks\":\"\"},\"colorscale\":[[0.0,\"#0d0887\"],[0.1111111111111111,\"#46039f\"],[0.2222222222222222,\"#7201a8\"],[0.3333333333333333,\"#9c179e\"],[0.4444444444444444,\"#bd3786\"],[0.5555555555555556,\"#d8576b\"],[0.6666666666666666,\"#ed7953\"],[0.7777777777777778,\"#fb9f3a\"],[0.8888888888888888,\"#fdca26\"],[1.0,\"#f0f921\"]]}],\"heatmapgl\":[{\"type\":\"heatmapgl\",\"colorbar\":{\"outlinewidth\":0,\"ticks\":\"\"},\"colorscale\":[[0.0,\"#0d0887\"],[0.1111111111111111,\"#46039f\"],[0.2222222222222222,\"#7201a8\"],[0.3333333333333333,\"#9c179e\"],[0.4444444444444444,\"#bd3786\"],[0.5555555555555556,\"#d8576b\"],[0.6666666666666666,\"#ed7953\"],[0.7777777777777778,\"#fb9f3a\"],[0.8888888888888888,\"#fdca26\"],[1.0,\"#f0f921\"]]}],\"contourcarpet\":[{\"type\":\"contourcarpet\",\"colorbar\":{\"outlinewidth\":0,\"ticks\":\"\"}}],\"contour\":[{\"type\":\"contour\",\"colorbar\":{\"outlinewidth\":0,\"ticks\":\"\"},\"colorscale\":[[0.0,\"#0d0887\"],[0.1111111111111111,\"#46039f\"],[0.2222222222222222,\"#7201a8\"],[0.3333333333333333,\"#9c179e\"],[0.4444444444444444,\"#bd3786\"],[0.5555555555555556,\"#d8576b\"],[0.6666666666666666,\"#ed7953\"],[0.7777777777777778,\"#fb9f3a\"],[0.8888888888888888,\"#fdca26\"],[1.0,\"#f0f921\"]]}],\"surface\":[{\"type\":\"surface\",\"colorbar\":{\"outlinewidth\":0,\"ticks\":\"\"},\"colorscale\":[[0.0,\"#0d0887\"],[0.1111111111111111,\"#46039f\"],[0.2222222222222222,\"#7201a8\"],[0.3333333333333333,\"#9c179e\"],[0.4444444444444444,\"#bd3786\"],[0.5555555555555556,\"#d8576b\"],[0.6666666666666666,\"#ed7953\"],[0.7777777777777778,\"#fb9f3a\"],[0.8888888888888888,\"#fdca26\"],[1.0,\"#f0f921\"]]}],\"mesh3d\":[{\"type\":\"mesh3d\",\"colorbar\":{\"outlinewidth\":0,\"ticks\":\"\"}}],\"scatter\":[{\"fillpattern\":{\"fillmode\":\"overlay\",\"size\":10,\"solidity\":0.2},\"type\":\"scatter\"}],\"parcoords\":[{\"type\":\"parcoords\",\"line\":{\"colorbar\":{\"outlinewidth\":0,\"ticks\":\"\"}}}],\"scatterpolargl\":[{\"type\":\"scatterpolargl\",\"marker\":{\"colorbar\":{\"outlinewidth\":0,\"ticks\":\"\"}}}],\"bar\":[{\"error_x\":{\"color\":\"#2a3f5f\"},\"error_y\":{\"color\":\"#2a3f5f\"},\"marker\":{\"line\":{\"color\":\"#E5ECF6\",\"width\":0.5},\"pattern\":{\"fillmode\":\"overlay\",\"size\":10,\"solidity\":0.2}},\"type\":\"bar\"}],\"scattergeo\":[{\"type\":\"scattergeo\",\"marker\":{\"colorbar\":{\"outlinewidth\":0,\"ticks\":\"\"}}}],\"scatterpolar\":[{\"type\":\"scatterpolar\",\"marker\":{\"colorbar\":{\"outlinewidth\":0,\"ticks\":\"\"}}}],\"histogram\":[{\"marker\":{\"pattern\":{\"fillmode\":\"overlay\",\"size\":10,\"solidity\":0.2}},\"type\":\"histogram\"}],\"scattergl\":[{\"type\":\"scattergl\",\"marker\":{\"colorbar\":{\"outlinewidth\":0,\"ticks\":\"\"}}}],\"scatter3d\":[{\"type\":\"scatter3d\",\"line\":{\"colorbar\":{\"outlinewidth\":0,\"ticks\":\"\"}},\"marker\":{\"colorbar\":{\"outlinewidth\":0,\"ticks\":\"\"}}}],\"scattermapbox\":[{\"type\":\"scattermapbox\",\"marker\":{\"colorbar\":{\"outlinewidth\":0,\"ticks\":\"\"}}}],\"scatterternary\":[{\"type\":\"scatterternary\",\"marker\":{\"colorbar\":{\"outlinewidth\":0,\"ticks\":\"\"}}}],\"scattercarpet\":[{\"type\":\"scattercarpet\",\"marker\":{\"colorbar\":{\"outlinewidth\":0,\"ticks\":\"\"}}}],\"carpet\":[{\"aaxis\":{\"endlinecolor\":\"#2a3f5f\",\"gridcolor\":\"white\",\"linecolor\":\"white\",\"minorgridcolor\":\"white\",\"startlinecolor\":\"#2a3f5f\"},\"baxis\":{\"endlinecolor\":\"#2a3f5f\",\"gridcolor\":\"white\",\"linecolor\":\"white\",\"minorgridcolor\":\"white\",\"startlinecolor\":\"#2a3f5f\"},\"type\":\"carpet\"}],\"table\":[{\"cells\":{\"fill\":{\"color\":\"#EBF0F8\"},\"line\":{\"color\":\"white\"}},\"header\":{\"fill\":{\"color\":\"#C8D4E3\"},\"line\":{\"color\":\"white\"}},\"type\":\"table\"}],\"barpolar\":[{\"marker\":{\"line\":{\"color\":\"#E5ECF6\",\"width\":0.5},\"pattern\":{\"fillmode\":\"overlay\",\"size\":10,\"solidity\":0.2}},\"type\":\"barpolar\"}],\"pie\":[{\"automargin\":true,\"type\":\"pie\"}]},\"layout\":{\"autotypenumbers\":\"strict\",\"colorway\":[\"#636efa\",\"#EF553B\",\"#00cc96\",\"#ab63fa\",\"#FFA15A\",\"#19d3f3\",\"#FF6692\",\"#B6E880\",\"#FF97FF\",\"#FECB52\"],\"font\":{\"color\":\"#2a3f5f\"},\"hovermode\":\"closest\",\"hoverlabel\":{\"align\":\"left\"},\"paper_bgcolor\":\"white\",\"plot_bgcolor\":\"#E5ECF6\",\"polar\":{\"bgcolor\":\"#E5ECF6\",\"angularaxis\":{\"gridcolor\":\"white\",\"linecolor\":\"white\",\"ticks\":\"\"},\"radialaxis\":{\"gridcolor\":\"white\",\"linecolor\":\"white\",\"ticks\":\"\"}},\"ternary\":{\"bgcolor\":\"#E5ECF6\",\"aaxis\":{\"gridcolor\":\"white\",\"linecolor\":\"white\",\"ticks\":\"\"},\"baxis\":{\"gridcolor\":\"white\",\"linecolor\":\"white\",\"ticks\":\"\"},\"caxis\":{\"gridcolor\":\"white\",\"linecolor\":\"white\",\"ticks\":\"\"}},\"coloraxis\":{\"colorbar\":{\"outlinewidth\":0,\"ticks\":\"\"}},\"colorscale\":{\"sequential\":[[0.0,\"#0d0887\"],[0.1111111111111111,\"#46039f\"],[0.2222222222222222,\"#7201a8\"],[0.3333333333333333,\"#9c179e\"],[0.4444444444444444,\"#bd3786\"],[0.5555555555555556,\"#d8576b\"],[0.6666666666666666,\"#ed7953\"],[0.7777777777777778,\"#fb9f3a\"],[0.8888888888888888,\"#fdca26\"],[1.0,\"#f0f921\"]],\"sequentialminus\":[[0.0,\"#0d0887\"],[0.1111111111111111,\"#46039f\"],[0.2222222222222222,\"#7201a8\"],[0.3333333333333333,\"#9c179e\"],[0.4444444444444444,\"#bd3786\"],[0.5555555555555556,\"#d8576b\"],[0.6666666666666666,\"#ed7953\"],[0.7777777777777778,\"#fb9f3a\"],[0.8888888888888888,\"#fdca26\"],[1.0,\"#f0f921\"]],\"diverging\":[[0,\"#8e0152\"],[0.1,\"#c51b7d\"],[0.2,\"#de77ae\"],[0.3,\"#f1b6da\"],[0.4,\"#fde0ef\"],[0.5,\"#f7f7f7\"],[0.6,\"#e6f5d0\"],[0.7,\"#b8e186\"],[0.8,\"#7fbc41\"],[0.9,\"#4d9221\"],[1,\"#276419\"]]},\"xaxis\":{\"gridcolor\":\"white\",\"linecolor\":\"white\",\"ticks\":\"\",\"title\":{\"standoff\":15},\"zerolinecolor\":\"white\",\"automargin\":true,\"zerolinewidth\":2},\"yaxis\":{\"gridcolor\":\"white\",\"linecolor\":\"white\",\"ticks\":\"\",\"title\":{\"standoff\":15},\"zerolinecolor\":\"white\",\"automargin\":true,\"zerolinewidth\":2},\"scene\":{\"xaxis\":{\"backgroundcolor\":\"#E5ECF6\",\"gridcolor\":\"white\",\"linecolor\":\"white\",\"showbackground\":true,\"ticks\":\"\",\"zerolinecolor\":\"white\",\"gridwidth\":2},\"yaxis\":{\"backgroundcolor\":\"#E5ECF6\",\"gridcolor\":\"white\",\"linecolor\":\"white\",\"showbackground\":true,\"ticks\":\"\",\"zerolinecolor\":\"white\",\"gridwidth\":2},\"zaxis\":{\"backgroundcolor\":\"#E5ECF6\",\"gridcolor\":\"white\",\"linecolor\":\"white\",\"showbackground\":true,\"ticks\":\"\",\"zerolinecolor\":\"white\",\"gridwidth\":2}},\"shapedefaults\":{\"line\":{\"color\":\"#2a3f5f\"}},\"annotationdefaults\":{\"arrowcolor\":\"#2a3f5f\",\"arrowhead\":0,\"arrowwidth\":1},\"geo\":{\"bgcolor\":\"white\",\"landcolor\":\"#E5ECF6\",\"subunitcolor\":\"white\",\"showland\":true,\"showlakes\":true,\"lakecolor\":\"white\"},\"title\":{\"x\":0.05},\"mapbox\":{\"style\":\"light\"}}},\"coloraxis\":{\"colorbar\":{\"title\":{\"text\":\"color\"}},\"colorscale\":[[0.0,\"#0072CE\"],[0.25,\"#00A3E0\"],[0.5,\"#7BCFED\"],[0.75,\"#6F777D\"],[1.0,\"#949CA1\"]]},\"legend\":{\"tracegroupgap\":0},\"margin\":{\"t\":50,\"l\":0,\"r\":0,\"b\":0},\"title\":{\"text\":\"State Distribution\"}},                        {\"responsive\": true}                    ).then(function(){\n",
       "                            \n",
       "var gd = document.getElementById('1d3e5bc4-66d2-47f7-8b95-10956d0ad09f');\n",
       "var x = new MutationObserver(function (mutations, observer) {{\n",
       "        var display = window.getComputedStyle(gd).display;\n",
       "        if (!display || display === 'none') {{\n",
       "            console.log([gd, 'removed!']);\n",
       "            Plotly.purge(gd);\n",
       "            observer.disconnect();\n",
       "        }}\n",
       "}});\n",
       "\n",
       "// Listen for the removal of the full notebook cells\n",
       "var notebookContainer = gd.closest('#notebook-container');\n",
       "if (notebookContainer) {{\n",
       "    x.observe(notebookContainer, {childList: true});\n",
       "}}\n",
       "\n",
       "// Listen for the clearing of the current output cell\n",
       "var outputEl = gd.closest('.output');\n",
       "if (outputEl) {{\n",
       "    x.observe(outputEl, {childList: true});\n",
       "}}\n",
       "\n",
       "                        })                };                });            </script>        </div>"
      ]
     },
     "metadata": {},
     "output_type": "display_data"
    }
   ],
   "source": [
    "import plotly.express as px\n",
    "\n",
    "# Define McKinsey color palette\n",
    "mckinsey_colors = [\"#0072CE\", \"#00A3E0\", \"#7BCFED\", \"#6F777D\", \"#949CA1\"]\n",
    "\n",
    "# Get value counts of states\n",
    "state_counts = loan_df_filtered['addr_state'].value_counts()\n",
    "\n",
    "# Create tree map chart with custom colors\n",
    "fig = px.treemap(names=state_counts.index, parents=[\"USA\"] * len(state_counts), values=state_counts.values,\n",
    "                 color=state_counts.values, color_continuous_scale=mckinsey_colors)\n",
    "fig.update_layout(title='State Distribution', margin=dict(t=50, l=0, r=0, b=0))\n",
    "fig.show()"
   ]
  },
  {
   "cell_type": "code",
   "execution_count": null,
   "id": "23a29b71",
   "metadata": {},
   "outputs": [],
   "source": [
    "# Most of the Loan applicants are from CA(State)."
   ]
  },
  {
   "cell_type": "code",
   "execution_count": null,
   "id": "21e82c6d",
   "metadata": {},
   "outputs": [],
   "source": [
    "#5.3 Ordered Categorical Variable Analysis."
   ]
  },
  {
   "cell_type": "code",
   "execution_count": 105,
   "id": "d3e02ca6",
   "metadata": {},
   "outputs": [
    {
     "data": {
      "application/vnd.plotly.v1+json": {
       "config": {
        "plotlyServerURL": "https://plot.ly"
       },
       "data": [
        {
         "domain": {
          "x": [
           0,
           1
          ],
          "y": [
           0,
           1
          ]
         },
         "hovertemplate": "label=%{label}<br>value=%{value}<br>parent=%{parent}<extra></extra>",
         "labels": [
          "10+ years",
          "< 1 year",
          "2 years",
          "3 years",
          "4 years",
          "5 years",
          "1 year",
          "6 years",
          "7 years",
          "8 years",
          "9 years"
         ],
         "name": "",
         "parents": [
          "Employment Length",
          "Employment Length",
          "Employment Length",
          "Employment Length",
          "Employment Length",
          "Employment Length",
          "Employment Length",
          "Employment Length",
          "Employment Length",
          "Employment Length",
          "Employment Length"
         ],
         "type": "treemap",
         "values": [
          8879,
          4583,
          4388,
          4095,
          3436,
          3282,
          3240,
          2229,
          1773,
          1479,
          1258
         ]
        }
       ],
       "layout": {
        "legend": {
         "tracegroupgap": 0
        },
        "margin": {
         "b": 0,
         "l": 0,
         "r": 0,
         "t": 50
        },
        "template": {
         "data": {
          "bar": [
           {
            "error_x": {
             "color": "#2a3f5f"
            },
            "error_y": {
             "color": "#2a3f5f"
            },
            "marker": {
             "line": {
              "color": "#E5ECF6",
              "width": 0.5
             },
             "pattern": {
              "fillmode": "overlay",
              "size": 10,
              "solidity": 0.2
             }
            },
            "type": "bar"
           }
          ],
          "barpolar": [
           {
            "marker": {
             "line": {
              "color": "#E5ECF6",
              "width": 0.5
             },
             "pattern": {
              "fillmode": "overlay",
              "size": 10,
              "solidity": 0.2
             }
            },
            "type": "barpolar"
           }
          ],
          "carpet": [
           {
            "aaxis": {
             "endlinecolor": "#2a3f5f",
             "gridcolor": "white",
             "linecolor": "white",
             "minorgridcolor": "white",
             "startlinecolor": "#2a3f5f"
            },
            "baxis": {
             "endlinecolor": "#2a3f5f",
             "gridcolor": "white",
             "linecolor": "white",
             "minorgridcolor": "white",
             "startlinecolor": "#2a3f5f"
            },
            "type": "carpet"
           }
          ],
          "choropleth": [
           {
            "colorbar": {
             "outlinewidth": 0,
             "ticks": ""
            },
            "type": "choropleth"
           }
          ],
          "contour": [
           {
            "colorbar": {
             "outlinewidth": 0,
             "ticks": ""
            },
            "colorscale": [
             [
              0,
              "#0d0887"
             ],
             [
              0.1111111111111111,
              "#46039f"
             ],
             [
              0.2222222222222222,
              "#7201a8"
             ],
             [
              0.3333333333333333,
              "#9c179e"
             ],
             [
              0.4444444444444444,
              "#bd3786"
             ],
             [
              0.5555555555555556,
              "#d8576b"
             ],
             [
              0.6666666666666666,
              "#ed7953"
             ],
             [
              0.7777777777777778,
              "#fb9f3a"
             ],
             [
              0.8888888888888888,
              "#fdca26"
             ],
             [
              1,
              "#f0f921"
             ]
            ],
            "type": "contour"
           }
          ],
          "contourcarpet": [
           {
            "colorbar": {
             "outlinewidth": 0,
             "ticks": ""
            },
            "type": "contourcarpet"
           }
          ],
          "heatmap": [
           {
            "colorbar": {
             "outlinewidth": 0,
             "ticks": ""
            },
            "colorscale": [
             [
              0,
              "#0d0887"
             ],
             [
              0.1111111111111111,
              "#46039f"
             ],
             [
              0.2222222222222222,
              "#7201a8"
             ],
             [
              0.3333333333333333,
              "#9c179e"
             ],
             [
              0.4444444444444444,
              "#bd3786"
             ],
             [
              0.5555555555555556,
              "#d8576b"
             ],
             [
              0.6666666666666666,
              "#ed7953"
             ],
             [
              0.7777777777777778,
              "#fb9f3a"
             ],
             [
              0.8888888888888888,
              "#fdca26"
             ],
             [
              1,
              "#f0f921"
             ]
            ],
            "type": "heatmap"
           }
          ],
          "heatmapgl": [
           {
            "colorbar": {
             "outlinewidth": 0,
             "ticks": ""
            },
            "colorscale": [
             [
              0,
              "#0d0887"
             ],
             [
              0.1111111111111111,
              "#46039f"
             ],
             [
              0.2222222222222222,
              "#7201a8"
             ],
             [
              0.3333333333333333,
              "#9c179e"
             ],
             [
              0.4444444444444444,
              "#bd3786"
             ],
             [
              0.5555555555555556,
              "#d8576b"
             ],
             [
              0.6666666666666666,
              "#ed7953"
             ],
             [
              0.7777777777777778,
              "#fb9f3a"
             ],
             [
              0.8888888888888888,
              "#fdca26"
             ],
             [
              1,
              "#f0f921"
             ]
            ],
            "type": "heatmapgl"
           }
          ],
          "histogram": [
           {
            "marker": {
             "pattern": {
              "fillmode": "overlay",
              "size": 10,
              "solidity": 0.2
             }
            },
            "type": "histogram"
           }
          ],
          "histogram2d": [
           {
            "colorbar": {
             "outlinewidth": 0,
             "ticks": ""
            },
            "colorscale": [
             [
              0,
              "#0d0887"
             ],
             [
              0.1111111111111111,
              "#46039f"
             ],
             [
              0.2222222222222222,
              "#7201a8"
             ],
             [
              0.3333333333333333,
              "#9c179e"
             ],
             [
              0.4444444444444444,
              "#bd3786"
             ],
             [
              0.5555555555555556,
              "#d8576b"
             ],
             [
              0.6666666666666666,
              "#ed7953"
             ],
             [
              0.7777777777777778,
              "#fb9f3a"
             ],
             [
              0.8888888888888888,
              "#fdca26"
             ],
             [
              1,
              "#f0f921"
             ]
            ],
            "type": "histogram2d"
           }
          ],
          "histogram2dcontour": [
           {
            "colorbar": {
             "outlinewidth": 0,
             "ticks": ""
            },
            "colorscale": [
             [
              0,
              "#0d0887"
             ],
             [
              0.1111111111111111,
              "#46039f"
             ],
             [
              0.2222222222222222,
              "#7201a8"
             ],
             [
              0.3333333333333333,
              "#9c179e"
             ],
             [
              0.4444444444444444,
              "#bd3786"
             ],
             [
              0.5555555555555556,
              "#d8576b"
             ],
             [
              0.6666666666666666,
              "#ed7953"
             ],
             [
              0.7777777777777778,
              "#fb9f3a"
             ],
             [
              0.8888888888888888,
              "#fdca26"
             ],
             [
              1,
              "#f0f921"
             ]
            ],
            "type": "histogram2dcontour"
           }
          ],
          "mesh3d": [
           {
            "colorbar": {
             "outlinewidth": 0,
             "ticks": ""
            },
            "type": "mesh3d"
           }
          ],
          "parcoords": [
           {
            "line": {
             "colorbar": {
              "outlinewidth": 0,
              "ticks": ""
             }
            },
            "type": "parcoords"
           }
          ],
          "pie": [
           {
            "automargin": true,
            "type": "pie"
           }
          ],
          "scatter": [
           {
            "fillpattern": {
             "fillmode": "overlay",
             "size": 10,
             "solidity": 0.2
            },
            "type": "scatter"
           }
          ],
          "scatter3d": [
           {
            "line": {
             "colorbar": {
              "outlinewidth": 0,
              "ticks": ""
             }
            },
            "marker": {
             "colorbar": {
              "outlinewidth": 0,
              "ticks": ""
             }
            },
            "type": "scatter3d"
           }
          ],
          "scattercarpet": [
           {
            "marker": {
             "colorbar": {
              "outlinewidth": 0,
              "ticks": ""
             }
            },
            "type": "scattercarpet"
           }
          ],
          "scattergeo": [
           {
            "marker": {
             "colorbar": {
              "outlinewidth": 0,
              "ticks": ""
             }
            },
            "type": "scattergeo"
           }
          ],
          "scattergl": [
           {
            "marker": {
             "colorbar": {
              "outlinewidth": 0,
              "ticks": ""
             }
            },
            "type": "scattergl"
           }
          ],
          "scattermapbox": [
           {
            "marker": {
             "colorbar": {
              "outlinewidth": 0,
              "ticks": ""
             }
            },
            "type": "scattermapbox"
           }
          ],
          "scatterpolar": [
           {
            "marker": {
             "colorbar": {
              "outlinewidth": 0,
              "ticks": ""
             }
            },
            "type": "scatterpolar"
           }
          ],
          "scatterpolargl": [
           {
            "marker": {
             "colorbar": {
              "outlinewidth": 0,
              "ticks": ""
             }
            },
            "type": "scatterpolargl"
           }
          ],
          "scatterternary": [
           {
            "marker": {
             "colorbar": {
              "outlinewidth": 0,
              "ticks": ""
             }
            },
            "type": "scatterternary"
           }
          ],
          "surface": [
           {
            "colorbar": {
             "outlinewidth": 0,
             "ticks": ""
            },
            "colorscale": [
             [
              0,
              "#0d0887"
             ],
             [
              0.1111111111111111,
              "#46039f"
             ],
             [
              0.2222222222222222,
              "#7201a8"
             ],
             [
              0.3333333333333333,
              "#9c179e"
             ],
             [
              0.4444444444444444,
              "#bd3786"
             ],
             [
              0.5555555555555556,
              "#d8576b"
             ],
             [
              0.6666666666666666,
              "#ed7953"
             ],
             [
              0.7777777777777778,
              "#fb9f3a"
             ],
             [
              0.8888888888888888,
              "#fdca26"
             ],
             [
              1,
              "#f0f921"
             ]
            ],
            "type": "surface"
           }
          ],
          "table": [
           {
            "cells": {
             "fill": {
              "color": "#EBF0F8"
             },
             "line": {
              "color": "white"
             }
            },
            "header": {
             "fill": {
              "color": "#C8D4E3"
             },
             "line": {
              "color": "white"
             }
            },
            "type": "table"
           }
          ]
         },
         "layout": {
          "annotationdefaults": {
           "arrowcolor": "#2a3f5f",
           "arrowhead": 0,
           "arrowwidth": 1
          },
          "autotypenumbers": "strict",
          "coloraxis": {
           "colorbar": {
            "outlinewidth": 0,
            "ticks": ""
           }
          },
          "colorscale": {
           "diverging": [
            [
             0,
             "#8e0152"
            ],
            [
             0.1,
             "#c51b7d"
            ],
            [
             0.2,
             "#de77ae"
            ],
            [
             0.3,
             "#f1b6da"
            ],
            [
             0.4,
             "#fde0ef"
            ],
            [
             0.5,
             "#f7f7f7"
            ],
            [
             0.6,
             "#e6f5d0"
            ],
            [
             0.7,
             "#b8e186"
            ],
            [
             0.8,
             "#7fbc41"
            ],
            [
             0.9,
             "#4d9221"
            ],
            [
             1,
             "#276419"
            ]
           ],
           "sequential": [
            [
             0,
             "#0d0887"
            ],
            [
             0.1111111111111111,
             "#46039f"
            ],
            [
             0.2222222222222222,
             "#7201a8"
            ],
            [
             0.3333333333333333,
             "#9c179e"
            ],
            [
             0.4444444444444444,
             "#bd3786"
            ],
            [
             0.5555555555555556,
             "#d8576b"
            ],
            [
             0.6666666666666666,
             "#ed7953"
            ],
            [
             0.7777777777777778,
             "#fb9f3a"
            ],
            [
             0.8888888888888888,
             "#fdca26"
            ],
            [
             1,
             "#f0f921"
            ]
           ],
           "sequentialminus": [
            [
             0,
             "#0d0887"
            ],
            [
             0.1111111111111111,
             "#46039f"
            ],
            [
             0.2222222222222222,
             "#7201a8"
            ],
            [
             0.3333333333333333,
             "#9c179e"
            ],
            [
             0.4444444444444444,
             "#bd3786"
            ],
            [
             0.5555555555555556,
             "#d8576b"
            ],
            [
             0.6666666666666666,
             "#ed7953"
            ],
            [
             0.7777777777777778,
             "#fb9f3a"
            ],
            [
             0.8888888888888888,
             "#fdca26"
            ],
            [
             1,
             "#f0f921"
            ]
           ]
          },
          "colorway": [
           "#636efa",
           "#EF553B",
           "#00cc96",
           "#ab63fa",
           "#FFA15A",
           "#19d3f3",
           "#FF6692",
           "#B6E880",
           "#FF97FF",
           "#FECB52"
          ],
          "font": {
           "color": "#2a3f5f"
          },
          "geo": {
           "bgcolor": "white",
           "lakecolor": "white",
           "landcolor": "#E5ECF6",
           "showlakes": true,
           "showland": true,
           "subunitcolor": "white"
          },
          "hoverlabel": {
           "align": "left"
          },
          "hovermode": "closest",
          "mapbox": {
           "style": "light"
          },
          "paper_bgcolor": "white",
          "plot_bgcolor": "#E5ECF6",
          "polar": {
           "angularaxis": {
            "gridcolor": "white",
            "linecolor": "white",
            "ticks": ""
           },
           "bgcolor": "#E5ECF6",
           "radialaxis": {
            "gridcolor": "white",
            "linecolor": "white",
            "ticks": ""
           }
          },
          "scene": {
           "xaxis": {
            "backgroundcolor": "#E5ECF6",
            "gridcolor": "white",
            "gridwidth": 2,
            "linecolor": "white",
            "showbackground": true,
            "ticks": "",
            "zerolinecolor": "white"
           },
           "yaxis": {
            "backgroundcolor": "#E5ECF6",
            "gridcolor": "white",
            "gridwidth": 2,
            "linecolor": "white",
            "showbackground": true,
            "ticks": "",
            "zerolinecolor": "white"
           },
           "zaxis": {
            "backgroundcolor": "#E5ECF6",
            "gridcolor": "white",
            "gridwidth": 2,
            "linecolor": "white",
            "showbackground": true,
            "ticks": "",
            "zerolinecolor": "white"
           }
          },
          "shapedefaults": {
           "line": {
            "color": "#2a3f5f"
           }
          },
          "ternary": {
           "aaxis": {
            "gridcolor": "white",
            "linecolor": "white",
            "ticks": ""
           },
           "baxis": {
            "gridcolor": "white",
            "linecolor": "white",
            "ticks": ""
           },
           "bgcolor": "#E5ECF6",
           "caxis": {
            "gridcolor": "white",
            "linecolor": "white",
            "ticks": ""
           }
          },
          "title": {
           "x": 0.05
          },
          "xaxis": {
           "automargin": true,
           "gridcolor": "white",
           "linecolor": "white",
           "ticks": "",
           "title": {
            "standoff": 15
           },
           "zerolinecolor": "white",
           "zerolinewidth": 2
          },
          "yaxis": {
           "automargin": true,
           "gridcolor": "white",
           "linecolor": "white",
           "ticks": "",
           "title": {
            "standoff": 15
           },
           "zerolinecolor": "white",
           "zerolinewidth": 2
          }
         }
        },
        "title": {
         "text": "Employment Length Distribution"
        }
       }
      },
      "text/html": [
       "<div>                            <div id=\"b82c3c8e-2df2-40dd-adea-819527c393cc\" class=\"plotly-graph-div\" style=\"height:525px; width:100%;\"></div>            <script type=\"text/javascript\">                require([\"plotly\"], function(Plotly) {                    window.PLOTLYENV=window.PLOTLYENV || {};                                    if (document.getElementById(\"b82c3c8e-2df2-40dd-adea-819527c393cc\")) {                    Plotly.newPlot(                        \"b82c3c8e-2df2-40dd-adea-819527c393cc\",                        [{\"domain\":{\"x\":[0.0,1.0],\"y\":[0.0,1.0]},\"hovertemplate\":\"label=%{label}<br>value=%{value}<br>parent=%{parent}<extra></extra>\",\"labels\":[\"10+ years\",\"< 1 year\",\"2 years\",\"3 years\",\"4 years\",\"5 years\",\"1 year\",\"6 years\",\"7 years\",\"8 years\",\"9 years\"],\"name\":\"\",\"parents\":[\"Employment Length\",\"Employment Length\",\"Employment Length\",\"Employment Length\",\"Employment Length\",\"Employment Length\",\"Employment Length\",\"Employment Length\",\"Employment Length\",\"Employment Length\",\"Employment Length\"],\"values\":[8879,4583,4388,4095,3436,3282,3240,2229,1773,1479,1258],\"type\":\"treemap\"}],                        {\"template\":{\"data\":{\"histogram2dcontour\":[{\"type\":\"histogram2dcontour\",\"colorbar\":{\"outlinewidth\":0,\"ticks\":\"\"},\"colorscale\":[[0.0,\"#0d0887\"],[0.1111111111111111,\"#46039f\"],[0.2222222222222222,\"#7201a8\"],[0.3333333333333333,\"#9c179e\"],[0.4444444444444444,\"#bd3786\"],[0.5555555555555556,\"#d8576b\"],[0.6666666666666666,\"#ed7953\"],[0.7777777777777778,\"#fb9f3a\"],[0.8888888888888888,\"#fdca26\"],[1.0,\"#f0f921\"]]}],\"choropleth\":[{\"type\":\"choropleth\",\"colorbar\":{\"outlinewidth\":0,\"ticks\":\"\"}}],\"histogram2d\":[{\"type\":\"histogram2d\",\"colorbar\":{\"outlinewidth\":0,\"ticks\":\"\"},\"colorscale\":[[0.0,\"#0d0887\"],[0.1111111111111111,\"#46039f\"],[0.2222222222222222,\"#7201a8\"],[0.3333333333333333,\"#9c179e\"],[0.4444444444444444,\"#bd3786\"],[0.5555555555555556,\"#d8576b\"],[0.6666666666666666,\"#ed7953\"],[0.7777777777777778,\"#fb9f3a\"],[0.8888888888888888,\"#fdca26\"],[1.0,\"#f0f921\"]]}],\"heatmap\":[{\"type\":\"heatmap\",\"colorbar\":{\"outlinewidth\":0,\"ticks\":\"\"},\"colorscale\":[[0.0,\"#0d0887\"],[0.1111111111111111,\"#46039f\"],[0.2222222222222222,\"#7201a8\"],[0.3333333333333333,\"#9c179e\"],[0.4444444444444444,\"#bd3786\"],[0.5555555555555556,\"#d8576b\"],[0.6666666666666666,\"#ed7953\"],[0.7777777777777778,\"#fb9f3a\"],[0.8888888888888888,\"#fdca26\"],[1.0,\"#f0f921\"]]}],\"heatmapgl\":[{\"type\":\"heatmapgl\",\"colorbar\":{\"outlinewidth\":0,\"ticks\":\"\"},\"colorscale\":[[0.0,\"#0d0887\"],[0.1111111111111111,\"#46039f\"],[0.2222222222222222,\"#7201a8\"],[0.3333333333333333,\"#9c179e\"],[0.4444444444444444,\"#bd3786\"],[0.5555555555555556,\"#d8576b\"],[0.6666666666666666,\"#ed7953\"],[0.7777777777777778,\"#fb9f3a\"],[0.8888888888888888,\"#fdca26\"],[1.0,\"#f0f921\"]]}],\"contourcarpet\":[{\"type\":\"contourcarpet\",\"colorbar\":{\"outlinewidth\":0,\"ticks\":\"\"}}],\"contour\":[{\"type\":\"contour\",\"colorbar\":{\"outlinewidth\":0,\"ticks\":\"\"},\"colorscale\":[[0.0,\"#0d0887\"],[0.1111111111111111,\"#46039f\"],[0.2222222222222222,\"#7201a8\"],[0.3333333333333333,\"#9c179e\"],[0.4444444444444444,\"#bd3786\"],[0.5555555555555556,\"#d8576b\"],[0.6666666666666666,\"#ed7953\"],[0.7777777777777778,\"#fb9f3a\"],[0.8888888888888888,\"#fdca26\"],[1.0,\"#f0f921\"]]}],\"surface\":[{\"type\":\"surface\",\"colorbar\":{\"outlinewidth\":0,\"ticks\":\"\"},\"colorscale\":[[0.0,\"#0d0887\"],[0.1111111111111111,\"#46039f\"],[0.2222222222222222,\"#7201a8\"],[0.3333333333333333,\"#9c179e\"],[0.4444444444444444,\"#bd3786\"],[0.5555555555555556,\"#d8576b\"],[0.6666666666666666,\"#ed7953\"],[0.7777777777777778,\"#fb9f3a\"],[0.8888888888888888,\"#fdca26\"],[1.0,\"#f0f921\"]]}],\"mesh3d\":[{\"type\":\"mesh3d\",\"colorbar\":{\"outlinewidth\":0,\"ticks\":\"\"}}],\"scatter\":[{\"fillpattern\":{\"fillmode\":\"overlay\",\"size\":10,\"solidity\":0.2},\"type\":\"scatter\"}],\"parcoords\":[{\"type\":\"parcoords\",\"line\":{\"colorbar\":{\"outlinewidth\":0,\"ticks\":\"\"}}}],\"scatterpolargl\":[{\"type\":\"scatterpolargl\",\"marker\":{\"colorbar\":{\"outlinewidth\":0,\"ticks\":\"\"}}}],\"bar\":[{\"error_x\":{\"color\":\"#2a3f5f\"},\"error_y\":{\"color\":\"#2a3f5f\"},\"marker\":{\"line\":{\"color\":\"#E5ECF6\",\"width\":0.5},\"pattern\":{\"fillmode\":\"overlay\",\"size\":10,\"solidity\":0.2}},\"type\":\"bar\"}],\"scattergeo\":[{\"type\":\"scattergeo\",\"marker\":{\"colorbar\":{\"outlinewidth\":0,\"ticks\":\"\"}}}],\"scatterpolar\":[{\"type\":\"scatterpolar\",\"marker\":{\"colorbar\":{\"outlinewidth\":0,\"ticks\":\"\"}}}],\"histogram\":[{\"marker\":{\"pattern\":{\"fillmode\":\"overlay\",\"size\":10,\"solidity\":0.2}},\"type\":\"histogram\"}],\"scattergl\":[{\"type\":\"scattergl\",\"marker\":{\"colorbar\":{\"outlinewidth\":0,\"ticks\":\"\"}}}],\"scatter3d\":[{\"type\":\"scatter3d\",\"line\":{\"colorbar\":{\"outlinewidth\":0,\"ticks\":\"\"}},\"marker\":{\"colorbar\":{\"outlinewidth\":0,\"ticks\":\"\"}}}],\"scattermapbox\":[{\"type\":\"scattermapbox\",\"marker\":{\"colorbar\":{\"outlinewidth\":0,\"ticks\":\"\"}}}],\"scatterternary\":[{\"type\":\"scatterternary\",\"marker\":{\"colorbar\":{\"outlinewidth\":0,\"ticks\":\"\"}}}],\"scattercarpet\":[{\"type\":\"scattercarpet\",\"marker\":{\"colorbar\":{\"outlinewidth\":0,\"ticks\":\"\"}}}],\"carpet\":[{\"aaxis\":{\"endlinecolor\":\"#2a3f5f\",\"gridcolor\":\"white\",\"linecolor\":\"white\",\"minorgridcolor\":\"white\",\"startlinecolor\":\"#2a3f5f\"},\"baxis\":{\"endlinecolor\":\"#2a3f5f\",\"gridcolor\":\"white\",\"linecolor\":\"white\",\"minorgridcolor\":\"white\",\"startlinecolor\":\"#2a3f5f\"},\"type\":\"carpet\"}],\"table\":[{\"cells\":{\"fill\":{\"color\":\"#EBF0F8\"},\"line\":{\"color\":\"white\"}},\"header\":{\"fill\":{\"color\":\"#C8D4E3\"},\"line\":{\"color\":\"white\"}},\"type\":\"table\"}],\"barpolar\":[{\"marker\":{\"line\":{\"color\":\"#E5ECF6\",\"width\":0.5},\"pattern\":{\"fillmode\":\"overlay\",\"size\":10,\"solidity\":0.2}},\"type\":\"barpolar\"}],\"pie\":[{\"automargin\":true,\"type\":\"pie\"}]},\"layout\":{\"autotypenumbers\":\"strict\",\"colorway\":[\"#636efa\",\"#EF553B\",\"#00cc96\",\"#ab63fa\",\"#FFA15A\",\"#19d3f3\",\"#FF6692\",\"#B6E880\",\"#FF97FF\",\"#FECB52\"],\"font\":{\"color\":\"#2a3f5f\"},\"hovermode\":\"closest\",\"hoverlabel\":{\"align\":\"left\"},\"paper_bgcolor\":\"white\",\"plot_bgcolor\":\"#E5ECF6\",\"polar\":{\"bgcolor\":\"#E5ECF6\",\"angularaxis\":{\"gridcolor\":\"white\",\"linecolor\":\"white\",\"ticks\":\"\"},\"radialaxis\":{\"gridcolor\":\"white\",\"linecolor\":\"white\",\"ticks\":\"\"}},\"ternary\":{\"bgcolor\":\"#E5ECF6\",\"aaxis\":{\"gridcolor\":\"white\",\"linecolor\":\"white\",\"ticks\":\"\"},\"baxis\":{\"gridcolor\":\"white\",\"linecolor\":\"white\",\"ticks\":\"\"},\"caxis\":{\"gridcolor\":\"white\",\"linecolor\":\"white\",\"ticks\":\"\"}},\"coloraxis\":{\"colorbar\":{\"outlinewidth\":0,\"ticks\":\"\"}},\"colorscale\":{\"sequential\":[[0.0,\"#0d0887\"],[0.1111111111111111,\"#46039f\"],[0.2222222222222222,\"#7201a8\"],[0.3333333333333333,\"#9c179e\"],[0.4444444444444444,\"#bd3786\"],[0.5555555555555556,\"#d8576b\"],[0.6666666666666666,\"#ed7953\"],[0.7777777777777778,\"#fb9f3a\"],[0.8888888888888888,\"#fdca26\"],[1.0,\"#f0f921\"]],\"sequentialminus\":[[0.0,\"#0d0887\"],[0.1111111111111111,\"#46039f\"],[0.2222222222222222,\"#7201a8\"],[0.3333333333333333,\"#9c179e\"],[0.4444444444444444,\"#bd3786\"],[0.5555555555555556,\"#d8576b\"],[0.6666666666666666,\"#ed7953\"],[0.7777777777777778,\"#fb9f3a\"],[0.8888888888888888,\"#fdca26\"],[1.0,\"#f0f921\"]],\"diverging\":[[0,\"#8e0152\"],[0.1,\"#c51b7d\"],[0.2,\"#de77ae\"],[0.3,\"#f1b6da\"],[0.4,\"#fde0ef\"],[0.5,\"#f7f7f7\"],[0.6,\"#e6f5d0\"],[0.7,\"#b8e186\"],[0.8,\"#7fbc41\"],[0.9,\"#4d9221\"],[1,\"#276419\"]]},\"xaxis\":{\"gridcolor\":\"white\",\"linecolor\":\"white\",\"ticks\":\"\",\"title\":{\"standoff\":15},\"zerolinecolor\":\"white\",\"automargin\":true,\"zerolinewidth\":2},\"yaxis\":{\"gridcolor\":\"white\",\"linecolor\":\"white\",\"ticks\":\"\",\"title\":{\"standoff\":15},\"zerolinecolor\":\"white\",\"automargin\":true,\"zerolinewidth\":2},\"scene\":{\"xaxis\":{\"backgroundcolor\":\"#E5ECF6\",\"gridcolor\":\"white\",\"linecolor\":\"white\",\"showbackground\":true,\"ticks\":\"\",\"zerolinecolor\":\"white\",\"gridwidth\":2},\"yaxis\":{\"backgroundcolor\":\"#E5ECF6\",\"gridcolor\":\"white\",\"linecolor\":\"white\",\"showbackground\":true,\"ticks\":\"\",\"zerolinecolor\":\"white\",\"gridwidth\":2},\"zaxis\":{\"backgroundcolor\":\"#E5ECF6\",\"gridcolor\":\"white\",\"linecolor\":\"white\",\"showbackground\":true,\"ticks\":\"\",\"zerolinecolor\":\"white\",\"gridwidth\":2}},\"shapedefaults\":{\"line\":{\"color\":\"#2a3f5f\"}},\"annotationdefaults\":{\"arrowcolor\":\"#2a3f5f\",\"arrowhead\":0,\"arrowwidth\":1},\"geo\":{\"bgcolor\":\"white\",\"landcolor\":\"#E5ECF6\",\"subunitcolor\":\"white\",\"showland\":true,\"showlakes\":true,\"lakecolor\":\"white\"},\"title\":{\"x\":0.05},\"mapbox\":{\"style\":\"light\"}}},\"legend\":{\"tracegroupgap\":0},\"title\":{\"text\":\"Employment Length Distribution\"},\"margin\":{\"t\":50,\"l\":0,\"r\":0,\"b\":0}},                        {\"responsive\": true}                    ).then(function(){\n",
       "                            \n",
       "var gd = document.getElementById('b82c3c8e-2df2-40dd-adea-819527c393cc');\n",
       "var x = new MutationObserver(function (mutations, observer) {{\n",
       "        var display = window.getComputedStyle(gd).display;\n",
       "        if (!display || display === 'none') {{\n",
       "            console.log([gd, 'removed!']);\n",
       "            Plotly.purge(gd);\n",
       "            observer.disconnect();\n",
       "        }}\n",
       "}});\n",
       "\n",
       "// Listen for the removal of the full notebook cells\n",
       "var notebookContainer = gd.closest('#notebook-container');\n",
       "if (notebookContainer) {{\n",
       "    x.observe(notebookContainer, {childList: true});\n",
       "}}\n",
       "\n",
       "// Listen for the clearing of the current output cell\n",
       "var outputEl = gd.closest('.output');\n",
       "if (outputEl) {{\n",
       "    x.observe(outputEl, {childList: true});\n",
       "}}\n",
       "\n",
       "                        })                };                });            </script>        </div>"
      ]
     },
     "metadata": {},
     "output_type": "display_data"
    }
   ],
   "source": [
    "# Get value counts of employment lengths\n",
    "emp_length_counts = loan_df_filtered['emp_length'].value_counts()\n",
    "\n",
    "# Create tree map chart for employment lengths\n",
    "fig = px.treemap(names=emp_length_counts.index, parents=[\"Employment Length\"] * len(emp_length_counts), \n",
    "                 values=emp_length_counts.values, title='Employment Length Distribution')\n",
    "fig.update_layout(margin=dict(t=50, l=0, r=0, b=0))\n",
    "fig.show()\n"
   ]
  },
  {
   "cell_type": "code",
   "execution_count": null,
   "id": "11c72747",
   "metadata": {},
   "outputs": [],
   "source": [
    "# Most of the applications are having 10+ yrs of Exp."
   ]
  },
  {
   "cell_type": "code",
   "execution_count": null,
   "id": "831247e9",
   "metadata": {},
   "outputs": [],
   "source": [
    "#6 Bivariate Analysis"
   ]
  },
  {
   "cell_type": "code",
   "execution_count": 106,
   "id": "7dc08f45",
   "metadata": {},
   "outputs": [
    {
     "name": "stdout",
     "output_type": "stream",
     "text": [
      "loan_status annual_inc_b  Charged Off  Fully Paid  Total  \\\n",
      "0                0 - 40k         1570        7326   8896   \n",
      "1             50k to 60k          788        4435   5223   \n",
      "2              40k - 50k          807        4593   5400   \n",
      "3             60k to 70k          486        3261   3747   \n",
      "4             70k to 80k          385        2749   3134   \n",
      "5            80k - above          678        6113   6791   \n",
      "\n",
      "loan_status  Chargedoff_Proportion  \n",
      "0                         0.176484  \n",
      "1                         0.150871  \n",
      "2                         0.149444  \n",
      "3                         0.129704  \n",
      "4                         0.122846  \n",
      "5                         0.099838  \n"
     ]
    }
   ],
   "source": [
    "# Group by annual income range and loan status, and count the number of loans\n",
    "grouped_df = loan_df_filtered.groupby(['annual_inc_b', 'loan_status'])['loan_status'].count().unstack(fill_value=0)\n",
    "\n",
    "# Calculate total loans (charged off + fully paid) and charged-off proportion\n",
    "grouped_df['Total'] = grouped_df['Charged Off'] + grouped_df['Fully Paid']\n",
    "grouped_df['Chargedoff_Proportion'] = grouped_df['Charged Off'] / grouped_df['Total']\n",
    "\n",
    "# Sort by charged-off proportion in descending order\n",
    "grouped_df_sorted = grouped_df.sort_values('Chargedoff_Proportion', ascending=False)\n",
    "\n",
    "# Reset index to make the dataframe tidy\n",
    "inc_range_vs_loan = grouped_df_sorted.reset_index()\n",
    "\n",
    "# Display the result\n",
    "print(inc_range_vs_loan)\n"
   ]
  },
  {
   "cell_type": "code",
   "execution_count": 136,
   "id": "c933e673",
   "metadata": {},
   "outputs": [
    {
     "data": {
      "image/png": "[encoded data removed]",
      "text/plain": [
       "<Figure size 864x576 with 1 Axes>"
      ]
     },
     "metadata": {},
     "output_type": "display_data"
    }
   ],
   "source": [
    "# Set McKinsey color palette\n",
    "sns.set_palette([\"#0072CE\"])\n",
    "\n",
    "# Create bar plot\n",
    "plt.figure(figsize=(12, 8), facecolor='w')\n",
    "plt.title('Annual Income vs Chargedoff Proportion', fontsize=15, color='w')\n",
    "ax = sns.barplot(x='annual_inc_b', y='Chargedoff_Proportion', data=inc_range_vs_loan)\n",
    "ax.set_ylabel('Chargedoff Proportion', fontsize=14, color='w')\n",
    "ax.set_xlabel('Annual Income', fontsize=14, color='w')\n",
    "plt.show()"
   ]
  },
  {
   "cell_type": "code",
   "execution_count": null,
   "id": "3831ab53",
   "metadata": {},
   "outputs": [],
   "source": [
    "#Observations: - Income range 80000+ is less likely to be charged off. \n",
    "#Income range 0-20000 is more likely to be charged off. \n",
    "#The fraction of charged off accounts decreases with increasing yearly income.\n"
   ]
  },
  {
   "cell_type": "code",
   "execution_count": 111,
   "id": "166b5479",
   "metadata": {},
   "outputs": [
    {
     "name": "stdout",
     "output_type": "stream",
     "text": [
      "loan_status int_rate_b  Charged Off  Fully Paid  Total  Chargedoff_Proportion\n",
      "0            Very High         1670        4751   6421               0.260084\n",
      "1                 High          985        4851   5836               0.168780\n",
      "2             Moderate          961        5638   6599               0.145628\n",
      "3                  Low          579        4983   5562               0.104099\n",
      "4             Very Low          519        8254   8773               0.059159\n"
     ]
    }
   ],
   "source": [
    "# Group by interest rate range and loan status, and count the number of loans\n",
    "interest_vs_loan = loan_df_filtered.groupby(['int_rate_b', 'loan_status'])['loan_status'].count().unstack(fill_value=0)\n",
    "\n",
    "# Calculate total loans (charged off + fully paid) and charged-off proportion\n",
    "interest_vs_loan['Total'] = interest_vs_loan['Charged Off'] + interest_vs_loan['Fully Paid']\n",
    "interest_vs_loan['Chargedoff_Proportion'] = interest_vs_loan['Charged Off'] / interest_vs_loan['Total']\n",
    "\n",
    "# Sort by charged-off proportion in descending order\n",
    "interest_vs_loan_sorted = interest_vs_loan.sort_values('Chargedoff_Proportion', ascending=False)\n",
    "\n",
    "# Reset index to make the dataframe tidy\n",
    "interest_vs_loan_sorted.reset_index(inplace=True)\n",
    "\n",
    "# Display the result\n",
    "print(interest_vs_loan_sorted)\n"
   ]
  },
  {
   "cell_type": "code",
   "execution_count": 137,
   "id": "dca3820c",
   "metadata": {},
   "outputs": [
    {
     "data": {
      "image/png": "[encoded data removed]",
      "text/plain": [
       "<Figure size 864x576 with 1 Axes>"
      ]
     },
     "metadata": {},
     "output_type": "display_data"
    }
   ],
   "source": [
    "# Create the bar plot\n",
    "plt.figure(figsize=(12, 8), facecolor='w')\n",
    "plt.title('Interest Rate vs Chargedoff Proportion', fontsize=15, color='w')\n",
    "ax = sns.barplot(x='int_rate_b', y='Chargedoff_Proportion', data=interest_vs_loan_sorted)\n",
    "ax.set_xlabel('Interest Rate', fontsize=14, color='w')\n",
    "ax.set_ylabel('Chargedoff Proportion', fontsize=14, color='w')\n",
    "plt.show()"
   ]
  },
  {
   "cell_type": "code",
   "execution_count": null,
   "id": "6d37472e",
   "metadata": {},
   "outputs": [],
   "source": [
    "#Observations: Interest rates below 10% have a minimal possibility of being charged off. Interest rates start at a minimum of 5%.\n",
    "# Interest rates more than 16% or very high have a higher likelihood of being charged off when compared to other categories of interest rates.\n",
    "# The proportion of charged-off loans is growing as interest rates rise.\n",
    "\n"
   ]
  },
  {
   "cell_type": "code",
   "execution_count": 122,
   "id": "3a86ae19",
   "metadata": {},
   "outputs": [
    {
     "name": "stdout",
     "output_type": "stream",
     "text": [
      "loan_status home_ownership  Charged Off  Fully Paid  Total  \\\n",
      "0                    OTHER           16          73     89   \n",
      "1                     RENT         2488       14156  16644   \n",
      "2                      OWN          355        2121   2476   \n",
      "3                 MORTGAGE         1855       12127  13982   \n",
      "\n",
      "loan_status  Chargedoff_Proportion  \n",
      "0                         0.179775  \n",
      "1                         0.149483  \n",
      "2                         0.143376  \n",
      "3                         0.132671  \n"
     ]
    }
   ],
   "source": [
    "# Group by home ownership and loan status, and count the number of loans\n",
    "home_ownership_vs_loan = loan_df_filtered.groupby(['home_ownership', 'loan_status'])['loan_status'].count().unstack(fill_value=0)\n",
    "\n",
    "# Calculate total loans (charged off + fully paid) and charged-off proportion\n",
    "home_ownership_vs_loan['Total'] = home_ownership_vs_loan['Charged Off'] + home_ownership_vs_loan['Fully Paid']\n",
    "home_ownership_vs_loan['Chargedoff_Proportion'] = home_ownership_vs_loan['Charged Off'] / home_ownership_vs_loan['Total']\n",
    "\n",
    "# Sort by charged-off proportion in descending order\n",
    "home_ownership_vs_loan_sorted = home_ownership_vs_loan.sort_values('Chargedoff_Proportion', ascending=False)\n",
    "\n",
    "# Reset index to make the dataframe tidy\n",
    "home_ownership_vs_loan_sorted.reset_index(inplace=True)\n",
    "\n",
    "# Display the result\n",
    "print(home_ownership_vs_loan_sorted)"
   ]
  },
  {
   "cell_type": "code",
   "execution_count": 138,
   "id": "054ac8a1",
   "metadata": {},
   "outputs": [
    {
     "data": {
      "image/png": "[encoded data removed]",
      "text/plain": [
       "<Figure size 864x576 with 1 Axes>"
      ]
     },
     "metadata": {},
     "output_type": "display_data"
    }
   ],
   "source": [
    "# Create the bar plot\n",
    "plt.figure(figsize=(12, 8), facecolor='w')\n",
    "plt.title('Home Ownership vs Chargedoff Proportion', fontsize=15, color='w')\n",
    "ax = sns.barplot(x='home_ownership', y='Chargedoff_Proportion', data=home_ownership_vs_loan_sorted)\n",
    "ax.set_xlabel('Home Ownership', fontsize=14, color='w')\n",
    "ax.set_ylabel('Chargedoff Proportion', fontsize=14, color='w')\n",
    "plt.show()"
   ]
  },
  {
   "cell_type": "code",
   "execution_count": null,
   "id": "ae724212",
   "metadata": {},
   "outputs": [],
   "source": [
    "# observation:\n",
    "# Those who are not owning the home is having high chances of loan defaults."
   ]
  },
  {
   "cell_type": "code",
   "execution_count": 124,
   "id": "d0d80959",
   "metadata": {},
   "outputs": [
    {
     "name": "stdout",
     "output_type": "stream",
     "text": [
      "loan_status             purpose  Charged Off  Fully Paid  Total  \\\n",
      "0                small_business          366        1003   1369   \n",
      "1              renewable_energy           16          67     83   \n",
      "2                         house           49         249    298   \n",
      "3                   educational           46         235    281   \n",
      "4                         other          531        2823   3354   \n",
      "5                       medical           95         510    605   \n",
      "6                        moving           79         433    512   \n",
      "7            debt_consolidation         2329       13253  15582   \n",
      "8                      vacation           49         281    330   \n",
      "9              home_improvement          277        2026   2303   \n",
      "10                          car          150        1224   1374   \n",
      "11                  credit_card          450        3894   4344   \n",
      "12               major_purchase          195        1719   1914   \n",
      "13                      wedding           82         760    842   \n",
      "\n",
      "loan_status  Chargedoff_Proportion  \n",
      "0                         0.267348  \n",
      "1                         0.192771  \n",
      "2                         0.164430  \n",
      "3                         0.163701  \n",
      "4                         0.158318  \n",
      "5                         0.157025  \n",
      "6                         0.154297  \n",
      "7                         0.149467  \n",
      "8                         0.148485  \n",
      "9                         0.120278  \n",
      "10                        0.109170  \n",
      "11                        0.103591  \n",
      "12                        0.101881  \n",
      "13                        0.097387  \n"
     ]
    }
   ],
   "source": [
    "# Group by purpose and loan status, and count the number of loans\n",
    "purpose_vs_loan = loan_df_filtered.groupby(['purpose', 'loan_status'])['loan_status'].count().unstack(fill_value=0)\n",
    "\n",
    "# Calculate total loans (charged off + fully paid) and charged-off proportion\n",
    "purpose_vs_loan['Total'] = purpose_vs_loan['Charged Off'] + purpose_vs_loan['Fully Paid']\n",
    "purpose_vs_loan['Chargedoff_Proportion'] = purpose_vs_loan['Charged Off'] / purpose_vs_loan['Total']\n",
    "\n",
    "# Sort by charged-off proportion in descending order\n",
    "purpose_vs_loan_sorted = purpose_vs_loan.sort_values('Chargedoff_Proportion', ascending=False)\n",
    "\n",
    "# Reset index to make the dataframe tidy\n",
    "purpose_vs_loan_sorted.reset_index(inplace=True)\n",
    "\n",
    "# Display the result\n",
    "print(purpose_vs_loan_sorted)\n"
   ]
  },
  {
   "cell_type": "code",
   "execution_count": 139,
   "id": "40730ad1",
   "metadata": {},
   "outputs": [
    {
     "data": {
      "image/png": "[encoded data removed]",
      "text/plain": [
       "<Figure size 864x576 with 1 Axes>"
      ]
     },
     "metadata": {},
     "output_type": "display_data"
    }
   ],
   "source": [
    "# Create the bar plot\n",
    "plt.figure(figsize=(12, 8), facecolor='w')\n",
    "plt.title('Purpose vs Chargedoff Proportion', fontsize=15, color='w')\n",
    "ax = sns.barplot(x='purpose', y='Chargedoff_Proportion', data=purpose_vs_loan_sorted)\n",
    "ax.set_xlabel('Purpose of Loan', fontsize=14, color='w')\n",
    "ax.set_ylabel('Chargedoff Proportion', fontsize=14, color='w')\n",
    "plt.xticks(rotation=45)  # Rotate x-axis labels for better readability\n",
    "plt.show()"
   ]
  },
  {
   "cell_type": "code",
   "execution_count": null,
   "id": "895dabe5",
   "metadata": {},
   "outputs": [],
   "source": [
    "#1. Those applicants who is having home loan is having low chances of loan defaults.\n",
    "#2. Those applicants having loan for small bussiness is having high chances for loan defaults."
   ]
  },
  {
   "cell_type": "code",
   "execution_count": 126,
   "id": "b13cb628",
   "metadata": {},
   "outputs": [
    {
     "name": "stdout",
     "output_type": "stream",
     "text": [
      "loan_status      dti_b  Charged Off  Fully Paid  Total  Chargedoff_Proportion\n",
      "0            Very High         1044        5387   6431               0.162339\n",
      "1                 High          948        5111   6059               0.156461\n",
      "2             Moderate          985        5785   6770               0.145495\n",
      "3                  Low          789        5339   6128               0.128753\n",
      "4             Very Low          948        6855   7803               0.121492\n"
     ]
    }
   ],
   "source": [
    "# Group by DTI category and loan status, and count the number of loans\n",
    "dti_vs_loan = loan_df_filtered.groupby(['dti_b', 'loan_status'])['loan_status'].count().unstack(fill_value=0)\n",
    "\n",
    "# Calculate total loans (charged off + fully paid) and charged-off proportion\n",
    "dti_vs_loan['Total'] = dti_vs_loan['Charged Off'] + dti_vs_loan['Fully Paid']\n",
    "dti_vs_loan['Chargedoff_Proportion'] = dti_vs_loan['Charged Off'] / dti_vs_loan['Total']\n",
    "\n",
    "# Sort by charged-off proportion in descending order\n",
    "dti_vs_loan_sorted = dti_vs_loan.sort_values('Chargedoff_Proportion', ascending=False)\n",
    "\n",
    "# Reset index to make the dataframe tidy\n",
    "dti_vs_loan_sorted.reset_index(inplace=True)\n",
    "\n",
    "# Display the result\n",
    "print(dti_vs_loan_sorted)\n"
   ]
  },
  {
   "cell_type": "code",
   "execution_count": 140,
   "id": "b95c000d",
   "metadata": {},
   "outputs": [
    {
     "data": {
      "image/png": "[encoded data removed]",
      "text/plain": [
       "<Figure size 864x576 with 1 Axes>"
      ]
     },
     "metadata": {},
     "output_type": "display_data"
    }
   ],
   "source": [
    "# Create the bar plot\n",
    "plt.figure(figsize=(12, 8), facecolor='w')\n",
    "plt.title('Debt To Income Ratio vs Chargedoff Proportion', fontsize=15, color='w')\n",
    "ax = sns.barplot(x='dti_b', y='Chargedoff_Proportion', data=dti_vs_loan_sorted)\n",
    "ax.set_xlabel('Debt To Income Ratio', fontsize=14, color='w')\n",
    "ax.set_ylabel('Chargedoff Proportion', fontsize=14, color='w')\n",
    "plt.xticks(rotation=45)  # Rotate x-axis labels for better readability\n",
    "plt.show()"
   ]
  },
  {
   "cell_type": "code",
   "execution_count": null,
   "id": "a3ca8558",
   "metadata": {},
   "outputs": [],
   "source": [
    "# Observation:\n",
    "#1.High DTI value  having high risk of defaults\n",
    "# 2 Lower the DTO having low chances loan defaults."
   ]
  },
  {
   "cell_type": "code",
   "execution_count": 128,
   "id": "82d96688",
   "metadata": {},
   "outputs": [
    {
     "name": "stdout",
     "output_type": "stream",
     "text": [
      "0.0    31741\n",
      "1.0     1445\n",
      "2.0        5\n",
      "Name: pub_rec_bankruptcies, dtype: int64\n"
     ]
    }
   ],
   "source": [
    "pub_rec_bankruptcies_counts = loan_df_filtered['pub_rec_bankruptcies'].value_counts()\n",
    "print(pub_rec_bankruptcies_counts)"
   ]
  },
  {
   "cell_type": "code",
   "execution_count": 141,
   "id": "7e1805e5",
   "metadata": {},
   "outputs": [
    {
     "name": "stdout",
     "output_type": "stream",
     "text": [
      "loan_status  pub_rec_bankruptcies  Charged Off  Fully Paid  Total  \\\n",
      "0                             2.0            2           3      5   \n",
      "1                             1.0          308        1137   1445   \n",
      "2                             0.0         4404       27337  31741   \n",
      "\n",
      "loan_status  Chargedoff_Proportion  \n",
      "0                         0.400000  \n",
      "1                         0.213149  \n",
      "2                         0.138748  \n"
     ]
    },
    {
     "data": {
      "image/png": "[encoded data removed]",
      "text/plain": [
       "<Figure size 864x576 with 1 Axes>"
      ]
     },
     "metadata": {},
     "output_type": "display_data"
    }
   ],
   "source": [
    "# Group by 'pub_rec_bankruptcies' and 'loan_status', and count the number of loans\n",
    "pub_rec_bankruptcies_vs_loan = loan_df_filtered.groupby(['pub_rec_bankruptcies', 'loan_status'])['loan_status'].count().unstack(fill_value=0)\n",
    "\n",
    "# Calculate total loans (charged off + fully paid) and charged-off proportion\n",
    "pub_rec_bankruptcies_vs_loan['Total'] = pub_rec_bankruptcies_vs_loan['Charged Off'] + pub_rec_bankruptcies_vs_loan['Fully Paid']\n",
    "pub_rec_bankruptcies_vs_loan['Chargedoff_Proportion'] = pub_rec_bankruptcies_vs_loan['Charged Off'] / pub_rec_bankruptcies_vs_loan['Total']\n",
    "\n",
    "# Sort by charged-off proportion in descending order\n",
    "pub_rec_bankruptcies_vs_loan_sorted = pub_rec_bankruptcies_vs_loan.sort_values('Chargedoff_Proportion', ascending=False)\n",
    "\n",
    "# Reset index to make the dataframe tidy\n",
    "pub_rec_bankruptcies_vs_loan_sorted.reset_index(inplace=True)\n",
    "\n",
    "# Display the sorted dataframe\n",
    "print(pub_rec_bankruptcies_vs_loan_sorted)\n",
    "\n",
    "# Plotting the graph\n",
    "fig, ax1 = plt.subplots(figsize=(12, 8), facecolor='w')\n",
    "ax1.set_title('Bankruptcies Record vs Chargedoff Proportion', fontsize=15, color='w')\n",
    "ax1 = sns.barplot(x='pub_rec_bankruptcies', y='Chargedoff_Proportion', data=pub_rec_bankruptcies_vs_loan_sorted)\n",
    "ax1.set_xlabel('Bankruptcies Record', fontsize=14, color='w')\n",
    "ax1.set_ylabel('Chargedoff Proportion', fontsize=14, color='w')\n",
    "plt.xticks(rotation=45)  # Rotate x-axis labels for better readability\n",
    "plt.show()\n"
   ]
  },
  {
   "cell_type": "code",
   "execution_count": null,
   "id": "b00ca571",
   "metadata": {},
   "outputs": [],
   "source": [
    "# Observations: 1. Bankruptcies Record number 2 has a significant influence on debt defaults, namely bankruptcy. \n",
    "#2.Record with 0 has a modest influence on loan defaults.\n",
    "#3.Reduce the number of bankruptcies to reduce risk.\n"
   ]
  },
  {
   "cell_type": "code",
   "execution_count": 142,
   "id": "4eeeda89",
   "metadata": {},
   "outputs": [
    {
     "name": "stdout",
     "output_type": "stream",
     "text": [
      "loan_status  issue_year  Charged Off  Fully Paid  Total  Chargedoff_Proportion\n",
      "0                  2007            2           5      7               0.285714\n",
      "1                  2011         2705       14788  17493               0.154633\n",
      "2                  2008          158         880   1038               0.152216\n",
      "3                  2010         1312        9012  10324               0.127083\n",
      "4                  2009          537        3792   4329               0.124047\n"
     ]
    },
    {
     "data": {
      "image/png": "[encoded data removed]",
      "text/plain": [
       "<Figure size 864x576 with 1 Axes>"
      ]
     },
     "metadata": {},
     "output_type": "display_data"
    }
   ],
   "source": [
    "# Group by 'issue_year' and 'loan_status', and count the number of loans\n",
    "issue_year_vs_loan = loan_df_filtered.groupby(['issue_year', 'loan_status'])['loan_status'].count().unstack(fill_value=0)\n",
    "\n",
    "# Calculate total loans (charged off + fully paid) and charged-off proportion\n",
    "issue_year_vs_loan['Total'] = issue_year_vs_loan['Charged Off'] + issue_year_vs_loan['Fully Paid']\n",
    "issue_year_vs_loan['Chargedoff_Proportion'] = issue_year_vs_loan['Charged Off'] / issue_year_vs_loan['Total']\n",
    "\n",
    "# Sort by charged-off proportion in descending order\n",
    "issue_year_vs_loan_sorted = issue_year_vs_loan.sort_values('Chargedoff_Proportion', ascending=False)\n",
    "\n",
    "# Reset index to make the dataframe tidy\n",
    "issue_year_vs_loan_sorted.reset_index(inplace=True)\n",
    "\n",
    "# Display the sorted dataframe\n",
    "print(issue_year_vs_loan_sorted)\n",
    "\n",
    "# Plotting the graph\n",
    "fig, ax1 = plt.subplots(figsize=(12, 8), facecolor='w')\n",
    "ax1.set_title('Issue Year vs Chargedoff Proportion', fontsize=15, color='w')\n",
    "ax1 = sns.barplot(x='issue_year', y='Chargedoff_Proportion', data=issue_year_vs_loan_sorted)\n",
    "ax1.set_xlabel('Year', fontsize=14, color='w')\n",
    "ax1.set_ylabel('Chargedoff Proportion', fontsize=14, color='w')\n",
    "plt.xticks(rotation=45)  # Rotate x-axis labels for better readability\n",
    "plt.show()\n"
   ]
  },
  {
   "cell_type": "code",
   "execution_count": null,
   "id": "9deef4c4",
   "metadata": {},
   "outputs": [],
   "source": [
    "# Year 2007 is highest loan defaults.\n",
    "    # 2009 is having lowest loan defaults.\n"
   ]
  },
  {
   "cell_type": "code",
   "execution_count": 143,
   "id": "1577ae72",
   "metadata": {},
   "outputs": [
    {
     "name": "stdout",
     "output_type": "stream",
     "text": [
      "loan_status  issue_month  Charged Off  Fully Paid  Total  \\\n",
      "0                      9          477        2531   3008   \n",
      "1                     12          567        3034   3601   \n",
      "2                      5          401        2188   2589   \n",
      "3                     10          462        2693   3155   \n",
      "4                      6          410        2390   2800   \n",
      "5                     11          494        2976   3470   \n",
      "6                      7          415        2534   2949   \n",
      "7                      8          405        2562   2967   \n",
      "8                      1          260        1724   1984   \n",
      "9                      4          317        2176   2493   \n",
      "10                     3          282        1981   2263   \n",
      "11                     2          224        1688   1912   \n",
      "\n",
      "loan_status  Chargedoff_Proportion  \n",
      "0                         0.158577  \n",
      "1                         0.157456  \n",
      "2                         0.154886  \n",
      "3                         0.146434  \n",
      "4                         0.146429  \n",
      "5                         0.142363  \n",
      "6                         0.140726  \n",
      "7                         0.136502  \n",
      "8                         0.131048  \n",
      "9                         0.127156  \n",
      "10                        0.124613  \n",
      "11                        0.117155  \n"
     ]
    },
    {
     "data": {
      "image/png": "[encoded data removed]",
      "text/plain": [
       "<Figure size 864x576 with 1 Axes>"
      ]
     },
     "metadata": {},
     "output_type": "display_data"
    }
   ],
   "source": [
    "# Group by 'issue_month' and 'loan_status', and count the number of loans\n",
    "issue_month_vs_loan = loan_df_filtered.groupby(['issue_month', 'loan_status'])['loan_status'].count().unstack(fill_value=0)\n",
    "\n",
    "# Calculate total loans (charged off + fully paid) and charged-off proportion\n",
    "issue_month_vs_loan['Total'] = issue_month_vs_loan['Charged Off'] + issue_month_vs_loan['Fully Paid']\n",
    "issue_month_vs_loan['Chargedoff_Proportion'] = issue_month_vs_loan['Charged Off'] / issue_month_vs_loan['Total']\n",
    "\n",
    "# Sort by charged-off proportion in descending order\n",
    "issue_month_vs_loan_sorted = issue_month_vs_loan.sort_values('Chargedoff_Proportion', ascending=False)\n",
    "\n",
    "# Reset index to make the dataframe tidy\n",
    "issue_month_vs_loan_sorted.reset_index(inplace=True)\n",
    "\n",
    "# Display the sorted dataframe\n",
    "print(issue_month_vs_loan_sorted)\n",
    "\n",
    "# Plotting the graph\n",
    "fig, ax1 = plt.subplots(figsize=(12, 8), facecolor='w')\n",
    "ax1.set_title('Issue Month vs Chargedoff Proportion', fontsize=15, color='w')\n",
    "ax1 = sns.barplot(x='issue_month', y='Chargedoff_Proportion', data=issue_month_vs_loan_sorted)\n",
    "ax1.set_xlabel('Issue Month', fontsize=14, color='w')\n",
    "ax1.set_ylabel('Chargedoff Proportion', fontsize=14, color='w')\n",
    "plt.xticks(rotation=45)  # Rotate x-axis labels for better readability\n",
    "plt.show()\n"
   ]
  },
  {
   "cell_type": "code",
   "execution_count": null,
   "id": "8eca2880",
   "metadata": {},
   "outputs": [],
   "source": [
    "#1. Loans granted in May, September, and December have a high number of defaults.\n",
    "# 2. Loans issued in February have a high rate of defaults.\n",
    "#3. The majority of loan failures come from applicants whose loans were approved between September and December.\n"
   ]
  },
  {
   "cell_type": "code",
   "execution_count": 134,
   "id": "d6b89ad9",
   "metadata": {},
   "outputs": [
    {
     "name": "stdout",
     "output_type": "stream",
     "text": [
      "loan_status addr_state  Charged Off  Fully Paid  Total  Chargedoff_Proportion\n",
      "0                   TN            2           7      9               0.222222\n",
      "1                   NV           87         328    415               0.209639\n",
      "2                   HI           28         119    147               0.190476\n",
      "3                   AK           12          51     63               0.190476\n",
      "4                   SD           11          48     59               0.186441\n",
      "5                   NM           28         133    161               0.173913\n",
      "6                   FL          414        1990   2404               0.172213\n",
      "7                   MO           99         492    591               0.167513\n",
      "8                   OR           63         328    391               0.161125\n",
      "9                   GA          184         981   1165               0.157940\n",
      "10                  NJ          241        1290   1531               0.157413\n",
      "11                  CA          933        5038   5971               0.156255\n",
      "12                  MD          134         739    873               0.153494\n",
      "13                  NC           96         530    626               0.153355\n",
      "14                  WA          104         586    690               0.150725\n",
      "15                  KY           42         243    285               0.147368\n",
      "16                  NH           20         116    136               0.147059\n",
      "17                  OK           38         222    260               0.146154\n",
      "18                  SC           58         346    404               0.143564\n",
      "19                  WI           54         324    378               0.142857\n",
      "20                  AZ          103         622    725               0.142069\n",
      "21                  MI           84         518    602               0.139535\n",
      "22                  MN           74         464    538               0.137546\n",
      "23                  IL          173        1110   1283               0.134840\n",
      "24                  UT           29         187    216               0.134259\n",
      "25                  RI           24         155    179               0.134078\n",
      "26                  WV           20         130    150               0.133333\n",
      "27                  LA           48         316    364               0.131868\n",
      "28                  CT           80         528    608               0.131579\n",
      "29                  NY          408        2726   3134               0.130185\n",
      "30                  VA          149        1029   1178               0.126486\n",
      "31                  OH          131         910   1041               0.125841\n",
      "32                  AL           45         330    375               0.120000\n",
      "33                  VT            6          44     50               0.120000\n",
      "34                  AR           25         184    209               0.119617\n",
      "35                  CO           77         577    654               0.117737\n",
      "36                  MA          129         967   1096               0.117701\n",
      "37                  PA          152        1172   1324               0.114804\n",
      "38                  TX          254        1992   2246               0.113090\n",
      "39                  MT            8          65     73               0.109589\n",
      "40                  DE           11          90    101               0.108911\n",
      "41                  MS            2          17     19               0.105263\n",
      "42                  KS           22         198    220               0.100000\n",
      "43                  DC           10         163    173               0.057803\n",
      "44                  WY            2          66     68               0.029412\n",
      "45                  NE            0           1      1               0.000000\n",
      "46                  IN            0           1      1               0.000000\n",
      "47                  ID            0           3      3               0.000000\n",
      "48                  IA            0           1      1               0.000000\n"
     ]
    },
    {
     "data": {
      "image/png": "[encoded data removed]",
      "text/plain": [
       "<Figure size 864x576 with 1 Axes>"
      ]
     },
     "metadata": {},
     "output_type": "display_data"
    }
   ],
   "source": [
    "# Group by 'addr_state' and 'loan_status', and count the number of loans\n",
    "addr_state_vs_loan = loan_df_filtered.groupby(['addr_state', 'loan_status'])['loan_status'].count().unstack(fill_value=0)\n",
    "\n",
    "# Calculate total loans (charged off + fully paid) and charged-off proportion\n",
    "addr_state_vs_loan['Total'] = addr_state_vs_loan['Charged Off'] + addr_state_vs_loan['Fully Paid']\n",
    "addr_state_vs_loan['Chargedoff_Proportion'] = addr_state_vs_loan['Charged Off'] / addr_state_vs_loan['Total']\n",
    "\n",
    "# Sort by charged-off proportion in descending order\n",
    "addr_state_vs_loan_sorted = addr_state_vs_loan.sort_values('Chargedoff_Proportion', ascending=False)\n",
    "\n",
    "# Reset index to make the dataframe tidy\n",
    "addr_state_vs_loan_sorted.reset_index(inplace=True)\n",
    "\n",
    "# Display the sorted dataframe\n",
    "print(addr_state_vs_loan_sorted)\n",
    "\n",
    "# Plotting the graph\n",
    "fig, ax1 = plt.subplots(figsize=(12, 8), facecolor='w')\n",
    "ax1.set_title('State vs Chargedoff Proportion', fontsize=15, color='w')\n",
    "ax1 = sns.barplot(x='addr_state', y='Chargedoff_Proportion', data=addr_state_vs_loan_sorted)\n",
    "ax1.set_xlabel('State', fontsize=14, color='w')\n",
    "ax1.set_ylabel('Chargedoff Proportion', fontsize=14, color='w')\n",
    "plt.xticks(rotation=45)  # Rotate x-axis labels for better readability\n",
    "plt.show()\n"
   ]
  },
  {
   "cell_type": "code",
   "execution_count": null,
   "id": "71400ab2",
   "metadata": {},
   "outputs": [],
   "source": [
    "#Observations: 1. DE has the greatest number of loan defaults.\n",
    "#2. CA has a low number of loan defaults.\n"
   ]
  },
  {
   "cell_type": "code",
   "execution_count": 144,
   "id": "a2ad4fce",
   "metadata": {},
   "outputs": [
    {
     "name": "stdout",
     "output_type": "stream",
     "text": [
      "loan_status grade  Charged Off  Fully Paid  Total  Chargedoff_Proportion\n",
      "0               G           55         104    159               0.345912\n",
      "1               F          220         480    700               0.314286\n",
      "2               E          557        1518   2075               0.268434\n",
      "3               D          941        3329   4270               0.220375\n",
      "4               C         1177        5702   6879               0.171100\n",
      "5               B         1225        8857  10082               0.121504\n",
      "6               A          539        8487   9026               0.059716\n"
     ]
    },
    {
     "data": {
      "image/png": "[encoded data removed]",
      "text/plain": [
       "<Figure size 864x576 with 1 Axes>"
      ]
     },
     "metadata": {},
     "output_type": "display_data"
    }
   ],
   "source": [
    "# Group by 'grade' and 'loan_status', and count the number of loans\n",
    "grade_vs_loan = loan_df_filtered.groupby(['grade', 'loan_status'])['loan_status'].count().unstack(fill_value=0)\n",
    "\n",
    "# Calculate total loans (charged off + fully paid) and charged-off proportion\n",
    "grade_vs_loan['Total'] = grade_vs_loan['Charged Off'] + grade_vs_loan['Fully Paid']\n",
    "grade_vs_loan['Chargedoff_Proportion'] = grade_vs_loan['Charged Off'] / grade_vs_loan['Total']\n",
    "\n",
    "# Sort by charged-off proportion in descending order\n",
    "grade_vs_loan_sorted = grade_vs_loan.sort_values('Chargedoff_Proportion', ascending=False)\n",
    "\n",
    "# Reset index to make the dataframe tidy\n",
    "grade_vs_loan_sorted.reset_index(inplace=True)\n",
    "\n",
    "# Display the sorted dataframe\n",
    "print(grade_vs_loan_sorted)\n",
    "\n",
    "# Plotting the graph\n",
    "fig, ax1 = plt.subplots(figsize=(12, 8), facecolor='w')\n",
    "ax1.set_title('Grade vs Chargedoff Proportion', fontsize=15, color='w')\n",
    "ax1 = sns.barplot(x='grade', y='Chargedoff_Proportion', data=grade_vs_loan_sorted)\n",
    "ax1.set_xlabel('Grade', fontsize=14, color='w')\n",
    "ax1.set_ylabel('Chargedoff Proportion', fontsize=14, color='w')\n",
    "plt.xticks(rotation=45)  # Rotate x-axis labels for better readability\n",
    "plt.show()\n"
   ]
  },
  {
   "cell_type": "code",
   "execution_count": null,
   "id": "99165576",
   "metadata": {},
   "outputs": [],
   "source": [
    "#Observations: #1. Loan applicants with Loan Grade G have the highest loan default rates.\n",
    "#2. Loan applicants with loan A have the lowest loan defaults.\n"
   ]
  },
  {
   "cell_type": "code",
   "execution_count": null,
   "id": "84781b96",
   "metadata": {},
   "outputs": [],
   "source": [
    "#7 Correlation Analysis"
   ]
  },
  {
   "cell_type": "code",
   "execution_count": 147,
   "id": "7beb769e",
   "metadata": {},
   "outputs": [
    {
     "data": {
      "image/png": "[encoded data removed]",
      "text/plain": [
       "<Figure size 864x576 with 4 Axes>"
      ]
     },
     "metadata": {},
     "output_type": "display_data"
    }
   ],
   "source": [
    "# Compute the correlation matrix\n",
    "corr_loan = loan_df_filtered.corr()\n",
    "\n",
    "# Set the font scale\n",
    "sns.set(font_scale=1.1)\n",
    "\n",
    "# Plot the cluster map\n",
    "sns.clustermap(corr_loan, annot=True, figsize=(12, 8), cmap=\"Blues\")\n",
    "\n",
    "# Display the plot\n",
    "plt.show()\n"
   ]
  },
  {
   "cell_type": "code",
   "execution_count": 148,
   "id": "fa7ca6c8",
   "metadata": {},
   "outputs": [],
   "source": [
    "# Define the columns to drop\n",
    "drop_columns = ['installment', 'id', 'issue_year', 'issue_month']\n",
    "\n",
    "# Drop the specified columns\n",
    "corr_loan = corr_loan.drop(columns=drop_columns)\n"
   ]
  },
  {
   "cell_type": "code",
   "execution_count": 151,
   "id": "0b4ecfad",
   "metadata": {},
   "outputs": [
    {
     "data": {
      "image/png": "[encoded data removed]",
      "text/plain": [
       "<Figure size 864x576 with 4 Axes>"
      ]
     },
     "metadata": {},
     "output_type": "display_data"
    }
   ],
   "source": [
    "# Calculate the correlation matrix\n",
    "corr = corr_loan.corr()\n",
    "\n",
    "# Set the font scale\n",
    "sns.set(font_scale=1.1)\n",
    "\n",
    "# Create a clustered heatmap with annotations\n",
    "sns.clustermap(corr, annot=True, figsize=(12, 8), cmap=\"Blues\")\n",
    "\n",
    "# Display the plot\n",
    "plt.show()\n"
   ]
  },
  {
   "cell_type": "code",
   "execution_count": null,
   "id": "45f30597",
   "metadata": {},
   "outputs": [],
   "source": [
    "#Negative correlation:\n",
    "\n",
    "#1. loan_amnt shows a negative connection with pub_rec_bankruptcies.\n",
    "\n",
    "#2: Annual income shows a negative connection with dti.\n",
    "\n",
    "#Strong correlation:\n",
    "\n",
    "#1.term has a high association with the loan amount.\n",
    "\n",
    "#2.Term has a high association with interest rates.\n",
    "\n",
    "#3. Annual income has a high association with loan amount.\n"
   ]
  },
  {
   "cell_type": "code",
   "execution_count": 153,
   "id": "5a407e76",
   "metadata": {},
   "outputs": [
    {
     "data": {
      "image/png": "[encoded data removed]",
      "text/plain": [
       "<Figure size 432x288 with 1 Axes>"
      ]
     },
     "metadata": {},
     "output_type": "display_data"
    }
   ],
   "source": [
    "# Create a boxplot\n",
    "sns.boxplot(x=corr_loan['term'], y=corr_loan['loan_amnt'])\n",
    "\n",
    "# Show the plot\n",
    "plt.show()\n"
   ]
  },
  {
   "cell_type": "code",
   "execution_count": null,
   "id": "db81ba07",
   "metadata": {},
   "outputs": [],
   "source": [
    "#From the graph above, we can see that as the duration increases, so does the loan amount."
   ]
  },
  {
   "cell_type": "code",
   "execution_count": 154,
   "id": "19649107",
   "metadata": {},
   "outputs": [
    {
     "data": {
      "image/png": "[encoded data removed]",
      "text/plain": [
       "<Figure size 432x288 with 1 Axes>"
      ]
     },
     "metadata": {},
     "output_type": "display_data"
    }
   ],
   "source": [
    "# Create a boxplot\n",
    "sns.boxplot(x=corr_loan['term'], y=corr_loan['int_rate'])\n",
    "\n",
    "# Show the plot\n",
    "plt.show()\n"
   ]
  }
 ],
 "metadata": {
  "kernelspec": {
   "display_name": "Python 3 (ipykernel)",
   "language": "python",
   "name": "python3"
  },
  "language_info": {
   "codemirror_mode": {
    "name": "ipython",
    "version": 3
   },
   "file_extension": ".py",
   "mimetype": "text/x-python",
   "name": "python",
   "nbconvert_exporter": "python",
   "pygments_lexer": "ipython3",
   "version": "3.9.12"
  }
 },
 "nbformat": 4,
 "nbformat_minor": 5
}
